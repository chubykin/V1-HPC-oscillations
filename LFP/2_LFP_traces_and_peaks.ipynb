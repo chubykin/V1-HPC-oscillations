{
 "cells": [
  {
   "cell_type": "code",
   "execution_count": 1,
   "metadata": {},
   "outputs": [],
   "source": [
    "import os\n",
    "import glob\n",
    "import numpy as np\n",
    "import pandas as pd\n",
    "import pickle\n",
    "import matplotlib\n",
    "import matplotlib.pyplot as plt\n",
    "from matplotlib.gridspec import GridSpec\n",
    "import seaborn as sns\n",
    "\n",
    "from scipy.ndimage import gaussian_filter1d\n",
    "\n",
    "from scipy import stats\n",
    "import statsmodels.formula.api as smf\n",
    "\n",
    "sns.set_context('poster')\n",
    "matplotlib.rcParams['pdf.fonttype'] = 42\n",
    "matplotlib.rcParams['ps.fonttype'] = 42\n",
    "\n",
    "# import Python3_OpenOE_AC_map_functions_v1_08_30s as oem\n",
    "import mz_LFP_functions as mz_LFP\n",
    "\n",
    "#for the animation plot video at the very bottom!\n",
    "import matplotlib.animation as ani\n",
    "\n",
    "%matplotlib inline\n",
    "%load_ext autoreload\n",
    "%autoreload 2"
   ]
  },
  {
   "cell_type": "code",
   "execution_count": 2,
   "metadata": {},
   "outputs": [],
   "source": [
    "# for publication quality plots\n",
    "def set_pub_plots(pal=sns.blend_palette([\"gray\",\"crimson\", 'cyan', 'magenta', 'purple'  ],5)):\n",
    "    sns.set_style(\"white\")\n",
    "    sns.set_palette(pal)\n",
    "    sns.set_context(\"poster\", font_scale=1.5, rc={\"lines.linewidth\": 2.5, \"axes.linewidth\":2.5, 'figure.facecolor': 'white'}) \n",
    "    sns.set_style(\"ticks\", {\"xtick.major.size\": 8, \"ytick.major.size\": 8})\n",
    "    # optional, makes markers bigger, too, axes.linewidth doesn't seem to work\n",
    "    plt.rcParams['axes.linewidth'] = 2.5\n",
    "\n",
    "rc_pub={'font.size': 25, 'axes.labelsize': 25, 'legend.fontsize': 25.0, \n",
    "    'axes.titlesize': 25, 'xtick.labelsize': 25, 'ytick.labelsize': 25, \n",
    "    #'axes.color_cycle':pal, # image.cmap - rewritesd the default colormap\n",
    "    'axes.linewidth':2.5, 'lines.linewidth': 2.5,\n",
    "    'xtick.color': 'black', 'ytick.color': 'black', 'axes.edgecolor': 'black','axes.labelcolor':'black','text.color':'black'}\n",
    "# to restore the defaults, call plt.rcdefaults() \n",
    "\n",
    "#set_pub_bargraphs()\n",
    "set_pub_plots()"
   ]
  },
  {
   "cell_type": "code",
   "execution_count": null,
   "metadata": {},
   "outputs": [],
   "source": [
    "pal=sns.blend_palette(['gray','crimson'],2)\n",
    "sns.palplot(pal)\n",
    "sns.set_palette(pal)"
   ]
  },
  {
   "cell_type": "markdown",
   "metadata": {},
   "source": [
    "# Load some necessary variables"
   ]
  },
  {
   "cell_type": "code",
   "execution_count": null,
   "metadata": {},
   "outputs": [],
   "source": [
    "insert_depth = 3100  #change this as appropriate\n",
    "\n",
    "sp_bw_ch = 20/2\n",
    "\n",
    "surface_ch = np.round(insert_depth/sp_bw_ch)\n",
    "V1_hip_ch = np.round((insert_depth-1100)/sp_bw_ch)\n",
    "Hip_thal_ch = np.round((insert_depth-1100-1200)/sp_bw_ch)\n",
    "\n",
    "CA1_DG_ch = np.round((insert_depth-1100-600)/sp_bw_ch)\n",
    "\n",
    "print(surface_ch, V1_hip_ch, Hip_thal_ch, CA1_DG_ch)"
   ]
  },
  {
   "cell_type": "code",
   "execution_count": 5,
   "metadata": {},
   "outputs": [],
   "source": [
    "samples_tr = 7350 #this is based on the shortest #samples in a trial\n",
    "sr = 2500\n",
    "n_chan = 384\n",
    "rec_length = 3.0 #how long is the arduino triggered?"
   ]
  },
  {
   "cell_type": "markdown",
   "metadata": {},
   "source": [
    "---"
   ]
  },
  {
   "cell_type": "markdown",
   "metadata": {},
   "source": [
    "# First, load in the .npy arrays and CC_ls\n",
    "These were creaded and saved using the \"1_saving_LFP_arrays\" jupyter notebook"
   ]
  },
  {
   "cell_type": "code",
   "execution_count": 6,
   "metadata": {},
   "outputs": [],
   "source": [
    "all_pre_arr = np.load(r\"D:\\\\pre_all_rew.npy\")\n",
    "all_post_arr = np.load(r\"D:\\\\post_all_rew.npy\")\n",
    "all_novel_arr = np.load(r\"D:\\\\novel_all_rew.npy\")"
   ]
  },
  {
   "cell_type": "code",
   "execution_count": null,
   "metadata": {},
   "outputs": [],
   "source": [
    "pkl_file = r\"D:\\\\pre_et_ls\"\n",
    "\n",
    "open_file = open(pkl_file, \"rb\")\n",
    "et_ls_pre = pickle.load(open_file)\n",
    "open_file.close()\n",
    "\n",
    "et_ls_pre"
   ]
  },
  {
   "cell_type": "code",
   "execution_count": null,
   "metadata": {},
   "outputs": [],
   "source": [
    "pkl_file = r\"D:\\\\post_et_ls\"\n",
    "\n",
    "open_file = open(pkl_file, \"rb\")\n",
    "et_ls_post = pickle.load(open_file)\n",
    "open_file.close()\n",
    "\n",
    "et_ls_post"
   ]
  },
  {
   "cell_type": "code",
   "execution_count": null,
   "metadata": {},
   "outputs": [],
   "source": [
    "pkl_file = r\"D:\\\\novel_et_ls\"\n",
    "\n",
    "open_file = open(pkl_file, \"rb\")\n",
    "et_ls_novel = pickle.load(open_file)\n",
    "open_file.close()\n",
    "\n",
    "et_ls_novel"
   ]
  },
  {
   "cell_type": "markdown",
   "metadata": {},
   "source": [
    "---"
   ]
  },
  {
   "cell_type": "markdown",
   "metadata": {},
   "source": [
    "# Plot the VEP ch trace\n",
    "\n",
    "### First, we have to define a function\n",
    "- dko: \n",
    "- h4ko: \n",
    "- h5ko: \n",
    "- wt: "
   ]
  },
  {
   "cell_type": "code",
   "execution_count": 10,
   "metadata": {},
   "outputs": [],
   "source": [
    "def VEP_lines(data_array, et_ls): #expand this to separate dko, h4ko, h5ko, and wt\n",
    "    dko = []\n",
    "    wt = []\n",
    "    for i in range(data_array.shape[0]):\n",
    "        if (et_ls[i]==\"et305\")|(et_ls[i]==\"et3052\")|(et_ls[i]==\"et3053\")|(et_ls[i]==\"et320\")|(et_ls[i]==\"et3202\")|(et_ls[i]==\"et3203\")|(et_ls[i]==\"et379\")|(et_ls[i]==\"et3792\")|(et_ls[i]==\"et382\")|(et_ls[i]==\"et3822\"):\n",
    "            dko.append(data_array[i])\n",
    "        else:\n",
    "            wt.append(data_array[i])\n",
    "\n",
    "    dko_arr = np.array(dko)\n",
    "    wt_arr = np.array(wt)\n",
    "\n",
    "    mean_dko = dko_arr.mean(axis=0)\n",
    "    mean_wt = wt_arr.mean(axis=0)\n",
    "\n",
    "    print('Group dko array: {0}'.format(dko_arr.shape))\n",
    "    print('Group dko mean: {0}'.format(mean_dko.shape))\n",
    "\n",
    "    print('Group wt array: {0}'.format(wt_arr.shape))\n",
    "    print('Group wt mean: {0}'.format(mean_wt.shape))\n",
    "\n",
    "    V1_dko = mean_dko[250:275, :]\n",
    "    min_dko = np.where(V1_dko == np.amin(V1_dko))\n",
    "    min_ch_dko = min_dko[0][0] + 249\n",
    "    print(min_ch_dko)\n",
    "\n",
    "    V1_wt = mean_wt[250:275, :]\n",
    "    min_wt = np.where(V1_wt == np.amin(V1_wt))\n",
    "    min_ch_wt = min_wt[0][0] + 249\n",
    "    print(min_ch_wt)\n",
    "    \n",
    "    return mean_dko, mean_wt, min_ch_dko, min_ch_wt"
   ]
  },
  {
   "cell_type": "markdown",
   "metadata": {},
   "source": [
    "### Second, apply the function to the three situations"
   ]
  },
  {
   "cell_type": "code",
   "execution_count": null,
   "metadata": {},
   "outputs": [],
   "source": [
    "# Rewarded with water\n",
    "pre_mean_dko, pre_mean_wt, pre_minch_dko, pre_minch_wt = VEP_lines(all_pre_arr, et_ls_pre)"
   ]
  },
  {
   "cell_type": "code",
   "execution_count": null,
   "metadata": {},
   "outputs": [],
   "source": [
    "# Rewarded without water\n",
    "post_mean_dko, post_mean_wt, post_minch_dko, post_minch_wt = VEP_lines(all_post_arr, et_ls_post)"
   ]
  },
  {
   "cell_type": "code",
   "execution_count": null,
   "metadata": {},
   "outputs": [],
   "source": [
    "# Unrewarded\n",
    "novel_mean_dko, novel_mean_wt, novel_minch_dko, novel_minch_wt = VEP_lines(all_novel_arr, et_ls_novel)"
   ]
  },
  {
   "cell_type": "markdown",
   "metadata": {},
   "source": [
    "## Aside, can check individual mice if you want!"
   ]
  },
  {
   "cell_type": "code",
   "execution_count": 28,
   "metadata": {},
   "outputs": [],
   "source": [
    "def plot_mouse_Vep(array, channel, group):\n",
    "    plt.figure(figsize=(10, 5))\n",
    "    if group == 'wt':\n",
    "        plt_color = 'grey'\n",
    "    elif group == 'dko':\n",
    "        plt_color = 'crimson'\n",
    "    mean_ch_traceA = array[channel,:]\n",
    "    time_arr2_A = np.linspace(0, mean_ch_traceA.shape[0]/sr, mean_ch_traceA.shape[0])\n",
    "    plt.plot(time_arr2_A, mean_ch_traceA, label='wt', color=plt_color)\n",
    "    plt.xlabel('Time (s)')\n",
    "    plt.ylabel('uV')\n",
    "    plt.ylim([-400,300])\n",
    "    plt.axvspan(0.5, 0.7, alpha=0.2, facecolor='b')\n",
    "    plt.show()\n",
    "    \n",
    "def VEP_lines_all_mice(data_array, et_ls):\n",
    "    dko = []\n",
    "    wt = []\n",
    "    for i in range(data_array.shape[0]):\n",
    "        if (et_ls[i]==\"et305\")|(et_ls[i]==\"et3052\")|(et_ls[i]==\"et3053\")|(et_ls[i]==\"et320\")|(et_ls[i]==\"et3202\")|(et_ls[i]==\"et3203\")|(et_ls[i]==\"et379\")|(et_ls[i]==\"et3792\")|(et_ls[i]==\"et382\")|(et_ls[i]==\"et3822\"):\n",
    "            dko.append(data_array[i])\n",
    "        else:\n",
    "            wt.append(data_array[i])\n",
    "    dko_arr = np.array(dko)\n",
    "    wt_arr = np.array(wt)\n",
    "    return dko_arr, wt_arr\n",
    "\n",
    "def single_mouse_Veps(big_array, avg_ch, my_group):\n",
    "    for mouse, m_arr in enumerate(big_array):\n",
    "        print('Mouse index {}'.format(mouse))\n",
    "        plot_mouse_Vep(m_arr, avg_ch, group=my_group)"
   ]
  },
  {
   "cell_type": "code",
   "execution_count": 20,
   "metadata": {},
   "outputs": [],
   "source": [
    "# Rewarded with water\n",
    "pre_all_dko, pre_all_wt = VEP_lines_all_mice(all_pre_arr, et_ls_pre)\n",
    "# Rewarded without water\n",
    "post_all_dko, post_all_wt = VEP_lines_all_mice(all_post_arr, et_ls_post)\n",
    "# Unrewarded\n",
    "novel_all_dko, novel_all_wt = VEP_lines_all_mice(all_novel_arr, et_ls_novel)"
   ]
  },
  {
   "cell_type": "code",
   "execution_count": null,
   "metadata": {},
   "outputs": [],
   "source": [
    "# Pre Training individual mice\n",
    "single_mouse_Veps(pre_all_dko, pre_minch_dko, my_group='dko')\n",
    "single_mouse_Veps(pre_all_wt, pre_minch_wt, my_group='wt')"
   ]
  },
  {
   "cell_type": "code",
   "execution_count": null,
   "metadata": {},
   "outputs": [],
   "source": [
    "# Post Training individual mice\n",
    "single_mouse_Veps(post_all_dko, post_minch_dko, my_group='dko')\n",
    "single_mouse_Veps(post_all_wt, post_minch_wt, my_group='wt')"
   ]
  },
  {
   "cell_type": "code",
   "execution_count": null,
   "metadata": {},
   "outputs": [],
   "source": [
    "# Novel individual mice\n",
    "single_mouse_Veps(novel_all_dko, novel_minch_dko, my_group='dko')\n",
    "single_mouse_Veps(novel_all_wt, novel_minch_wt, my_group='wt')"
   ]
  },
  {
   "cell_type": "code",
   "execution_count": null,
   "metadata": {},
   "outputs": [],
   "source": []
  },
  {
   "cell_type": "markdown",
   "metadata": {},
   "source": [
    "### Finally, you can plot the graphs"
   ]
  },
  {
   "cell_type": "code",
   "execution_count": null,
   "metadata": {},
   "outputs": [],
   "source": [
    "plt.figure(figsize=(10, 5))\n",
    "\n",
    "mean_ch_traceA = pre_mean_wt[pre_minch_wt,:]\n",
    "time_arr2_A = np.linspace(0, mean_ch_traceA.shape[0]/sr, mean_ch_traceA.shape[0])\n",
    "\n",
    "mean_ch_traceB = pre_mean_dko[pre_minch_dko,:]\n",
    "time_arr2_B = np.linspace(0, mean_ch_traceB.shape[0]/sr, mean_ch_traceB.shape[0])\n",
    "\n",
    "plt.plot(time_arr2_A, mean_ch_traceA, label='wt', color='grey')\n",
    "plt.plot(time_arr2_B, mean_ch_traceB, label='dko', color='crimson')\n",
    "plt.legend(loc=\"lower right\")\n",
    "\n",
    "plt.title('Pre-training')\n",
    "plt.xlabel('Time (s)')\n",
    "plt.ylabel('uV')\n",
    "plt.ylim([-400,300])\n",
    "plt.axvspan(0.5, 0.7, alpha=0.2, facecolor='b')\n",
    "\n",
    "# Change the end of this next line with a new file name!!\n",
    "# plt.savefig(r\"D:\\mz_Data\\DATA_Figs\\HDAC\\LFP\\pre_VEP_trace.pdf\", transparent=True) # fix this before running\n",
    "\n",
    "plt.show()"
   ]
  },
  {
   "cell_type": "code",
   "execution_count": null,
   "metadata": {},
   "outputs": [],
   "source": [
    "plt.figure(figsize=(10, 5))\n",
    "\n",
    "mean_ch_traceA = post_mean_wt[post_minch_wt,:]\n",
    "time_arr2_A = np.linspace(0, mean_ch_traceA.shape[0]/sr, mean_ch_traceA.shape[0])\n",
    "\n",
    "mean_ch_traceB = post_mean_dko[post_minch_dko,:]\n",
    "time_arr2_B = np.linspace(0, mean_ch_traceB.shape[0]/sr, mean_ch_traceB.shape[0])\n",
    "\n",
    "plt.plot(time_arr2_A, mean_ch_traceA, label='wt', color='grey')\n",
    "plt.plot(time_arr2_B, mean_ch_traceB, label='dko', color='crimson')\n",
    "plt.legend(loc=\"lower right\")\n",
    "\n",
    "plt.title('Post-training')\n",
    "plt.xlabel('Time (s)')\n",
    "plt.ylabel('uV')\n",
    "plt.ylim([-400,300])\n",
    "plt.axvspan(0.5, 0.7, alpha=0.2, facecolor='b')\n",
    "\n",
    "# Change the end of this next line with a new file name!!\n",
    "# plt.savefig(r\"D:\\mz_Data\\DATA_Figs\\HDAC\\LFP\\post_VEP_trace.pdf\", transparent=True) # fix this before running\n",
    "\n",
    "plt.show()"
   ]
  },
  {
   "cell_type": "code",
   "execution_count": null,
   "metadata": {},
   "outputs": [],
   "source": [
    "plt.figure(figsize=(10, 5))\n",
    "\n",
    "mean_ch_traceA = novel_mean_wt[novel_minch_wt,:]\n",
    "time_arr2_A = np.linspace(0, mean_ch_traceA.shape[0]/sr, mean_ch_traceA.shape[0])\n",
    "\n",
    "mean_ch_traceB = novel_mean_dko[novel_minch_dko,:]\n",
    "time_arr2_B = np.linspace(0, mean_ch_traceB.shape[0]/sr, mean_ch_traceB.shape[0])\n",
    "\n",
    "plt.plot(time_arr2_A, mean_ch_traceA, label='wt', color='grey')\n",
    "plt.plot(time_arr2_B, mean_ch_traceB, label='dko', color='crimson')\n",
    "plt.legend(loc=\"lower right\")\n",
    "\n",
    "plt.title('Novel')\n",
    "plt.xlabel('Time (s)')\n",
    "plt.ylabel('uV')\n",
    "plt.ylim([-400,300])\n",
    "plt.axvspan(0.5, 0.7, alpha=0.2, facecolor='b')\n",
    "\n",
    "# Change the end of this next line with a new file name!!\n",
    "# plt.savefig(r\"D:\\mz_Data\\DATA_Figs\\HDAC\\LFP\\novel_VEP_trace.pdf\", transparent=True) # fix this before running\n",
    "\n",
    "plt.show()"
   ]
  },
  {
   "cell_type": "markdown",
   "metadata": {},
   "source": [
    "---"
   ]
  },
  {
   "cell_type": "markdown",
   "metadata": {},
   "source": [
    "# Finding the VEP peaks in each situation\n"
   ]
  },
  {
   "cell_type": "code",
   "execution_count": 46,
   "metadata": {},
   "outputs": [],
   "source": [
    "time_win=[[0.55,0.75],   # VEP 1 time frame\n",
    "          [0.76,0.85],  # VEP 2 time frame\n",
    "          [0.86,1],     # VEP 3 time frame\n",
    "          [1.05,1.15],  # VEP 4 time frame\n",
    "          [1.2,1.4]]    # VEP 5 time frame\n",
    "\n",
    "\n",
    "time_win=[[i[0]*sr,i[1]*sr] for i in time_win]\n",
    "depth_b=[[200,300],[0,200]] #V1 bounds and hippocampus/Thalamus bounds\n"
   ]
  },
  {
   "cell_type": "code",
   "execution_count": null,
   "metadata": {},
   "outputs": [],
   "source": [
    "pre_V1vepdf = mz_LFP.create_vepamp_df(all_pre_arr, time_windows=time_win, depth_bounds=depth_b)\n",
    "post_V1vepdf = mz_LFP.create_vepamp_df(all_post_arr, time_windows=time_win, depth_bounds=depth_b)\n",
    "novel_V1vepdf = mz_LFP.create_vepamp_df(all_novel_arr, time_windows=time_win, depth_bounds=depth_b)\n",
    "\n",
    "# r1_V1vepdf.head()"
   ]
  },
  {
   "cell_type": "markdown",
   "metadata": {},
   "source": [
    "### Second, we add in some additonal info to the dfs"
   ]
  },
  {
   "cell_type": "code",
   "execution_count": 48,
   "metadata": {},
   "outputs": [],
   "source": [
    "et_ls = et_ls_pre\n",
    "\n",
    "et_dfls = []\n",
    "groupls = []\n",
    "for i in pre_V1vepdf.rec_ind:\n",
    "    et_dfls.append(et_ls[i])\n",
    "    if (et_ls[i]==\"et382\")|(et_ls[i]==\"et376\")|(et_ls[i]==\"et379\")|(et_ls[i]==\"et3792\")|(et_ls[i]==\"et305\")|(et_ls[i]==\"et326\")|(et_ls[i]==\"et320\")|(et_ls[i]==\"et3202\"):\n",
    "        groupls.append(\"dko\")\n",
    "    else:\n",
    "        groupls.append(\"wt\")\n",
    "\n",
    "pre_V1vepdf[\"et\"] = et_dfls\n",
    "pre_V1vepdf[\"group\"] = groupls"
   ]
  },
  {
   "cell_type": "code",
   "execution_count": 49,
   "metadata": {},
   "outputs": [],
   "source": [
    "et_ls = et_ls_post\n",
    "\n",
    "et_dfls = []\n",
    "groupls = []\n",
    "for i in post_V1vepdf.rec_ind:\n",
    "    et_dfls.append(et_ls[i])\n",
    "    if (et_ls[i]==\"et382\")|(et_ls[i]==\"et376\")|(et_ls[i]==\"et379\")|(et_ls[i]==\"et3792\")|(et_ls[i]==\"et305\")|(et_ls[i]==\"et326\")|(et_ls[i]==\"et320\")|(et_ls[i]==\"et3202\"):\n",
    "        groupls.append(\"dko\")\n",
    "    else:\n",
    "        groupls.append(\"wt\")\n",
    "\n",
    "post_V1vepdf[\"et\"] = et_dfls\n",
    "post_V1vepdf[\"group\"] = groupls"
   ]
  },
  {
   "cell_type": "code",
   "execution_count": 50,
   "metadata": {},
   "outputs": [],
   "source": [
    "et_ls = et_ls_novel\n",
    "\n",
    "et_dfls = []\n",
    "groupls = []\n",
    "for i in novel_V1vepdf.rec_ind:\n",
    "    et_dfls.append(et_ls[i])\n",
    "    if (et_ls[i]==\"et382\")|(et_ls[i]==\"et376\")|(et_ls[i]==\"et379\")|(et_ls[i]==\"et3792\")|(et_ls[i]==\"et305\")|(et_ls[i]==\"et326\")|(et_ls[i]==\"et320\")|(et_ls[i]==\"et3202\"):\n",
    "        groupls.append(\"dko\")\n",
    "    else:\n",
    "        groupls.append(\"wt\")\n",
    "\n",
    "novel_V1vepdf[\"et\"] = et_dfls\n",
    "novel_V1vepdf[\"group\"] = groupls"
   ]
  },
  {
   "cell_type": "code",
   "execution_count": null,
   "metadata": {},
   "outputs": [],
   "source": [
    "pre_V1vepdf.head()"
   ]
  },
  {
   "cell_type": "markdown",
   "metadata": {},
   "source": [
    "### Finally, we can plot the quantification results"
   ]
  },
  {
   "cell_type": "code",
   "execution_count": null,
   "metadata": {},
   "outputs": [],
   "source": [
    "sns.catplot(data=pre_V1vepdf,\n",
    "            x='vep',\n",
    "            y='vepamp',\n",
    "            kind='point',\n",
    "            hue='group',\n",
    "            ci=68,\n",
    "            legend=False,\n",
    "            hue_order=['wt','dko'],\n",
    "            height = 4.5,\n",
    "            aspect=1.5,\n",
    "            palette=sns.color_palette(['grey', 'crimson'])\n",
    "           )\n",
    "\n",
    "# plt.legend(loc=\"lower right\")\n",
    "plt.ylabel('uV')\n",
    "plt.xlabel('Oscillation Cycle')\n",
    "plt.title('Pre training')\n",
    "plt.ylim([0,500])\n",
    "plt.yticks([0,250,500])\n",
    "\n",
    "# Change the end of this next line with a new file name!!\n",
    "# plt.savefig(r\"D:\\\\pre_VEP_quant.pdf\", transparent=True)\n",
    "\n",
    "plt.show()"
   ]
  },
  {
   "cell_type": "markdown",
   "metadata": {},
   "source": [
    "---"
   ]
  },
  {
   "cell_type": "markdown",
   "metadata": {},
   "source": [
    "# Testing the stats about the above plots\n",
    "### Overall test for the genotypes (wt vs dko)"
   ]
  },
  {
   "cell_type": "code",
   "execution_count": null,
   "metadata": {},
   "outputs": [],
   "source": [
    "pre_stats, pre_fstats = mz_LFP.VEP_overall_stats(pre_V1vepdf, group_ls=['wt','dko'])\n",
    "post_stats, post_fstats = mz_LFP.VEP_overall_stats(post_V1vepdf, group_ls=['wt','dko'])\n",
    "novel_stats, novel_fstats = mz_LFP.VEP_overall_stats(novel_V1vepdf, group_ls=['wt','dko'])"
   ]
  },
  {
   "cell_type": "code",
   "execution_count": null,
   "metadata": {},
   "outputs": [],
   "source": [
    "print('~~~~~ Pre training ~~~~~')\n",
    "print(pre_stats)\n",
    "print(pre_fstats)"
   ]
  },
  {
   "cell_type": "code",
   "execution_count": null,
   "metadata": {},
   "outputs": [],
   "source": [
    "print('~~~~~ Post training ~~~~~')\n",
    "print(post_stats)\n",
    "print(post_fstats)"
   ]
  },
  {
   "cell_type": "code",
   "execution_count": null,
   "metadata": {},
   "outputs": [],
   "source": [
    "print('~~~~~ Novel ~~~~~')\n",
    "print(novel_stats)\n",
    "print(novel_fstats)"
   ]
  },
  {
   "cell_type": "markdown",
   "metadata": {},
   "source": [
    "### Individual tests for each vep peak"
   ]
  },
  {
   "cell_type": "code",
   "execution_count": 91,
   "metadata": {},
   "outputs": [],
   "source": [
    "prepeak_stats, prepeak_fstats = mz_LFP.VEP_peaks_stats(pre_V1vepdf, group_ls=['wt','dko'])\n",
    "postpeak_stats, postpeak_fstats = mz_LFP.VEP_peaks_stats(post_V1vepdf, group_ls=['wt','dko'])\n",
    "novelpeak_stats, novelpeak_fstats = mz_LFP.VEP_peaks_stats(novel_V1vepdf, group_ls=['wt','dko'])"
   ]
  },
  {
   "cell_type": "code",
   "execution_count": null,
   "metadata": {},
   "outputs": [],
   "source": [
    "print('~~~~~ Pre training ~~~~~')\n",
    "print(prepeak_stats)\n",
    "print(prepeak_fstats)"
   ]
  },
  {
   "cell_type": "code",
   "execution_count": null,
   "metadata": {},
   "outputs": [],
   "source": [
    "print('~~~~~ Post training ~~~~~')\n",
    "print(postpeak_stats)\n",
    "print(postpeak_fstats)"
   ]
  },
  {
   "cell_type": "code",
   "execution_count": null,
   "metadata": {},
   "outputs": [],
   "source": [
    "print('~~~~~ Novel ~~~~~')\n",
    "print(novelpeak_stats)\n",
    "print(novelpeak_fstats)"
   ]
  },
  {
   "cell_type": "markdown",
   "metadata": {},
   "source": [
    "### Linear Mixed Model analysis\n",
    "First, for the Amp values x Vep # with a comparison between groups\n",
    "\n",
    "Second, for the Amp values x group with a comparison between Vep #"
   ]
  },
  {
   "cell_type": "code",
   "execution_count": null,
   "metadata": {
    "scrolled": true
   },
   "outputs": [],
   "source": [
    "pre_mdf1, pre_mdf2 = mz_LFP.LMM_stats(pre_V1vepdf)\n",
    "print(pre_mdf1.pvalues)\n",
    "print(pre_mdf2.pvalues)"
   ]
  },
  {
   "cell_type": "code",
   "execution_count": null,
   "metadata": {
    "scrolled": true
   },
   "outputs": [],
   "source": [
    "post_mdf1, post_mdf2 = mz_LFP.LMM_stats(post_V1vepdf)\n",
    "print(post_mdf1.pvalues)\n",
    "print(post_mdf2.pvalues)"
   ]
  },
  {
   "cell_type": "code",
   "execution_count": null,
   "metadata": {
    "scrolled": true
   },
   "outputs": [],
   "source": [
    "novel_mdf1, novel_mdf2 = mz_LFP.LMM_stats(novel_V1vepdf)\n",
    "print(novel_mdf1.pvalues)\n",
    "print(novel_mdf2.pvalues)"
   ]
  },
  {
   "cell_type": "markdown",
   "metadata": {},
   "source": [
    "---"
   ]
  },
  {
   "cell_type": "markdown",
   "metadata": {},
   "source": [
    "---"
   ]
  }
 ],
 "metadata": {
  "kernelspec": {
   "display_name": "Python 3",
   "language": "python",
   "name": "python3"
  },
  "language_info": {
   "codemirror_mode": {
    "name": "ipython",
    "version": 3
   },
   "file_extension": ".py",
   "mimetype": "text/x-python",
   "name": "python",
   "nbconvert_exporter": "python",
   "pygments_lexer": "ipython3",
   "version": "3.8.10"
  }
 },
 "nbformat": 4,
 "nbformat_minor": 4
}
