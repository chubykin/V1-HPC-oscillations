{
 "cells": [
  {
   "cell_type": "code",
   "execution_count": 24,
   "metadata": {},
   "outputs": [
    {
     "name": "stdout",
     "output_type": "stream",
     "text": [
      "The autoreload extension is already loaded. To reload it, use:\n",
      "  %reload_ext autoreload\n"
     ]
    }
   ],
   "source": [
    "import os\n",
    "import glob\n",
    "import numpy as np\n",
    "import pandas as pd\n",
    "import pickle\n",
    "import matplotlib\n",
    "import matplotlib.pyplot as plt\n",
    "from matplotlib.gridspec import GridSpec\n",
    "import seaborn as sns\n",
    "\n",
    "from scipy.ndimage import gaussian_filter1d\n",
    "from scipy import stats\n",
    "import statsmodels.formula.api as smf\n",
    "\n",
    "sns.set_context('poster')\n",
    "matplotlib.rcParams['pdf.fonttype'] = 42\n",
    "matplotlib.rcParams['ps.fonttype'] = 42\n",
    "\n",
    "# import Python3_OpenOE_AC_map_functions_v1_08_30s as oem\n",
    "import mz_LFP_functions as mz_LFP\n",
    "\n",
    "import Python3_icsd as icsd \n",
    "import scipy.signal as sg\n",
    "import quantities as pq\n",
    "\n",
    "%matplotlib inline\n",
    "%load_ext autoreload\n",
    "%autoreload 2"
   ]
  },
  {
   "cell_type": "code",
   "execution_count": 6,
   "metadata": {},
   "outputs": [],
   "source": [
    "plt.rcdefaults()\n",
    "\n",
    "# # for publication quality plots\n",
    "# def set_pub_plots(pal=sns.blend_palette([\"gray\",\"crimson\", 'cyan', 'magenta', 'purple'  ],5)):\n",
    "#     sns.set_style(\"white\")\n",
    "#     sns.set_palette(pal)\n",
    "#     sns.set_context(\"poster\", font_scale=1.5, rc={\"lines.linewidth\": 2.5, \"axes.linewidth\":2.5, 'figure.facecolor': 'white'}) \n",
    "#     sns.set_style(\"ticks\", {\"xtick.major.size\": 8, \"ytick.major.size\": 8})\n",
    "#     # optional, makes markers bigger, too, axes.linewidth doesn't seem to work\n",
    "#     plt.rcParams['axes.linewidth'] = 2.5\n",
    "\n",
    "# rc_pub={'font.size': 25, 'axes.labelsize': 25, 'legend.fontsize': 25.0, \n",
    "#     'axes.titlesize': 25, 'xtick.labelsize': 25, 'ytick.labelsize': 25, \n",
    "#     #'axes.color_cycle':pal, # image.cmap - rewritesd the default colormap\n",
    "#     'axes.linewidth':2.5, 'lines.linewidth': 2.5,\n",
    "#     'xtick.color': 'black', 'ytick.color': 'black', 'axes.edgecolor': 'black','axes.labelcolor':'black','text.color':'black'}\n",
    "# # to restore the defaults, call plt.rcdefaults() \n",
    "\n",
    "# #set_pub_bargraphs()\n",
    "# set_pub_plots()"
   ]
  },
  {
   "cell_type": "code",
   "execution_count": 7,
   "metadata": {},
   "outputs": [
    {
     "data": {
      "image/png": "[encoded data removed]",
      "text/plain": [
       "<Figure size 200x100 with 1 Axes>"
      ]
     },
     "metadata": {},
     "output_type": "display_data"
    }
   ],
   "source": [
    "pal=sns.blend_palette(['gray','crimson'],2)\n",
    "sns.palplot(pal)\n",
    "sns.set_palette(pal)"
   ]
  },
  {
   "cell_type": "markdown",
   "metadata": {},
   "source": [
    "# Load some necessary variables"
   ]
  },
  {
   "cell_type": "code",
   "execution_count": 8,
   "metadata": {},
   "outputs": [
    {
     "name": "stdout",
     "output_type": "stream",
     "text": [
      "310.0 200.0 80.0 140.0\n"
     ]
    }
   ],
   "source": [
    "insert_depth = 3100  #change this as appropriate\n",
    "\n",
    "sp_bw_ch = 20/2\n",
    "\n",
    "surface_ch = np.round(insert_depth/sp_bw_ch)\n",
    "V1_hip_ch = np.round((insert_depth-1100)/sp_bw_ch)\n",
    "Hip_thal_ch = np.round((insert_depth-1100-1200)/sp_bw_ch)\n",
    "\n",
    "CA1_DG_ch = np.round((insert_depth-1100-600)/sp_bw_ch)\n",
    "\n",
    "print(surface_ch, V1_hip_ch, Hip_thal_ch, CA1_DG_ch)"
   ]
  },
  {
   "cell_type": "code",
   "execution_count": 9,
   "metadata": {},
   "outputs": [],
   "source": [
    "samples_tr = 7350 #this is based on the shortest #samples in a trial\n",
    "sr = 2500\n",
    "n_chan = 384\n",
    "rec_length = 3.0 #how long is the arduino triggered?"
   ]
  },
  {
   "cell_type": "markdown",
   "metadata": {},
   "source": [
    "---"
   ]
  },
  {
   "cell_type": "markdown",
   "metadata": {},
   "source": [
    "# First, load in the .npy arrays and CC_ls\n",
    "These were creaded and saved using the \"1_saving_LFP_arrays\" jupyter notebook"
   ]
  },
  {
   "cell_type": "code",
   "execution_count": 10,
   "metadata": {},
   "outputs": [],
   "source": [
    "all_pre_arr = np.load(r\"D:\\pre_alltr.npy\")\n",
    "all_post_arr = np.load(r\"D:\\post_alltr.npy\")\n",
    "all_novel_arr = np.load(r\"D:\\novel_alltr.npy\")"
   ]
  },
  {
   "cell_type": "code",
   "execution_count": 15,
   "metadata": {},
   "outputs": [
    {
     "name": "stdout",
     "output_type": "stream",
     "text": [
      "['et311', 'et323', 'et3112']\n"
     ]
    }
   ],
   "source": [
    "pkl_file = r\"D:\\pre_alltr_et_ls\"\n",
    "\n",
    "open_file = open(pkl_file, \"rb\")\n",
    "et_ls_pre = pickle.load(open_file)\n",
    "open_file.close()\n",
    "\n",
    "print(et_ls_pre)"
   ]
  },
  {
   "cell_type": "code",
   "execution_count": 14,
   "metadata": {},
   "outputs": [
    {
     "name": "stdout",
     "output_type": "stream",
     "text": [
      "['et1', 'et200', 'et20', 'et2', 'et10', 'et3', 'et30', 'et383', 'et3112', 'et3232', 'et3832', 'et311', 'et323']\n"
     ]
    }
   ],
   "source": [
    "pkl_file = r\"D:\\post_alltr_et_ls\"\n",
    "\n",
    "open_file = open(pkl_file, \"rb\")\n",
    "et_ls_post = pickle.load(open_file)\n",
    "open_file.close()\n",
    "\n",
    "print(et_ls_post)"
   ]
  },
  {
   "cell_type": "code",
   "execution_count": 16,
   "metadata": {},
   "outputs": [
    {
     "name": "stdout",
     "output_type": "stream",
     "text": [
      "['CC082263HP1', 'CC082263HP2', 'CC082263HP3', 'CC084621HP1', 'CC084621HP2', 'CC067489HP2', 'CC067489HP3', 'CC082260HP2', 'CC082260HP3', 'CC082260HP4']\n"
     ]
    }
   ],
   "source": [
    "pkl_file = r\"D:\\novel_alltr_et_ls\"\n",
    "\n",
    "open_file = open(pkl_file, \"rb\")\n",
    "et_ls_novel = pickle.load(open_file)\n",
    "open_file.close()\n",
    "\n",
    "print(et_ls_novel)"
   ]
  },
  {
   "cell_type": "markdown",
   "metadata": {},
   "source": [
    "---"
   ]
  },
  {
   "cell_type": "markdown",
   "metadata": {},
   "source": [
    "# Test the shape of the arrays"
   ]
  },
  {
   "cell_type": "code",
   "execution_count": 19,
   "metadata": {},
   "outputs": [
    {
     "name": "stdout",
     "output_type": "stream",
     "text": [
      "Pre training: (3, 28, 384, 7350)\n",
      "Post training: (13, 28, 384, 7350)\n",
      "Novel training: (10, 48, 384, 7350)\n"
     ]
    }
   ],
   "source": [
    "print('Pre training: {}'.format(all_pre_arr.shape))\n",
    "print('Post training: {}'.format(all_post_arr.shape))\n",
    "print('Novel training: {}'.format(all_novel_arr.shape))"
   ]
  },
  {
   "cell_type": "markdown",
   "metadata": {},
   "source": [
    "---"
   ]
  },
  {
   "cell_type": "markdown",
   "metadata": {},
   "source": [
    "# Plot the individual trials for each mouse"
   ]
  },
  {
   "cell_type": "code",
   "execution_count": 99,
   "metadata": {},
   "outputs": [
    {
     "name": "stdout",
     "output_type": "stream",
     "text": [
      "310.0 200.0 80.0 140.0\n"
     ]
    }
   ],
   "source": [
    "colormap='jet'\n",
    "print(surface_ch, V1_hip_ch, Hip_thal_ch, CA1_DG_ch)\n",
    "\n",
    "report_directory = r'C:\\'\n",
    "save_plots = 1"
   ]
  },
  {
   "cell_type": "code",
   "execution_count": 1,
   "metadata": {
    "scrolled": true
   },
   "outputs": [],
   "source": [
    "# for idx, mouse in enumerate(all_pre_arr):\n",
    "#     mouse_et = et_ls_pre[idx]\n",
    "#     tot_trials = mouse.shape[0]\n",
    "#     fig,ax = plt.subplots(tot_trials,1, figsize=(7,tot_trials*7))\n",
    "#     for idx2, trials in enumerate(mouse):\n",
    "#         lfp_plot_data = trials * 1E-3 * pq.mV #helps to keep the colorbar tidy and clean\n",
    "#         im = ax[idx2].imshow(lfp_plot_data, origin='lower', \n",
    "#                        vmin=-abs(lfp_plot_data).max(), vmax=abs(lfp_plot_data).max(), \n",
    "#                        cmap=colormap, interpolation='nearest',\n",
    "#                        aspect='auto')\n",
    "#         ax[idx2].axvspan((0.5*2500),(0.7*2500), color='grey', alpha=0.2)\n",
    "#         ax[idx2].axhline(surface_ch, color='grey', alpha=0.5)\n",
    "# #         ax[idx2].axhline(V1_hip_ch, color='grey', alpha=0.5)\n",
    "# #         ax[idx2].axhline(Hip_thal_ch, color='grey', alpha=0.5)\n",
    "#         ax[idx2].axhline()\n",
    "#         ax[idx2].set_xticks(ticks=[0, 1*2500, 2*2500])\n",
    "#         ax[idx2].set_xticklabels(labels=[0,1,2])\n",
    "#         ax[idx2].set_ylabel('Channel #')\n",
    "# #         ax[idx2].set_xlabel('Time (s)')\n",
    "#         ax[idx2].set_title('Pre: {0}, Trial {1}'.format(mouse_et, idx2))\n",
    "#         cb = plt.colorbar(im, ax=ax[idx2], aspect=50, shrink=0.8)\n",
    "#         cb.set_label('LFP (%s)' % lfp_plot_data.dimensionality.string)\n",
    "#     #Change this to save the plots to an appropriate spot\n",
    "#     if save_plots == 1:\n",
    "#         plt.savefig(report_directory+'pre_'+mouse_et+'_lfp_all_trials.pdf', bbox_inches='tight')\n",
    "#     plt.show()\n"
   ]
  },
  {
   "cell_type": "code",
   "execution_count": null,
   "metadata": {},
   "outputs": [],
   "source": []
  }
 ],
 "metadata": {
  "kernelspec": {
   "display_name": "lemonpy",
   "language": "python",
   "name": "python3"
  },
  "language_info": {
   "codemirror_mode": {
    "name": "ipython",
    "version": 3
   },
   "file_extension": ".py",
   "mimetype": "text/x-python",
   "name": "python",
   "nbconvert_exporter": "python",
   "pygments_lexer": "ipython3",
   "version": "3.12.2"
  }
 },
 "nbformat": 4,
 "nbformat_minor": 4
}
