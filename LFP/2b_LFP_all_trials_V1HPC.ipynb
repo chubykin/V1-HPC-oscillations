{
 "cells": [
  {
   "cell_type": "code",
   "execution_count": 1,
   "metadata": {},
   "outputs": [],
   "source": [
    "import os\n",
    "import glob\n",
    "import numpy as np\n",
    "import pandas as pd\n",
    "import pickle\n",
    "import matplotlib\n",
    "import matplotlib.pyplot as plt\n",
    "from matplotlib.gridspec import GridSpec\n",
    "import seaborn as sns\n",
    "\n",
    "from scipy.ndimage import gaussian_filter1d\n",
    "from scipy import stats\n",
    "import statsmodels.formula.api as smf\n",
    "import scipy.signal as sig\n",
    "\n",
    "sns.set_context('poster')\n",
    "matplotlib.rcParams['pdf.fonttype'] = 42\n",
    "matplotlib.rcParams['ps.fonttype'] = 42\n",
    "\n",
    "# import Python3_OpenOE_AC_map_functions_v1_08_30s as oem\n",
    "import mz_LFP_functions as mz_LFP\n",
    "\n",
    "import Python3_icsd as icsd \n",
    "import scipy.signal as sg\n",
    "import quantities as pq\n",
    "\n",
    "%matplotlib inline\n",
    "%load_ext autoreload\n",
    "%autoreload 2"
   ]
  },
  {
   "cell_type": "code",
   "execution_count": 2,
   "metadata": {},
   "outputs": [],
   "source": [
    "plt.rcdefaults()"
   ]
  },
  {
   "cell_type": "code",
   "execution_count": 3,
   "metadata": {},
   "outputs": [
    {
     "data": {
      "image/png": "[encoded data removed]",
      "text/plain": [
       "<Figure size 200x100 with 1 Axes>"
      ]
     },
     "metadata": {},
     "output_type": "display_data"
    }
   ],
   "source": [
    "pal=sns.blend_palette(['gray','crimson'],2)\n",
    "sns.palplot(pal)\n",
    "sns.set_palette(pal)"
   ]
  },
  {
   "cell_type": "markdown",
   "metadata": {},
   "source": [
    "# Load some necessary variables"
   ]
  },
  {
   "cell_type": "code",
   "execution_count": 4,
   "metadata": {},
   "outputs": [
    {
     "name": "stdout",
     "output_type": "stream",
     "text": [
      "310.0 200.0 80.0 140.0\n"
     ]
    }
   ],
   "source": [
    "insert_depth = 3100  #change this as appropriate\n",
    "\n",
    "sp_bw_ch = 20/2\n",
    "\n",
    "surface_ch = np.round(insert_depth/sp_bw_ch)\n",
    "V1_hip_ch = np.round((insert_depth-1100)/sp_bw_ch)\n",
    "Hip_thal_ch = np.round((insert_depth-1100-1200)/sp_bw_ch)\n",
    "\n",
    "CA1_DG_ch = np.round((insert_depth-1100-600)/sp_bw_ch)\n",
    "\n",
    "print(surface_ch, V1_hip_ch, Hip_thal_ch, CA1_DG_ch)"
   ]
  },
  {
   "cell_type": "code",
   "execution_count": 5,
   "metadata": {},
   "outputs": [],
   "source": [
    "samples_tr = 7350 #this is based on the shortest #samples in a trial\n",
    "sr = 2500\n",
    "n_chan = 384\n",
    "rec_length = 3.0 #how long is the arduino triggered?"
   ]
  },
  {
   "cell_type": "markdown",
   "metadata": {},
   "source": [
    "---"
   ]
  },
  {
   "cell_type": "markdown",
   "metadata": {},
   "source": [
    "# First, load in the .npy arrays and CC_ls\n",
    "These were creaded and saved using the \"1_saving_LFP_arrays\" jupyter notebook"
   ]
  },
  {
   "cell_type": "code",
   "execution_count": 6,
   "metadata": {},
   "outputs": [],
   "source": [
    "\n",
    "# all_post_arr = np.load(r\"D:\\\")\n"
   ]
  },
  {
   "cell_type": "code",
   "execution_count": 7,
   "metadata": {},
   "outputs": [
    {
     "name": "stdout",
     "output_type": "stream",
     "text": [
      "['CC082263HP1', 'CC082263HP2', 'CC082263HP3', 'CC084621HP1', 'CC084621HP2', 'CC067489HP2', 'CC067489HP3', 'CC082260HP2', 'CC082260HP3', 'CC082260HP4']\n"
     ]
    }
   ],
   "source": [
    "# pkl_file = r\"D:\\\"\n",
    "\n",
    "open_file = open(pkl_file, \"rb\")\n",
    "et_ls_post = pickle.load(open_file)\n",
    "open_file.close()\n",
    "\n",
    "print(et_ls_post)"
   ]
  },
  {
   "cell_type": "markdown",
   "metadata": {},
   "source": [
    "---"
   ]
  },
  {
   "cell_type": "markdown",
   "metadata": {},
   "source": [
    "# Test the shape of the arrays\n",
    "this should be -- # mice x # trials x # channels x # samples"
   ]
  },
  {
   "cell_type": "code",
   "execution_count": 8,
   "metadata": {},
   "outputs": [
    {
     "name": "stdout",
     "output_type": "stream",
     "text": [
      "Training: (10, 48, 384, 7350)\n"
     ]
    }
   ],
   "source": [
    "\n",
    "print('Training: {}'.format(all_post_arr.shape))\n"
   ]
  },
  {
   "cell_type": "markdown",
   "metadata": {},
   "source": [
    "---"
   ]
  },
  {
   "cell_type": "markdown",
   "metadata": {},
   "source": []
  },
  {
   "cell_type": "code",
   "execution_count": 9,
   "metadata": {},
   "outputs": [],
   "source": [
    "def butter_bandpass_filter(data, lowcutoff=4, highcutoff=8, fs=2500, order=6):\n",
    "    nyq = 0.5 * fs  # Nyquist Frequency\n",
    "    high_cutoff = highcutoff / nyq\n",
    "    low_cutoff = lowcutoff / nyq\n",
    "    # Get the filter coefficients \n",
    "    b, a = sig.butter(order, high_cutoff, btype='low', analog=False)\n",
    "    y = sig.filtfilt(b, a, data)\n",
    "    b2, a2 = sig.butter(order, low_cutoff, btype='high', analog=False)\n",
    "    y2 = sig.filtfilt(b2, a2, y)\n",
    "    return y2"
   ]
  },
  {
   "cell_type": "markdown",
   "metadata": {},
   "source": [
    "# Plot LFP for V1 and HPC at specific trials"
   ]
  },
  {
   "cell_type": "code",
   "execution_count": 10,
   "metadata": {},
   "outputs": [],
   "source": [
    "def find_vep_ch(mouse):\n",
    "    tmp2 = np.mean(mouse, axis = 0)           # getting the mean traces over all trials\n",
    "    v1_chs = tmp2[200:300,:]\n",
    "    min_ch = np.where(v1_chs == np.amin(v1_chs))\n",
    "    min_ch2 = min_ch[0][0] + 199\n",
    "    return min_ch2"
   ]
  },
  {
   "cell_type": "code",
   "execution_count": 11,
   "metadata": {},
   "outputs": [],
   "source": [
    "#this is plotting the average VEP across mice (can be changed to each mouse)\n",
    "\n",
    "chs_ls = []\n",
    "for idx, mouse in enumerate(all_post_arr):\n",
    "    tmp2 = np.mean(mouse, axis = 0)           # getting the mean traces over all trials\n",
    "    v1_chs = tmp2[200:300,:]\n",
    "    min_ch = np.where(v1_chs == np.amin(v1_chs))\n",
    "    min_ch2 = min_ch[0][0] + 199\n",
    "    vep_ch = tmp2[min_ch2,:]\n",
    "    chs_ls.append(vep_ch)\n",
    "#     ---------------------------------------------------------------\n",
    "v1_veps = np.array(chs_ls)\n",
    "avg_plot_mean = np.mean(v1_veps, axis=0)\n",
    "avg2_plot_mean = np.reshape(avg_plot_mean,(1,len(avg_plot_mean)))\n",
    "\n",
    "# time_arr2_A = np.linspace(0, avg_plot_mean.shape[0]/sr, avg_plot_mean.shape[0])\n",
    "# plt.plot(time_arr2_A, avg_plot_mean, label='WT', color='grey')\n",
    "# plt.show()"
   ]
  },
  {
   "cell_type": "markdown",
   "metadata": {},
   "source": [
    "# Now plot the traces alltogether "
   ]
  },
  {
   "cell_type": "code",
   "execution_count": 1,
   "metadata": {
    "scrolled": true
   },
   "outputs": [],
   "source": [
    "# rep_dir = r'C:\\'\n",
    "# save_plots = 1\n",
    "# colormap='jet'\n",
    "\n",
    "# tr_a = 1\n",
    "# tr_b = 15\n",
    "# hpc_chx = 145\n",
    "# hpc_chy = 120\n",
    "\n",
    "# fs=2500\n",
    "# order=6\n",
    "# lowcutoff = 4\n",
    "# highcutoff = 8\n",
    "# lowcutoff2 = 30\n",
    "# highcutoff2 = 80\n",
    "\n",
    "# plt_labels = [0,0.5*sr,1*sr,1.5*sr,2*sr,2.5*sr]\n",
    "\n",
    "# for idx, mouse in enumerate(all_post_arr):\n",
    "#     mouse_et = et_ls_post[idx]\n",
    "#     tot_trials = mouse.shape[0]\n",
    "#     mouse_et = et_ls_post[idx]\n",
    "#     #HPC lfp traces\n",
    "#     trial_a = mouse[tr_a,:,:]\n",
    "#     trial_b = mouse[tr_b,:,:]\n",
    "#     hpc_tra_chx = trial_a[hpc_chx,:]\n",
    "#     hpc_tra_chy = trial_a[hpc_chy,:]\n",
    "#     hpc_trb_chx = trial_b[hpc_chx,:]\n",
    "#     hpc_trb_chy = trial_b[hpc_chy,:]\n",
    "#     filt_hpc_tra_chx = butter_bandpass_filter(hpc_tra_chx, lowcutoff, highcutoff, fs, order)\n",
    "#     filt_hpc_tra_chy = butter_bandpass_filter(hpc_tra_chy, lowcutoff, highcutoff, fs, order)\n",
    "#     filt_hpc_trb_chx = butter_bandpass_filter(hpc_trb_chx, lowcutoff, highcutoff, fs, order)\n",
    "#     filt_hpc_trb_chy = butter_bandpass_filter(hpc_trb_chy, lowcutoff, highcutoff, fs, order)\n",
    "#     filt2_hpc_tra_chx = butter_bandpass_filter(hpc_tra_chx, lowcutoff2, highcutoff2, fs, order)\n",
    "#     filt2_hpc_tra_chy = butter_bandpass_filter(hpc_tra_chy, lowcutoff2, highcutoff2, fs, order)\n",
    "#     filt2_hpc_trb_chx = butter_bandpass_filter(hpc_trb_chx, lowcutoff2, highcutoff2, fs, order)\n",
    "#     filt2_hpc_trb_chy = butter_bandpass_filter(hpc_trb_chy, lowcutoff2, highcutoff2, fs, order)\n",
    "#     time_a_hpc = np.linspace(0, trial_a.shape[1]/sr, trial_a.shape[1])\n",
    "#     time_b_hpc = np.linspace(0, trial_b.shape[1]/sr, trial_b.shape[1])\n",
    "#     #All probe heatmaps - trials 1 and 15\n",
    "#     lfp_trial1 = trial_a * 1E-3 * pq.mV\n",
    "#     lfp_trial10 = trial_b * 1E-3 * pq.mV\n",
    "#     cbar_val = abs(lfp_trial1).max()\n",
    "#     #V1 vep channel for each trials\n",
    "#     v1_ch = find_vep_ch(mouse)\n",
    "#     trial_a_v1 = mouse[tr_a,v1_ch,:]\n",
    "#     trial_b_v1 = mouse[tr_b,v1_ch,:]\n",
    "#     filt_trial_a_v1 = butter_bandpass_filter(trial_a_v1, lowcutoff, highcutoff, fs, order)\n",
    "#     filt_trial_b_v1 = butter_bandpass_filter(trial_b_v1, lowcutoff, highcutoff, fs, order)\n",
    "#     filt2_trial_a_v1 = butter_bandpass_filter(trial_a_v1, lowcutoff2, highcutoff2, fs, order)\n",
    "#     filt2_trial_b_v1 = butter_bandpass_filter(trial_b_v1, lowcutoff2, highcutoff2, fs, order)\n",
    "#     #V1 trial averaged veps per mouse\n",
    "#     v1_tr_avg_vep = v1_veps[idx]\n",
    "#     time_v1 = np.linspace(0, v1_tr_avg_vep.shape[0]/sr, v1_tr_avg_vep.shape[0])\n",
    "#     #----------------Plotting---------------------------\n",
    "#     fig = plt.figure(figsize=(15,10))\n",
    "#     ax1 = plt.subplot2grid((6, 3), (0, 0), rowspan=3)\n",
    "#     ax2 = plt.subplot2grid((6, 3), (0, 1))\n",
    "#     ax3 = plt.subplot2grid((6, 3), (1, 1), sharex=ax2)\n",
    "#     ax4 = plt.subplot2grid((6, 3), (2, 1), sharex=ax2)\n",
    "#     ax5 = plt.subplot2grid((6, 3), (3, 0), rowspan=3)\n",
    "#     ax6 = plt.subplot2grid((6, 3), (3, 1))\n",
    "#     ax7 = plt.subplot2grid((6, 3), (4, 1), sharex=ax6)\n",
    "#     ax8 = plt.subplot2grid((6, 3), (5, 1))\n",
    "#     ax9 = plt.subplot2grid((6, 3), (0, 2))\n",
    "#     ax10 = plt.subplot2grid((6, 3), (1, 2))\n",
    "#     ax11 = plt.subplot2grid((6, 3), (2, 2))\n",
    "#     ax12 = plt.subplot2grid((6, 3), (3, 2))\n",
    "#     ax13 = plt.subplot2grid((6, 3), (4, 2))\n",
    "#     ax14 = plt.subplot2grid((6, 3), (5, 2))\n",
    "    \n",
    "#     ax1.imshow(lfp_trial1, origin='lower', vmin=-cbar_val, vmax=cbar_val, cmap=colormap, interpolation='nearest', aspect='auto')\n",
    "#     ax1.axhline(y=hpc_chx, color='crimson')\n",
    "#     ax1.axhline(y=hpc_chy, color='violet')\n",
    "#     ax5.imshow(lfp_trial10, origin='lower', vmin=-cbar_val, vmax=cbar_val, cmap=colormap, interpolation='nearest', aspect='auto')\n",
    "#     ax5.axhline(y=hpc_chx, color='crimson')\n",
    "#     ax5.axhline(y=hpc_chy, color='violet')\n",
    "    \n",
    "# #     ax2.plot(time_v1, v1_tr_avg_vep,, color='cyan')\n",
    "# #     ax6.plot(time_v1, v1_tr_avg_vep, color='cyan')\n",
    "#     ax2.plot(time_v1, trial_a_v1, color='grey')\n",
    "#     ax6.plot(time_v1, trial_b_v1, color='grey')\n",
    "#     ax1.axhline(y=v1_ch, color='grey')\n",
    "#     ax5.axhline(y=v1_ch, color='grey')\n",
    "#     ax3.plot(time_a_hpc, hpc_tra_chx, color='crimson')\n",
    "#     ax4.plot(time_a_hpc, hpc_tra_chy, color='violet')\n",
    "#     ax7.plot(time_b_hpc, hpc_trb_chx, color='crimson')\n",
    "#     ax8.plot(time_b_hpc, hpc_trb_chy, color='violet')\n",
    "    \n",
    "#     ax9.plot(time_v1, filt2_trial_a_v1, color='black')\n",
    "#     ax10.plot(time_a_hpc, filt2_hpc_tra_chx, color='black')\n",
    "#     ax11.plot(time_a_hpc, filt2_hpc_tra_chy, color='black')\n",
    "#     ax12.plot(time_v1, filt2_trial_b_v1, color='black')\n",
    "#     ax13.plot(time_b_hpc, filt2_hpc_trb_chx, color='black')\n",
    "#     ax14.plot(time_b_hpc, filt2_hpc_trb_chy, color='black')\n",
    "    \n",
    "#     ax9.plot(time_v1, filt_trial_a_v1, color='grey')\n",
    "#     ax10.plot(time_a_hpc, filt_hpc_tra_chx, color='crimson')\n",
    "#     ax11.plot(time_a_hpc, filt_hpc_tra_chy, color='violet')\n",
    "#     ax12.plot(time_v1, filt_trial_b_v1, color='grey')\n",
    "#     ax13.plot(time_b_hpc, filt_hpc_trb_chx, color='crimson')\n",
    "#     ax14.plot(time_b_hpc, filt_hpc_trb_chy, color='violet')\n",
    "    \n",
    "#     ax1.set_xticklabels([])\n",
    "#     ax2.set_xticklabels([])\n",
    "#     ax3.set_xticklabels([])\n",
    "#     ax4.set_xticklabels([])\n",
    "#     ax5.set_xticks(plt_labels)\n",
    "#     ax5.set_xticklabels([0.0, 0.5,1.0,1.5,2.0,2.5])\n",
    "#     ax6.set_xticklabels([])\n",
    "#     ax9.set_xticklabels([])\n",
    "#     ax10.set_xticklabels([])\n",
    "#     ax11.set_xticklabels([])\n",
    "#     ax12.set_xticklabels([])\n",
    "#     ax13.set_xticklabels([])\n",
    "#     ax1.set_title('Trial 1')\n",
    "#     ax2.set_title('V1')\n",
    "#     ax3.set_title('HPC channel 1')\n",
    "#     ax4.set_title('HPC channel 2')\n",
    "#     ax5.set_title('Trial 15')\n",
    "#     ax6.set_title('V1')\n",
    "#     ax7.set_title('HPC channel 1')\n",
    "#     ax8.set_title('HPC channel 2')\n",
    "#     plt.suptitle('Mouse: {}'.format(mouse_et))\n",
    "#     plt.tight_layout()\n",
    "    \n",
    "#     if save_plots == 1:\n",
    "#         plt.savefig(rep_dir+'novel_'+mouse_et+'_lfp_trial_traces.pdf', bbox_inches='tight')\n",
    "#         print('Done!')\n",
    "#     plt.show()\n",
    "    "
   ]
  },
  {
   "cell_type": "code",
   "execution_count": null,
   "metadata": {},
   "outputs": [],
   "source": []
  },
  {
   "cell_type": "markdown",
   "metadata": {},
   "source": [
    "# Trial averaged traces"
   ]
  },
  {
   "cell_type": "code",
   "execution_count": 14,
   "metadata": {},
   "outputs": [],
   "source": [
    "#this is plotting the average VEP across mice (can be changed to each mouse)\n",
    "\n",
    "chs_ls = []\n",
    "for idx, mouse in enumerate(all_post_arr):\n",
    "    tmp2 = np.mean(mouse, axis = 0)           # getting the mean traces over all trials\n",
    "    v1_chs = tmp2[200:300,:]\n",
    "    min_ch = np.where(v1_chs == np.amin(v1_chs))\n",
    "    min_ch2 = min_ch[0][0] + 199\n",
    "    vep_ch = tmp2[min_ch2,:]\n",
    "    chs_ls.append(vep_ch)\n",
    "#     ---------------------------------------------------------------\n",
    "v1_veps = np.array(chs_ls)\n",
    "avg_plot_mean = np.mean(v1_veps, axis=0)\n",
    "avg2_plot_mean = np.reshape(avg_plot_mean,(1,len(avg_plot_mean)))\n",
    "\n",
    "# time_arr2_A = np.linspace(0, avg_plot_mean.shape[0]/sr, avg_plot_mean.shape[0])\n",
    "# plt.plot(time_arr2_A, avg_plot_mean, label='WT', color='grey')\n",
    "# plt.show()"
   ]
  },
  {
   "cell_type": "markdown",
   "metadata": {},
   "source": [
    "# Plot it"
   ]
  },
  {
   "cell_type": "code",
   "execution_count": 2,
   "metadata": {
    "scrolled": true
   },
   "outputs": [],
   "source": [
    "# rep_dir = r'-------'\n",
    "# save_plots = 1\n",
    "# colormap='jet'\n",
    "\n",
    "# hpc_chx = 145\n",
    "# hpc_chy = 120\n",
    "\n",
    "# fs=2500\n",
    "# order=6\n",
    "# lowcutoff = 4\n",
    "# highcutoff = 8\n",
    "# lowcutoff2 = 30\n",
    "# highcutoff2 = 80\n",
    "\n",
    "# plt_labels = [0,0.5*sr,1*sr,1.5*sr,2*sr,2.5*sr]\n",
    "\n",
    "# for idx, mouse in enumerate(all_post_arr):\n",
    "#     mouse_et = et_ls_post[idx]\n",
    "#     avg_signal = np.mean(mouse, axis = 0)\n",
    "#     #HPC lfp traces\n",
    "#     hpc_avg_chx = avg_signal[hpc_chx,:]\n",
    "#     hpc_avg_chy = avg_signal[hpc_chy,:]\n",
    "#     time_hpc = np.linspace(0, avg_signal.shape[1]/sr, avg_signal.shape[1])\n",
    "#     filt_hpc_chx = butter_bandpass_filter(hpc_avg_chx, lowcutoff, highcutoff, fs, order)\n",
    "#     filt_hpc_chy = butter_bandpass_filter(hpc_avg_chy, lowcutoff, highcutoff, fs, order)\n",
    "#     filt2_hpc_chx = butter_bandpass_filter(hpc_avg_chx, lowcutoff2, highcutoff2, fs, order)\n",
    "#     filt2_hpc_chy = butter_bandpass_filter(hpc_avg_chy, lowcutoff2, highcutoff2, fs, order)\n",
    "#     #All probe heatmaps\n",
    "#     lfp_avg = avg_signal * 1E-3 * pq.mV #helps to keep the colorbar tidy and clean\n",
    "#     cbar_val = abs(lfp_avg).max()\n",
    "#     #V1 trial averaged veps per mouse\n",
    "#     v1_ch = find_vep_ch(mouse)\n",
    "#     v1_tr_avg_vep = v1_veps[idx]\n",
    "#     time_v1 = np.linspace(0, v1_tr_avg_vep.shape[0]/sr, v1_tr_avg_vep.shape[0])\n",
    "#     filt_v1 = butter_bandpass_filter(v1_tr_avg_vep, lowcutoff, highcutoff, fs, order)\n",
    "#     filt2_v1 = butter_bandpass_filter(v1_tr_avg_vep, lowcutoff2, highcutoff2, fs, order)\n",
    "#     #----------------Plotting---------------------------\n",
    "#     fig = plt.figure(figsize=(12,8))\n",
    "#     ax1 = plt.subplot2grid((6, 3), (0, 0), rowspan=3)\n",
    "#     ax2 = plt.subplot2grid((6, 3), (0, 1), sharex=ax4)\n",
    "#     ax3 = plt.subplot2grid((6, 3), (1, 1), sharex=ax4)\n",
    "#     ax4 = plt.subplot2grid((6, 3), (2, 1))\n",
    "#     ax9 = plt.subplot2grid((6, 3), (0, 2))\n",
    "#     ax10 = plt.subplot2grid((6, 3), (1, 2))\n",
    "#     ax11 = plt.subplot2grid((6, 3), (2, 2))\n",
    "    \n",
    "#     ax1.imshow(lfp_avg, origin='lower', vmin=-cbar_val, vmax=cbar_val, cmap=colormap, interpolation='nearest', aspect='auto')\n",
    "#     ax1.axhline(y=hpc_chx, color='crimson')\n",
    "#     ax1.axhline(y=hpc_chy, color='violet')\n",
    "#     ax2.plot(time_v1, v1_tr_avg_vep, label='WT', color='grey')\n",
    "#     ax1.axhline(y=v1_ch, color='grey')\n",
    "#     ax3.plot(time_hpc, hpc_avg_chx, color='crimson')\n",
    "#     ax4.plot(time_hpc, hpc_avg_chy, color='violet')\n",
    "    \n",
    "#     ax9.plot(time_v1, filt2_v1, color='black')\n",
    "#     ax10.plot(time_a_hpc, filt2_hpc_chx, color='black')\n",
    "#     ax11.plot(time_a_hpc, filt2_hpc_chx, color='black')\n",
    "#     ax9.plot(time_v1, filt_v1, color='grey')\n",
    "#     ax10.plot(time_a_hpc, filt_hpc_chx, color='crimson')\n",
    "#     ax11.plot(time_a_hpc, filt_hpc_chx, color='violet')\n",
    "    \n",
    "#     ax2.set_xticklabels([])\n",
    "#     ax3.set_xticklabels([])\n",
    "#     ax9.set_xticklabels([])\n",
    "#     ax10.set_xticklabels([])\n",
    "#     ax4.set_xlabel('Time(s)')\n",
    "#     ax1.set_xticks(plt_labels)\n",
    "#     ax1.set_xticklabels([0.0, 0.5,1.0,1.5,2.0,2.5])\n",
    "#     ax1.set_title('Trial Averaged')\n",
    "#     ax1.set_ylabel('Channel # on probe')\n",
    "#     ax1.set_xlabel('Time (s)')\n",
    "#     ax2.set_title('V1')\n",
    "#     ax3.set_title('HPC channel 1')\n",
    "#     ax4.set_title('HPC channel 2')\n",
    "#     plt.suptitle('Mouse: {}'.format(mouse_et))\n",
    "#     plt.tight_layout()\n",
    "    \n",
    "#     if save_plots == 1:\n",
    "#         plt.savefig(rep_dir+'novel_'+mouse_et+'_lfp_avg_traces.pdf', bbox_inches='tight')\n",
    "#         print('Done!')\n",
    "#     plt.show()"
   ]
  },
  {
   "cell_type": "markdown",
   "metadata": {},
   "source": [
    "# Plot the individual trials for each mouse"
   ]
  },
  {
   "cell_type": "code",
   "execution_count": 73,
   "metadata": {},
   "outputs": [
    {
     "name": "stdout",
     "output_type": "stream",
     "text": [
      "310.0 200.0 80.0 140.0\n"
     ]
    }
   ],
   "source": [
    "colormap='jet'\n",
    "print(surface_ch, V1_hip_ch, Hip_thal_ch, CA1_DG_ch)\n",
    "\n",
    "report_directory = r'C:\\'\n",
    "save_plots = 0"
   ]
  },
  {
   "cell_type": "code",
   "execution_count": null,
   "metadata": {},
   "outputs": [],
   "source": [
    "## for idx, mouse in enumerate(all_post_arr):\n",
    "    mouse_et = et_ls_post[idx]\n",
    "    tot_trials = mouse.shape[0]\n",
    "    fig,ax = plt.subplots(tot_trials,1, figsize=(7,tot_trials*7))\n",
    "    for idx2, trials in enumerate(mouse):\n",
    "        lfp_plot_data = trials * 1E-3 * pq.mV #helps to keep the colorbar tidy and clean\n",
    "        im = ax[idx2].imshow(lfp_plot_data, origin='lower', \n",
    "                       vmin=-abs(lfp_plot_data).max(), vmax=abs(lfp_plot_data).max(), \n",
    "                       cmap=colormap, interpolation='nearest',\n",
    "                       aspect='auto')\n",
    "        ax[idx2].axvspan((0.5*2500),(0.7*2500), color='grey', alpha=0.2)\n",
    "        ax[idx2].axhline(surface_ch, color='grey', alpha=0.5)\n",
    "        ax[idx2].axhline()\n",
    "        ax[idx2].set_xticks(ticks=[0, 1*2500, 2*2500])\n",
    "        ax[idx2].set_xticklabels(labels=[0,1,2])\n",
    "        ax[idx2].set_ylabel('Channel #')\n",
    "        ax[idx2].set_title('Post: {0}, Trial {1}'.format(mouse_et, idx2))\n",
    "        cb = plt.colorbar(im, ax=ax[idx2], aspect=50, shrink=0.8)\n",
    "        cb.set_label('LFP (%s)' % lfp_plot_data.dimensionality.string)\n",
    "    #Change this to save the plots to an appropriate spot\n",
    "    if save_plots == 1:\n",
    "        plt.savefig(report_directory+'post_'+mouse_et+'_lfp_all_trials.pdf', bbox_inches='tight')\n",
    "    plt.show()"
   ]
  },
  {
   "cell_type": "code",
   "execution_count": null,
   "metadata": {},
   "outputs": [],
   "source": []
  }
 ],
 "metadata": {
  "kernelspec": {
   "display_name": "lemonpy",
   "language": "python",
   "name": "python3"
  },
  "language_info": {
   "codemirror_mode": {
    "name": "ipython",
    "version": 3
   },
   "file_extension": ".py",
   "mimetype": "text/x-python",
   "name": "python",
   "nbconvert_exporter": "python",
   "pygments_lexer": "ipython3",
   "version": "3.12.2"
  }
 },
 "nbformat": 4,
 "nbformat_minor": 4
}
