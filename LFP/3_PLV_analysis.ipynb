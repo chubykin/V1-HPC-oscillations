{
 "cells": [
  {
   "cell_type": "code",
   "execution_count": 1,
   "metadata": {},
   "outputs": [],
   "source": [
    "import os\n",
    "import glob\n",
    "import numpy as np\n",
    "import pandas as pd\n",
    "import pickle\n",
    "import matplotlib\n",
    "import matplotlib.pyplot as plt\n",
    "from matplotlib.gridspec import GridSpec\n",
    "import seaborn as sns\n",
    "\n",
    "from scipy.ndimage import gaussian_filter1d\n",
    "\n",
    "from scipy import stats\n",
    "import statsmodels.formula.api as smf\n",
    "\n",
    "sns.set_context('poster')\n",
    "matplotlib.rcParams['pdf.fonttype'] = 42\n",
    "matplotlib.rcParams['ps.fonttype'] = 42\n",
    "\n",
    "# import Python3_OpenOE_AC_map_functions_v1_08_30s as oem\n",
    "import mz_LFP_functions as mz_LFP\n",
    "\n",
    "%matplotlib inline\n",
    "%load_ext autoreload\n",
    "%autoreload 2"
   ]
  },
  {
   "cell_type": "code",
   "execution_count": 2,
   "metadata": {},
   "outputs": [],
   "source": [
    "# for publication quality plots\n",
    "def set_pub_plots(pal=sns.blend_palette([\"gray\",\"crimson\", 'cyan', 'magenta', 'purple'  ],5)):\n",
    "    sns.set_style(\"white\")\n",
    "    sns.set_palette(pal)\n",
    "    sns.set_context(\"poster\", font_scale=1.5, rc={\"lines.linewidth\": 2.5, \"axes.linewidth\":2.5, 'figure.facecolor': 'white'}) \n",
    "    sns.set_style(\"ticks\", {\"xtick.major.size\": 8, \"ytick.major.size\": 8})\n",
    "    # optional, makes markers bigger, too, axes.linewidth doesn't seem to work\n",
    "    plt.rcParams['axes.linewidth'] = 2.5\n",
    "\n",
    "rc_pub={'font.size': 25, 'axes.labelsize': 25, 'legend.fontsize': 25.0, \n",
    "    'axes.titlesize': 25, 'xtick.labelsize': 25, 'ytick.labelsize': 25, \n",
    "    #'axes.color_cycle':pal, # image.cmap - rewritesd the default colormap\n",
    "    'axes.linewidth':2.5, 'lines.linewidth': 2.5,\n",
    "    'xtick.color': 'black', 'ytick.color': 'black', 'axes.edgecolor': 'black','axes.labelcolor':'black','text.color':'black'}\n",
    "# to restore the defaults, call plt.rcdefaults() \n",
    "\n",
    "#set_pub_bargraphs()\n",
    "set_pub_plots()"
   ]
  },
  {
   "cell_type": "code",
   "execution_count": null,
   "metadata": {},
   "outputs": [],
   "source": [
    "pal=sns.blend_palette(['gray','crimson'],2)\n",
    "sns.palplot(pal)\n",
    "sns.set_palette(pal)"
   ]
  },
  {
   "cell_type": "markdown",
   "metadata": {},
   "source": [
    "# Load some necessary variables"
   ]
  },
  {
   "cell_type": "code",
   "execution_count": null,
   "metadata": {},
   "outputs": [],
   "source": [
    "insert_depth = 3100  #change this as appropriate\n",
    "\n",
    "sp_bw_ch = 20/2\n",
    "\n",
    "surface_ch = np.round(insert_depth/sp_bw_ch)\n",
    "V1_hip_ch = np.round((insert_depth-1100)/sp_bw_ch)\n",
    "Hip_thal_ch = np.round((insert_depth-1100-1200)/sp_bw_ch)\n",
    "\n",
    "CA1_DG_ch = np.round((insert_depth-1100-600)/sp_bw_ch)\n",
    "\n",
    "print(surface_ch, V1_hip_ch, Hip_thal_ch, CA1_DG_ch)"
   ]
  },
  {
   "cell_type": "code",
   "execution_count": 5,
   "metadata": {},
   "outputs": [],
   "source": [
    "samples_tr = 7350 #this is based on the shortest #samples in a trial\n",
    "sr = 2500\n",
    "n_chan = 384\n",
    "rec_length = 3.0 #how long is the arduino triggered?"
   ]
  },
  {
   "cell_type": "markdown",
   "metadata": {},
   "source": [
    "---"
   ]
  },
  {
   "cell_type": "markdown",
   "metadata": {},
   "source": [
    "# First, load in the .npy arrays and CC_ls\n",
    "These were creaded and saved using the \"1_saving_LFP_arrays\" jupyter notebook"
   ]
  },
  {
   "cell_type": "code",
   "execution_count": 6,
   "metadata": {},
   "outputs": [],
   "source": [
    "all_pre_arr = np.load(r\"D:\\mz_Data\\saved_dfs\\Multi_brain_regions\\LFPs\\pre_all.npy\")\n",
    "all_post_arr = np.load(r\"D:\\mz_Data\\saved_dfs\\Multi_brain_regions\\LFPs\\post_all.npy\")\n",
    "all_novel_arr = np.load(r\"D:\\mz_Data\\saved_dfs\\Multi_brain_regions\\LFPs\\novel_all.npy\")"
   ]
  },
  {
   "cell_type": "code",
   "execution_count": null,
   "metadata": {},
   "outputs": [],
   "source": [
    "pkl_file = r\"D:\\mz_Data\\saved_dfs\\Multi_brain_regions\\LFPs\\pre_et_ls\"\n",
    "\n",
    "open_file = open(pkl_file, \"rb\")\n",
    "et_ls_pre = pickle.load(open_file)\n",
    "open_file.close()\n",
    "\n",
    "et_ls_pre"
   ]
  },
  {
   "cell_type": "code",
   "execution_count": null,
   "metadata": {},
   "outputs": [],
   "source": [
    "pkl_file = r\"D:\\mz_Data\\saved_dfs\\Multi_brain_regions\\LFPs\\post_et_ls\"\n",
    "\n",
    "open_file = open(pkl_file, \"rb\")\n",
    "et_ls_post = pickle.load(open_file)\n",
    "open_file.close()\n",
    "\n",
    "et_ls_post"
   ]
  },
  {
   "cell_type": "code",
   "execution_count": null,
   "metadata": {},
   "outputs": [],
   "source": [
    "pkl_file = r\"D:\\mz_Data\\saved_dfs\\Multi_brain_regions\\LFPs\\novel_et_ls\"\n",
    "\n",
    "open_file = open(pkl_file, \"rb\")\n",
    "et_ls_novel = pickle.load(open_file)\n",
    "open_file.close()\n",
    "\n",
    "et_ls_novel"
   ]
  },
  {
   "cell_type": "markdown",
   "metadata": {},
   "source": [
    "---"
   ]
  },
  {
   "cell_type": "markdown",
   "metadata": {},
   "source": [
    "# Plot the VEP ch trace\n",
    "\n",
    "### First, we have to define a function"
   ]
  },
  {
   "cell_type": "code",
   "execution_count": null,
   "metadata": {},
   "outputs": [],
   "source": [
    "print(V1_hip_ch)\n",
    "print(Hip_thal_ch)"
   ]
  },
  {
   "cell_type": "code",
   "execution_count": 15,
   "metadata": {},
   "outputs": [],
   "source": [
    "def VEP_lines(data_array, et_ls):\n",
    "\n",
    "    all_mean = data_array.mean(axis=0)\n",
    "\n",
    "    print('Group array: {0}'.format(data_array.shape))\n",
    "    print('Group mean: {0}'.format(all_mean.shape))\n",
    "\n",
    "    V1 = all_mean[250:275, :]\n",
    "    min_v1 = np.where(V1 == np.amin(V1))\n",
    "    min_ch_v1 = min_v1[0][0] + 249\n",
    "    print(min_ch_v1)\n",
    "    \n",
    "    HPC = all_mean[80:200, :]\n",
    "    min_HPC = np.where(HPC == np.amin(HPC))\n",
    "    min_ch_HPC = min_HPC[0][0] + 79\n",
    "    print(min_ch_HPC)\n",
    "    \n",
    "    return all_mean, min_ch_v1, min_ch_HPC"
   ]
  },
  {
   "cell_type": "markdown",
   "metadata": {},
   "source": [
    "### Second, apply the function to the three situations"
   ]
  },
  {
   "cell_type": "code",
   "execution_count": null,
   "metadata": {},
   "outputs": [],
   "source": [
    "# Pre\n",
    "pre_mean, pre_ch_v1, pre_ch_HPC = VEP_lines(all_pre_arr, et_ls_pre)"
   ]
  },
  {
   "cell_type": "code",
   "execution_count": null,
   "metadata": {},
   "outputs": [],
   "source": [
    "# Post\n",
    "post_mean, post_ch_v1, post_ch_HPC = VEP_lines(all_post_arr, et_ls_post)"
   ]
  },
  {
   "cell_type": "code",
   "execution_count": null,
   "metadata": {},
   "outputs": [],
   "source": [
    "# Novel\n",
    "novel_mean, novel_ch_v1, novel_ch_HPC = VEP_lines(all_novel_arr, et_ls_novel)"
   ]
  },
  {
   "cell_type": "markdown",
   "metadata": {},
   "source": [
    "### Finally, you can plot the graphs"
   ]
  },
  {
   "cell_type": "code",
   "execution_count": null,
   "metadata": {},
   "outputs": [],
   "source": [
    "plt.figure(figsize=(10, 5))\n",
    "\n",
    "pre_V1_trace = pre_mean[pre_ch_v1,:]\n",
    "time_arr2_A = np.linspace(0, pre_V1_trace.shape[0]/sr, pre_V1_trace.shape[0])\n",
    "\n",
    "pre_HPC_trace = pre_mean[pre_ch_HPC,:]\n",
    "time_arr2_B = np.linspace(0, pre_HPC_trace.shape[0]/sr, pre_HPC_trace.shape[0])\n",
    "\n",
    "plt.plot(time_arr2_A, pre_V1_trace, label='v1', color='grey')\n",
    "plt.plot(time_arr2_B, pre_HPC_trace, label='hpc', color='crimson')\n",
    "plt.legend(loc=\"lower right\")\n",
    "\n",
    "plt.title('Pre-training')\n",
    "plt.xlabel('Time (s)')\n",
    "plt.ylabel('uV')\n",
    "plt.ylim([-400,300])\n",
    "plt.axvspan(0.5, 0.7, alpha=0.2, facecolor='b')\n",
    "\n",
    "# Change the end of this next line with a new file name!!\n",
    "# plt.savefig(r\"D:\\mz_Data\\DATA_Figs\\HDAC\\LFP\\pre_VEP_trace.pdf\", transparent=True) # fix this before running\n",
    "\n",
    "plt.show()"
   ]
  },
  {
   "cell_type": "code",
   "execution_count": null,
   "metadata": {},
   "outputs": [],
   "source": [
    "plt.figure(figsize=(10, 5))\n",
    "\n",
    "post_V1_trace = post_mean[post_ch_v1,:]\n",
    "time_arr2_A = np.linspace(0, post_V1_trace.shape[0]/sr, post_V1_trace.shape[0])\n",
    "\n",
    "post_HPC_trace = post_mean[post_ch_HPC,:]\n",
    "time_arr2_B = np.linspace(0, post_HPC_trace.shape[0]/sr, post_HPC_trace.shape[0])\n",
    "\n",
    "plt.plot(time_arr2_A, post_V1_trace, label='v1', color='grey')\n",
    "plt.plot(time_arr2_B, post_HPC_trace, label='hpc', color='crimson')\n",
    "plt.legend(loc=\"lower right\")\n",
    "\n",
    "plt.title('Post-training')\n",
    "plt.xlabel('Time (s)')\n",
    "plt.ylabel('uV')\n",
    "plt.ylim([-400,300])\n",
    "plt.axvspan(0.5, 0.7, alpha=0.2, facecolor='b')\n",
    "\n",
    "# Change the end of this next line with a new file name!!\n",
    "# plt.savefig(r\"D:\\mz_Data\\DATA_Figs\\HDAC\\LFP\\pre_VEP_trace.pdf\", transparent=True) # fix this before running\n",
    "\n",
    "plt.show()"
   ]
  },
  {
   "cell_type": "code",
   "execution_count": null,
   "metadata": {},
   "outputs": [],
   "source": [
    "plt.figure(figsize=(10, 5))\n",
    "\n",
    "novel_V1_trace = novel_mean[novel_ch_v1,:]\n",
    "time_arr2_A = np.linspace(0, novel_V1_trace.shape[0]/sr, novel_V1_trace.shape[0])\n",
    "\n",
    "novel_HPC_trace = novel_mean[novel_ch_HPC,:]\n",
    "time_arr2_B = np.linspace(0, novel_HPC_trace.shape[0]/sr, novel_HPC_trace.shape[0])\n",
    "\n",
    "plt.plot(time_arr2_A, novel_V1_trace, label='v1', color='grey')\n",
    "plt.plot(time_arr2_B, novel_HPC_trace, label='hpc', color='crimson')\n",
    "plt.legend(loc=\"lower right\")\n",
    "\n",
    "plt.title('Novel')\n",
    "plt.xlabel('Time (s)')\n",
    "plt.ylabel('uV')\n",
    "plt.ylim([-400,300])\n",
    "plt.axvspan(0.5, 0.7, alpha=0.2, facecolor='b')\n",
    "\n",
    "# Change the end of this next line with a new file name!!\n",
    "# plt.savefig(r\"D:\\mz_Data\\DATA_Figs\\HDAC\\LFP\\pre_VEP_trace.pdf\", transparent=True) # fix this before running\n",
    "\n",
    "plt.show()"
   ]
  },
  {
   "cell_type": "code",
   "execution_count": null,
   "metadata": {},
   "outputs": [],
   "source": [
    "print(pre_V1_trace.shape)\n",
    "print(pre_HPC_trace.shape)\n",
    "\n",
    "print(post_V1_trace.shape)\n",
    "print(post_HPC_trace.shape)\n",
    "\n",
    "print(novel_V1_trace.shape)\n",
    "print(novel_HPC_trace.shape)"
   ]
  },
  {
   "cell_type": "markdown",
   "metadata": {},
   "source": [
    "# Quantify PLV for the V1-HPC relation"
   ]
  },
  {
   "cell_type": "code",
   "execution_count": 41,
   "metadata": {},
   "outputs": [],
   "source": [
    "import numpy as np\n",
    "import scipy.signal as sig\n",
    "\n",
    "def hilphase(y1,y2):\n",
    "    sig1_hill=sig.hilbert(y1)\n",
    "    sig2_hill=sig.hilbert(y2)\n",
    "    pdt=(np.inner(sig1_hill,np.conj(sig2_hill))/\n",
    "         (np.sqrt(np.inner(sig1_hill,np.conj(sig1_hill))\n",
    "                  *np.inner(sig2_hill,np.conj(sig2_hill)))))\n",
    "    phase = np.angle(pdt)\n",
    "    return phase\n",
    "\n",
    "def PLV_row(fixed_arr, ls_other_arrs):\n",
    "    spot1 = hilphase(fixed_arr, ls_other_arrs[0])\n",
    "    spot2 = hilphase(fixed_arr, ls_other_arrs[1])\n",
    "#     spot3 = hilphase(fixed_arr, ls_other_arrs[2])\n",
    "    out_arr = np.append(spot1, spot2)\n",
    "    return out_arr"
   ]
  },
  {
   "cell_type": "code",
   "execution_count": 42,
   "metadata": {},
   "outputs": [],
   "source": [
    "v1_pre = PLV_row(pre_V1_trace, [pre_V1_trace, pre_HPC_trace])\n",
    "hip_pre = PLV_row(pre_HPC_trace, [pre_V1_trace, pre_HPC_trace])\n",
    "pre_PLV = np.vstack((v1_pre,hip_pre)) #probably should take the abs() of this?\n",
    "\n",
    "v1_post = PLV_row(post_V1_trace, [post_V1_trace, post_HPC_trace])\n",
    "hip_post = PLV_row(post_HPC_trace, [post_V1_trace, post_HPC_trace])\n",
    "post_PLV = np.vstack((v1_post,hip_post)) #probably should take the abs() of this?\n",
    "\n",
    "v1_novel = PLV_row(novel_V1_trace, [novel_V1_trace, novel_HPC_trace])\n",
    "hip_novel = PLV_row(novel_HPC_trace, [novel_V1_trace, novel_HPC_trace])\n",
    "novel_PLV = np.vstack((v1_novel,hip_novel)) #probably should take the abs() of this?"
   ]
  },
  {
   "cell_type": "code",
   "execution_count": null,
   "metadata": {},
   "outputs": [],
   "source": [
    "# plt.rcdefaults()\n",
    "plt.figure(figsize=(12, 4))\n",
    "\n",
    "plt.subplot(1,3,1)\n",
    "sns.heatmap(pre_PLV, \n",
    "            center=0, vmin=-5, vmax=5, annot=True,\n",
    "            xticklabels=['V1','HPC'], \n",
    "            yticklabels=['V1','HPC'], cbar=False)\n",
    "plt.title('Pre')\n",
    "\n",
    "plt.subplot(1,3,2)\n",
    "sns.heatmap(post_PLV, \n",
    "            center=0, vmin=-5, vmax=5, annot=True,\n",
    "            xticklabels=['V1','HPC'], \n",
    "            yticklabels=['',''], cbar=False)\n",
    "plt.title('Post')\n",
    "\n",
    "ax3 = plt.subplot(1,3,3)\n",
    "sns.heatmap(novel_PLV, \n",
    "            center=0, vmin=-5, vmax=5, annot=True,\n",
    "            xticklabels=['V1','HPC'], \n",
    "            yticklabels=['',''], cbar=False)\n",
    "plt.title('Novel')\n",
    "\n",
    "plt.show()"
   ]
  },
  {
   "cell_type": "code",
   "execution_count": null,
   "metadata": {},
   "outputs": [],
   "source": []
  },
  {
   "cell_type": "code",
   "execution_count": null,
   "metadata": {},
   "outputs": [],
   "source": []
  },
  {
   "cell_type": "code",
   "execution_count": null,
   "metadata": {},
   "outputs": [],
   "source": []
  }
 ],
 "metadata": {
  "kernelspec": {
   "display_name": "Python 3",
   "language": "python",
   "name": "python3"
  },
  "language_info": {
   "codemirror_mode": {
    "name": "ipython",
    "version": 3
   },
   "file_extension": ".py",
   "mimetype": "text/x-python",
   "name": "python",
   "nbconvert_exporter": "python",
   "pygments_lexer": "ipython3",
   "version": "3.8.10"
  }
 },
 "nbformat": 4,
 "nbformat_minor": 4
}
