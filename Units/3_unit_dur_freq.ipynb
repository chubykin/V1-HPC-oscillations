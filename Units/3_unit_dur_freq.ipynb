{
 "cells": [
  {
   "cell_type": "code",
   "execution_count": null,
   "metadata": {},
   "outputs": [],
   "source": [
    "from __future__ import division\n",
    "import pandas as pd\n",
    "import numpy as np\n",
    "import time\n",
    "from datetime import datetime\n",
    "import matplotlib.pyplot as plt\n",
    "import matplotlib as mpl\n",
    "from matplotlib.ticker import MaxNLocator\n",
    "\n",
    "from matplotlib.ticker import FormatStrFormatter\n",
    "\n",
    "from scipy import stats\n",
    "import scipy.stats as sstat\n",
    "import scipy.signal as ssig\n",
    "import h5py\n",
    "from mpl_toolkits.mplot3d import Axes3D\n",
    "import os\n",
    "from sklearn import preprocessing\n",
    "from sklearn.cluster import KMeans\n",
    "from sklearn.decomposition import PCA as sklearnPCA\n",
    "import re\n",
    "\n",
    "# import ephys_unit_analysis as ena\n",
    "import mz_ephys_unit_analysis as mz_ena\n",
    "import mz_unit_dur_freq as mz_udf\n",
    "\n",
    "#import resampy\n",
    "import fnmatch\n",
    "import seaborn as sns\n",
    "%matplotlib inline\n",
    "%load_ext autoreload\n",
    "%autoreload 2\n",
    "mpl.rcParams['pdf.fonttype'] = 42 \n",
    "mpl.rcParams['font.sans-serif']=['Arial', 'Helvetica','Bitstream Vera Sans', 'DejaVu Sans', 'Lucida Grande', \n",
    "                                 'Verdana', 'Geneva', 'Lucid', 'Avant Garde', 'sans-serif']  \n",
    "\n",
    "sns.despine()"
   ]
  },
  {
   "cell_type": "code",
   "execution_count": 2,
   "metadata": {},
   "outputs": [],
   "source": [
    "# for publication quality plots\n",
    "def set_pub_plots(pal=sns.blend_palette(['cyan', 'magenta','gray','crimson','purple'], 5)):\n",
    "    sns.set_style(\"white\")\n",
    "    sns.set_palette(pal)\n",
    "    sns.set_context(\"poster\", font_scale=1.5, rc={\"lines.linewidth\": 2.5, \"axes.linewidth\":1.5, 'figure.facecolor': 'white'}) \n",
    "    sns.set_style(\"ticks\", {\"xtick.major.size\": 8, \"ytick.major.size\": 8})\n",
    "    plt.rcParams['axes.linewidth'] = 1.5\n",
    "\n",
    "rc_pub={'font.size': 15, 'axes.labelsize': 15, 'legend.fontsize': 10.0, \n",
    "        'axes.titlesize': 25, 'xtick.labelsize': 15, 'ytick.labelsize': 15, \n",
    "        'axes.linewidth':1.0, 'lines.linewidth': 2.5,\n",
    "        'xtick.color': 'black', 'ytick.color': 'black', 'axes.edgecolor': 'black',\n",
    "        'axes.labelcolor':'black','text.color':'black'}\n",
    "# to restore the defaults, call plt.rcdefaults() \n",
    "\n",
    "set_pub_plots()"
   ]
  },
  {
   "cell_type": "code",
   "execution_count": null,
   "metadata": {},
   "outputs": [],
   "source": [
    "pal=sns.blend_palette(['cyan', 'magenta','gray','crimson','purple'], 5)\n",
    "sns.palplot(pal)\n",
    "sns.set_palette(pal)"
   ]
  },
  {
   "cell_type": "markdown",
   "metadata": {},
   "source": [
    "---"
   ]
  },
  {
   "cell_type": "markdown",
   "metadata": {},
   "source": [
    "# First, load in the previously saved dataFrame"
   ]
  },
  {
   "cell_type": "code",
   "execution_count": null,
   "metadata": {},
   "outputs": [],
   "source": [
    "psth_df = pd.read_pickle(r\"C:\\Users\\AChub_Lab\\Desktop\\DIA_CQuinn\\V1HPC_psth.pkl\")\n",
    "psth_df.head()"
   ]
  },
  {
   "cell_type": "code",
   "execution_count": null,
   "metadata": {},
   "outputs": [],
   "source": [
    "print(psth_df.et.unique())\n",
    "print(psth_df.region.unique())\n",
    "print(psth_df.stim.unique())"
   ]
  },
  {
   "cell_type": "code",
   "execution_count": null,
   "metadata": {},
   "outputs": [],
   "source": [
    "psth_df.groupby('stim')['et'].nunique()"
   ]
  },
  {
   "cell_type": "markdown",
   "metadata": {},
   "source": [
    "---"
   ]
  },
  {
   "cell_type": "markdown",
   "metadata": {},
   "source": [
    "# Selecting only the visually responsive units\n",
    "This requires a __`user input`__ to run"
   ]
  },
  {
   "cell_type": "code",
   "execution_count": 7,
   "metadata": {},
   "outputs": [],
   "source": [
    "vr_resp_df = psth_df[psth_df.r_group_type == 'excited']"
   ]
  },
  {
   "cell_type": "code",
   "execution_count": 8,
   "metadata": {},
   "outputs": [],
   "source": [
    "stim_choice = 'post'\n",
    "\n",
    "if stim_choice != 'novel':\n",
    "    vis_resp_df = vr_resp_df[vr_resp_df['stim'] == stim_choice]\n",
    "else:\n",
    "    bad_ets = []#'HP21','HP31']\n",
    "    vis_resp_df = vr_resp_df[vr_resp_df['stim'] == stim_choice]\n",
    "    v1_updated = vis_resp_df[(~vis_resp_df['et'].isin(bad_ets)) & (vis_resp_df['region']=='v1')] #excludes v1 units that are from ets\n",
    "    hpc_updated = vis_resp_df[vis_resp_df['region']=='hippo']\n",
    "    vis_resp_df = pd.concat([v1_updated, hpc_updated])"
   ]
  },
  {
   "cell_type": "markdown",
   "metadata": {},
   "source": [
    "# Separating by group and moving to arrays"
   ]
  },
  {
   "cell_type": "code",
   "execution_count": null,
   "metadata": {},
   "outputs": [],
   "source": [
    "print(f'all excited units shape for {stim_choice}')\n",
    "\n",
    "group_A_df = vis_resp_df[vis_resp_df['region'] == 'v1']\n",
    "group_B_df = vis_resp_df[vis_resp_df['region'] == 'hippo']\n",
    "\n",
    "A_array = np.array(group_A_df.pivot(index='cuid', columns='times', values='zscore'))\n",
    "print(f'v1: {A_array.shape}') #this is [units x times] and the values are above\n",
    "\n",
    "B_array = np.array(group_B_df.pivot(index='cuid', columns='times', values='zscore'))\n",
    "print(f'hpc: {B_array.shape}') #this is [units x times] and the values are above"
   ]
  },
  {
   "cell_type": "markdown",
   "metadata": {},
   "source": [
    "---"
   ]
  },
  {
   "cell_type": "markdown",
   "metadata": {},
   "source": [
    "# Plotting heatmaps of all units (vr)"
   ]
  },
  {
   "cell_type": "code",
   "execution_count": 258,
   "metadata": {},
   "outputs": [],
   "source": [
    "#this checks each et for the units that are included\n",
    "# sp_dims = (12, 4) #(width, height)\n",
    "# v_max, v_min = 5, -1\n",
    "# xvalues = np.arange(start=0.4, stop=1.7, step=0.2)\n",
    "# y_max, y_min = 6, -2\n",
    "\n",
    "# for t,tt in group_A_df.groupby('et'):\n",
    "#     is_sorted = False\n",
    "#     v1_all = tt.pivot(index='cuid', columns='times', values='zscore')\n",
    "#     hip_all = tt.pivot(index='cuid', columns='times', values='zscore')\n",
    "#     if is_sorted:\n",
    "#         v1_km_np = v1_all.values[ np.argsort(np.mean(v1_all.values[:,50:80], axis = 1) )] #if I want sorted activity\n",
    "#         hip_km_np = hip_all.values[ np.argsort(np.mean(hip_all.values[:,50:80], axis = 1) )] #if I want sorted activity\n",
    "#     else:\n",
    "#         v1_km_np = v1_all.values\n",
    "#         hip_km_np = hip_all.values\n",
    "\n",
    "#     f, ax1 = plt.subplots(1,1, sharex='col', figsize=(10,3))\n",
    "#     # Heatmap for A\n",
    "#     sns.heatmap(v1_km_np, cmap = 'afmhot', xticklabels=20, yticklabels=False, vmax=v_max, center = 2, vmin = v_min, robust = True, ax=ax1)\n",
    "#     ax1.set_xlabel('Time (ms)')\n",
    "#     ax1.set_ylabel(str(v1_km_np.shape[0]))\n",
    "#     ax1.set_xlim(0.4*100,1.6*100)\n",
    "#     ax1.set_title(t)\n",
    "#     plt.show()"
   ]
  },
  {
   "cell_type": "code",
   "execution_count": 10,
   "metadata": {},
   "outputs": [],
   "source": [
    "is_sorted = True\n",
    "\n",
    "v1_all = group_A_df.pivot(index='cuid', columns='times', values='zscore')\n",
    "hip_all = group_B_df.pivot(index='cuid', columns='times', values='zscore')\n",
    "\n",
    "if is_sorted:\n",
    "    v1_km_np = v1_all.values[ np.argsort(np.mean(v1_all.values[:,50:80], axis = 1) )] #if I want sorted activity\n",
    "    hip_km_np = hip_all.values[ np.argsort(np.mean(hip_all.values[:,50:80], axis = 1) )] #if I want sorted activity\n",
    "else:\n",
    "    v1_km_np = v1_all.values\n",
    "    hip_km_np = hip_all.values"
   ]
  },
  {
   "cell_type": "code",
   "execution_count": 11,
   "metadata": {},
   "outputs": [],
   "source": [
    "sp_dims = (12, 4) #(width, height)\n",
    "v_max, v_min = 5, -1\n",
    "xvalues = np.arange(start=0.4, stop=1.7, step=0.2)\n",
    "y_max, y_min = 6, -2"
   ]
  },
  {
   "cell_type": "code",
   "execution_count": null,
   "metadata": {},
   "outputs": [],
   "source": [
    "f, (ax1, ax2) = plt.subplots(1,2, sharex='col', figsize=sp_dims)\n",
    "f.tight_layout()\n",
    "plt.suptitle(stim_choice)\n",
    "\n",
    "# Heatmap for A\n",
    "sns.heatmap(v1_km_np, \n",
    "            cmap = 'afmhot', xticklabels=20, yticklabels=False, \n",
    "            vmax=v_max, center = 2, vmin = v_min, robust = True, ax=ax1)\n",
    "ax1.set_xlabel('Time (ms)')\n",
    "ax1.set_ylabel(str(v1_km_np.shape[0]))\n",
    "ax1.set_xlim(0.4*100,1.6*100)\n",
    "ax1.set_title('V1')\n",
    "cbar = ax1.collections[0].colorbar\n",
    "cbar.remove()\n",
    "\n",
    "#Heatmap for B\n",
    "sns.heatmap(hip_km_np, \n",
    "            cmap = 'afmhot', xticklabels=20, yticklabels=False, \n",
    "            vmax=v_max, center = 2, vmin = v_min, robust = True, ax=ax2)\n",
    "ax2.set_xlabel('Time (ms)')\n",
    "ax2.set_ylabel(str(hip_km_np.shape[0]))\n",
    "ax2.set_xlim(0.4*100,1.6*100)\n",
    "ax2.set_title('Hippo')\n",
    "cbar = ax2.collections[0].colorbar\n",
    "cbar.remove()\n",
    "\n",
    "# Change the end of this next line with a new file name!!\n",
    "# plt.savefig(r\"C:\\Users\\AChub_Lab\\Desktop\\DIA_CQuinn\\figure_panels\\redo_v1hpc_mainfigure\\novel_V1HPC_heatmap_excitedUnits.pdf\", transparent=True)\n",
    "\n",
    "plt.show()"
   ]
  },
  {
   "cell_type": "code",
   "execution_count": null,
   "metadata": {},
   "outputs": [],
   "source": [
    "f, ax = plt.subplots(1,1, sharex='col', figsize=(10,3))\n",
    "\n",
    "g2 = sns.lineplot(x = 'times', y = 'ztc', estimator = 'mean', data = pd.concat([group_A_df,group_B_df]), hue='region',\n",
    "                  color = 'grey', ax=ax, errorbar=None)\n",
    "ax.set(xlabel='Time (s)', ylabel='Zscore')\n",
    "ax.set_title(stim_choice)\n",
    "ax.axhline(y=0, color='k', linestyle=\"--\", linewidth=1.0, alpha=0.75)\n",
    "ax.set_xlim(0.4,1.6)\n",
    "ax.set_xticks([0.4,0.6,0.8,1.0,1.2,1.4,1.6])\n",
    "ax.set_ylim(-2,22)\n",
    "ax.set_yticks([0,5,10,15,20])\n",
    "\n",
    "sns.despine()\n",
    "# Change the end of this next line with a new file name!!\n",
    "# plt.savefig(r\"C:\\Users\\AChub_Lab\\Desktop\\DIA_CQuinn\\figure_panels\\redo_v1hpc_mainfigure\\novel_V1HPC_line_excitedUnits.pdf\", transparent=True)\n",
    "\n",
    "plt.show()"
   ]
  },
  {
   "cell_type": "markdown",
   "metadata": {},
   "source": [
    "---"
   ]
  },
  {
   "cell_type": "markdown",
   "metadata": {},
   "source": [
    "# Plotting all of the detected peaks (units with N or more peaks)"
   ]
  },
  {
   "cell_type": "code",
   "execution_count": 14,
   "metadata": {},
   "outputs": [],
   "source": [
    "\n",
    "num_cycles_required = 3\n",
    "is_sorted = False\n"
   ]
  },
  {
   "cell_type": "code",
   "execution_count": 15,
   "metadata": {},
   "outputs": [],
   "source": [
    "durationA, indA, cuidA_ls = [], [], []\n",
    "for unit in range(A_array.shape[0]):\n",
    "    yy = A_array[unit]\n",
    "    dur, peak_ind = mz_udf._duration_peaks_unit(yy)\n",
    "    if len(peak_ind) >= num_cycles_required:\n",
    "        durationA.append(dur)\n",
    "        indA.append(peak_ind)\n",
    "        cuidA_ls.append(yy)\n",
    "\n",
    "durationB, indB, cuidB_ls = [], [], []\n",
    "for unit in range(B_array.shape[0]):\n",
    "    yy = B_array[unit]\n",
    "    dur, peak_ind = mz_udf._duration_peaks_unit(yy)\n",
    "    if len(peak_ind) >= num_cycles_required:\n",
    "        durationB.append(dur)\n",
    "        indB.append(peak_ind)\n",
    "        cuidB_ls.append(yy)\n",
    "\n",
    "indA_array = np.concatenate(indA, axis=0)\n",
    "indB_array = np.concatenate(indB, axis=0)"
   ]
  },
  {
   "cell_type": "code",
   "execution_count": null,
   "metadata": {},
   "outputs": [],
   "source": [
    "fig_size = plt.rcParams[\"figure.figsize\"]\n",
    "fig_size[0] = 10.0 # x dimension\n",
    "fig_size[1] = 4.0 # y dimension\n",
    "plt.axvspan(50,70, color='grey', alpha=0.2)\n",
    "\n",
    "sns.histplot(indA_array, binwidth=3, linewidth=0, stat='count', color='cyan', kde=True, kde_kws={'bw_adjust' : 0.12})\n",
    "sns.histplot(indB_array, binwidth=3, linewidth=0, stat='count', color='magenta', kde=True, kde_kws={'bw_adjust' : 0.12})\n",
    "# sns.kdeplot(indA_array, bw_method=0.05, color='cyan', fill=True)\n",
    "# sns.kdeplot(indB_array, bw_method=0.05, color='magenta', fill=True)\n",
    "\n",
    "plt.title(str('kde peak times: '+stim_choice))\n",
    "plt.xlim([50,110])\n",
    "plt.xticks(ticks=[50,60,70,80,90,100], labels=[0.5,0.6,0.7,0.8,0.9,1.0])\n",
    "# plt.yticks(ticks=[0,0.02,0.04])\n",
    "plt.xlabel('Time (s)')\n",
    "\n",
    "sns.despine()\n",
    "# Change the end of this next line with a new file name!!\n",
    "# plt.savefig(r\"C:\\Users\\AChub_Lab\\Desktop\\DIA_CQuinn\\figure_panels\\redo_v1hpc_mainfigure\\post_V1HPC_3peaks.pdf\", transparent=True)\n",
    "\n",
    "plt.show()"
   ]
  },
  {
   "cell_type": "code",
   "execution_count": 268,
   "metadata": {},
   "outputs": [],
   "source": [
    "cuidA_arr = np.array(cuidA_ls)\n",
    "cuidB_arr = np.array(cuidB_ls)\n",
    "\n",
    "is_sorted = False #dont change this, the code will break\n",
    "\n",
    "if is_sorted:\n",
    "    v1_km_np = np.argsort(np.mean(cuidA_arr[:,50:80], axis = 1)) #if I want sorted activity\n",
    "    hip_km_np = np.argsort(np.mean(cuidB_arr[:,50:80], axis = 1)) #if I want sorted activity\n",
    "else:\n",
    "    v1_km_np = cuidA_arr\n",
    "    hip_km_np = cuidB_arr"
   ]
  },
  {
   "cell_type": "code",
   "execution_count": null,
   "metadata": {},
   "outputs": [],
   "source": [
    "f, (ax1, ax2) = plt.subplots(1,2, sharex='col', figsize=sp_dims)\n",
    "f.tight_layout()\n",
    "plt.suptitle(f'{stim_choice} 3 cycles')\n",
    "\n",
    "# Heatmap for A\n",
    "sns.heatmap(v1_km_np, \n",
    "            cmap = 'afmhot', xticklabels=20, yticklabels=False, \n",
    "            vmax=v_max, center = 2, vmin = v_min, robust = True, ax=ax1)\n",
    "ax1.set_xlabel('Time (ms)')\n",
    "ax1.set_ylabel(str(v1_km_np.shape[0]))\n",
    "ax1.set_xlim(0.4*100,1.6*100)\n",
    "ax1.set_title('V1')\n",
    "cbar = ax1.collections[0].colorbar\n",
    "cbar.remove()\n",
    "\n",
    "#Heatmap for B\n",
    "sns.heatmap(hip_km_np, \n",
    "            cmap = 'afmhot', xticklabels=20, yticklabels=False, \n",
    "            vmax=v_max, center = 2, vmin = v_min, robust = True, ax=ax2)\n",
    "ax2.set_xlabel('Time (ms)')\n",
    "ax2.set_ylabel(str(hip_km_np.shape[0]))\n",
    "ax2.set_xlim(0.4*100,1.6*100)\n",
    "ax2.set_title('Hippo')\n",
    "cbar = ax2.collections[0].colorbar\n",
    "cbar.remove()\n",
    "\n",
    "# Change the end of this next line with a new file name!!\n",
    "# plt.savefig(r\"C:\\Users\\AChub_Lab\\Desktop\\DIA_CQuinn\\figure_panels\\redo_v1hpc_mainfigure\\post_V1HPC_heatmap_3cycles.pdf\", transparent=True)\n",
    "\n",
    "plt.show()"
   ]
  },
  {
   "cell_type": "code",
   "execution_count": null,
   "metadata": {},
   "outputs": [],
   "source": []
  },
  {
   "cell_type": "markdown",
   "metadata": {},
   "source": [
    "---"
   ]
  },
  {
   "cell_type": "markdown",
   "metadata": {},
   "source": [
    "# Oscillation duration"
   ]
  },
  {
   "cell_type": "code",
   "execution_count": null,
   "metadata": {},
   "outputs": [],
   "source": [
    "durA_df = pd.DataFrame(tuple(zip(durationA,(['v1']*len(durationA)))),columns=['dur','group'])\n",
    "durB_df = pd.DataFrame(tuple(zip(durationB,(['hip']*len(durationB)))),columns=['dur','group'])\n",
    "all_dur_df=pd.concat([durA_df,durB_df])\n",
    "print(durA_df.shape, durB_df.shape)\n",
    "all_dur_df.head()"
   ]
  },
  {
   "cell_type": "code",
   "execution_count": null,
   "metadata": {},
   "outputs": [],
   "source": [
    "#removes the NaN values from the above dataframe\n",
    "all_dur_df=all_dur_df[~all_dur_df.dur.isna()]\n",
    "all_dur_df.shape"
   ]
  },
  {
   "cell_type": "code",
   "execution_count": null,
   "metadata": {},
   "outputs": [],
   "source": [
    "fig_size = plt.rcParams[\"figure.figsize\"]\n",
    "fig_size[0] = 7.0 # x dimension\n",
    "fig_size[1] = 4.0 # y dimension\n",
    "\n",
    "ax1= plt.subplot(111)\n",
    "sns.kdeplot(data=all_dur_df, x=\"dur\", \n",
    "            hue=\"group\",\n",
    "            cumulative=True, \n",
    "            common_norm=False,\n",
    "            common_grid=True,\n",
    "            bw_method=0.5,\n",
    "            legend=True\n",
    "           )\n",
    "\n",
    "plt.title(stim_choice)\n",
    "plt.xlabel('Time (s)')\n",
    "plt.xticks([0,0.5,1.0,1.5])\n",
    "plt.xlim([-0.1,1.6])\n",
    "plt.yticks([0,0.5,1.0])\n",
    "\n",
    "sns.despine()\n",
    "# Change the end of this next line with a new file name!!\n",
    "# plt.savefig(r\"C:\\Users\\AChub_Lab\\Desktop\\DIA_CQuinn\\figure_panels\\redo_v1hpc_mainfigure\\novel_V1HPC_durationKDE_excitedUnits.pdf\", transparent=True)\n",
    "\n",
    "plt.show()"
   ]
  },
  {
   "cell_type": "code",
   "execution_count": null,
   "metadata": {},
   "outputs": [],
   "source": [
    "fig_size = plt.rcParams[\"figure.figsize\"]\n",
    "fig_size[0] = 2.0 # x dimension\n",
    "fig_size[1] = 5.0 # y dimension\n",
    "\n",
    "ax1=plt.subplot(111)\n",
    "sns.barplot(data=all_dur_df, x='group', y='dur', order=[\"v1\",\"hip\"], errorbar=('ci', 68))\n",
    "\n",
    "plt.ylabel('Time (s)')\n",
    "plt.xlabel('')\n",
    "ax1.set_xticklabels(['V1','HPC'])\n",
    "plt.yticks(ticks=[0,0.1,0.2,0.3,0.4,0.5])\n",
    "plt.ylim([0,0.55])\n",
    "plt.title(stim_choice)\n",
    "\n",
    "sns.despine()\n",
    "# Change the end of this next line with a new file name!!\n",
    "# plt.savefig(r\"C:\\Users\\AChub_Lab\\Desktop\\DIA_CQuinn\\figure_panels\\redo_v1hpc_mainfigure\\novel_V1HPC_durationMean_excitedUnits.pdf\", transparent=True)\n",
    "\n",
    "plt.show()"
   ]
  },
  {
   "cell_type": "markdown",
   "metadata": {},
   "source": [
    "# Run the stats on the oscillation duration"
   ]
  },
  {
   "cell_type": "code",
   "execution_count": null,
   "metadata": {},
   "outputs": [],
   "source": [
    "result = sstat.ks_2samp(all_dur_df[all_dur_df['group']=='v1'].dur, all_dur_df[all_dur_df['group']=='hip'].dur)\n",
    "print('Oscillation Duration')\n",
    "print(stim_choice)\n",
    "print('v1 units: {0} --- hip units: {1}'.format(len(indA),len(indB)))\n",
    "print(result)"
   ]
  },
  {
   "cell_type": "code",
   "execution_count": null,
   "metadata": {},
   "outputs": [],
   "source": [
    "print('Oscillation Duration')\n",
    "print(stim_choice)\n",
    "\n",
    "print('Mean of WT: {0}'.format(np.mean(all_dur_df[all_dur_df['group']=='v1'].dur)))\n",
    "print('Mean of FX: {0}'.format(np.mean(all_dur_df[all_dur_df['group']=='hip'].dur)))\n",
    "\n",
    "result = sstat.ttest_ind(all_dur_df[all_dur_df['group']=='v1'].dur, all_dur_df[all_dur_df['group']=='hip'].dur)\n",
    "print(result)"
   ]
  },
  {
   "cell_type": "markdown",
   "metadata": {},
   "source": [
    "---"
   ]
  },
  {
   "cell_type": "markdown",
   "metadata": {},
   "source": [
    "---"
   ]
  },
  {
   "cell_type": "markdown",
   "metadata": {},
   "source": [
    "---"
   ]
  }
 ],
 "metadata": {
  "kernelspec": {
   "display_name": "Python 3 (ipykernel)",
   "language": "python",
   "name": "python3"
  },
  "language_info": {
   "codemirror_mode": {
    "name": "ipython",
    "version": 3
   },
   "file_extension": ".py",
   "mimetype": "text/x-python",
   "name": "python",
   "nbconvert_exporter": "python",
   "pygments_lexer": "ipython3",
   "version": "3.10.13"
  }
 },
 "nbformat": 4,
 "nbformat_minor": 4
}
