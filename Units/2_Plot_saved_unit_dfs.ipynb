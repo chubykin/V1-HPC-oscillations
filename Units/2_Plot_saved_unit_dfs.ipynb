{
 "cells": [
  {
   "cell_type": "code",
   "execution_count": null,
   "metadata": {},
   "outputs": [],
   "source": [
    "from __future__ import division\n",
    "import pandas as pd\n",
    "import numpy as np\n",
    "import time\n",
    "from datetime import datetime\n",
    "import matplotlib.pyplot as plt\n",
    "import matplotlib as mpl\n",
    "from matplotlib.ticker import MaxNLocator\n",
    "\n",
    "from matplotlib.ticker import FormatStrFormatter\n",
    "\n",
    "import scipy.stats as sstat\n",
    "import scipy.signal as ssig\n",
    "import h5py\n",
    "from mpl_toolkits.mplot3d import Axes3D\n",
    "import os\n",
    "from sklearn import preprocessing\n",
    "from sklearn.cluster import KMeans\n",
    "from sklearn.decomposition import PCA as sklearnPCA\n",
    "import re\n",
    "\n",
    "# import ephys_unit_analysis as ena\n",
    "import mz_ephys_unit_analysis as mz_ena\n",
    "import mz_unit_dur_freq as mz_udf\n",
    "\n",
    "#import resampy\n",
    "import fnmatch\n",
    "import seaborn as sns\n",
    "%matplotlib inline\n",
    "%load_ext autoreload\n",
    "%autoreload 2\n",
    "mpl.rcParams['pdf.fonttype'] = 42 \n",
    "mpl.rcParams['font.sans-serif']=['Arial', 'Helvetica','Bitstream Vera Sans', 'DejaVu Sans', 'Lucida Grande', \n",
    "                                 'Verdana', 'Geneva', 'Lucid', 'Avant Garde', 'sans-serif']  \n",
    "\n",
    "sns.despine()"
   ]
  },
  {
   "cell_type": "code",
   "execution_count": 2,
   "metadata": {},
   "outputs": [],
   "source": [
    "# for publication quality plots\n",
    "def set_pub_plots(pal=sns.blend_palette([\"gray\",\"crimson\", 'cyan', 'magenta', 'purple'  ],5)):\n",
    "    sns.set_style(\"white\")\n",
    "    sns.set_palette(pal)\n",
    "    sns.set_context(\"poster\", font_scale=1.5, rc={\"lines.linewidth\": 2.5, \"axes.linewidth\":2.5, 'figure.facecolor': 'white'}) \n",
    "    sns.set_style(\"ticks\", {\"xtick.major.size\": 8, \"ytick.major.size\": 8})\n",
    "    plt.rcParams['axes.linewidth'] = 2.5\n",
    "\n",
    "rc_pub={'font.size': 25, 'axes.labelsize': 25, 'legend.fontsize': 25.0, \n",
    "        'axes.titlesize': 25, 'xtick.labelsize': 25, 'ytick.labelsize': 25, \n",
    "        'axes.linewidth':2.5, 'lines.linewidth': 2.5,\n",
    "        'xtick.color': 'black', 'ytick.color': 'black', 'axes.edgecolor': 'black',\n",
    "        'axes.labelcolor':'black','text.color':'black'}\n",
    "# to restore the defaults, call plt.rcdefaults() \n",
    "\n",
    "set_pub_plots()"
   ]
  },
  {
   "cell_type": "code",
   "execution_count": null,
   "metadata": {},
   "outputs": [],
   "source": [
    "pal=sns.blend_palette(['cyan','magenta','grey','crimson'], 4)\n",
    "sns.palplot(pal)\n",
    "sns.set_palette(pal)"
   ]
  },
  {
   "cell_type": "markdown",
   "metadata": {},
   "source": [
    "---"
   ]
  },
  {
   "cell_type": "markdown",
   "metadata": {},
   "source": [
    "# First, load in the previously saved dataFrame"
   ]
  },
  {
   "cell_type": "code",
   "execution_count": 4,
   "metadata": {},
   "outputs": [],
   "source": [
    "pre_df = pd.read_pickle(r\"D:\\mz_Data\\saved_dfs\\01_D&P_Osc_v1hpc\\units\\redo_brain_regions\\V1HPC_pre_psth.pkl\")\n",
    "post_df = pd.read_pickle(r\"D:\\mz_Data\\saved_dfs\\01_D&P_Osc_v1hpc\\units\\redo_brain_regions\\V1HPC_post_psth.pkl\")\n",
    "novel_df = pd.read_pickle(r\"D:\\mz_Data\\saved_dfs\\01_D&P_Osc_v1hpc\\units\\redo_brain_regions\\V1HPC_novel_psth.pkl\")"
   ]
  },
  {
   "cell_type": "code",
   "execution_count": 12,
   "metadata": {},
   "outputs": [],
   "source": [
    "# combine the pre/post df with the novel df\n",
    "psth_df = pd.concat([pre_df,post_df,novel_df])"
   ]
  },
  {
   "cell_type": "code",
   "execution_count": 13,
   "metadata": {},
   "outputs": [],
   "source": [
    "def label_region(row):\n",
    "    if (row['depth'] <= 3100) & (row['depth'] >= 2000):\n",
    "        return 'v1'\n",
    "    elif (row['depth'] < 1800) & (row['depth'] >= 600):\n",
    "        return 'hippo'\n",
    "    elif (row['depth'] < 600):\n",
    "        return 'thal'\n",
    "    else:\n",
    "        return 'none'"
   ]
  },
  {
   "cell_type": "code",
   "execution_count": null,
   "metadata": {},
   "outputs": [],
   "source": [
    "psth_df['region'] = psth_df.apply(lambda row: label_region(row), axis=1)\n",
    "\n",
    "psth_df.head()"
   ]
  },
  {
   "cell_type": "code",
   "execution_count": 15,
   "metadata": {},
   "outputs": [],
   "source": [
    "# convert depth column to insertion (ie flip 0 value from end of probe to surface of brain)\n",
    "psth_df['insert'] = abs(psth_df['depth']-3100)\n"
   ]
  },
  {
   "cell_type": "code",
   "execution_count": null,
   "metadata": {},
   "outputs": [],
   "source": [
    "print(psth_df.et.unique())\n",
    "print(psth_df.region.unique())\n",
    "print(psth_df.stim.unique())"
   ]
  },
  {
   "cell_type": "markdown",
   "metadata": {},
   "source": [
    "---"
   ]
  },
  {
   "cell_type": "code",
   "execution_count": 17,
   "metadata": {},
   "outputs": [],
   "source": [
    "psth2_df = psth_df.drop(['path', 'cc'], axis=1)\n",
    "psth2_df = psth2_df[(psth2_df['region']=='v1') | (psth2_df['region']=='hippo')]\n",
    "key_pca = 'r_groups'\n",
    "num_groups = 2"
   ]
  },
  {
   "cell_type": "code",
   "execution_count": null,
   "metadata": {},
   "outputs": [],
   "source": [
    "psth2_df.region.unique()"
   ]
  },
  {
   "cell_type": "code",
   "execution_count": null,
   "metadata": {},
   "outputs": [],
   "source": [
    "for d,dd in psth_df.groupby(['stim']):\n",
    "    "
   ]
  },
  {
   "cell_type": "code",
   "execution_count": null,
   "metadata": {},
   "outputs": [],
   "source": [
    "my_stim = 'post'\n",
    "\n",
    "solo_stim = psth_df[psth_df['stim'] == my_stim]\n",
    "\n",
    "only_v1 = solo_stim[solo_stim['region'] == 'v1']\n",
    "only_hpc = solo_stim[solo_stim['region'] == 'hippo']"
   ]
  },
  {
   "cell_type": "code",
   "execution_count": null,
   "metadata": {},
   "outputs": [],
   "source": [
    "\n",
    "\n",
    "only_v1_kmeans = mz_ena.unit_kmeans(only_v1, num_groups, key_pca, 50, 250) #PCA on 0.5 to 2.5s"
   ]
  },
  {
   "cell_type": "code",
   "execution_count": null,
   "metadata": {},
   "outputs": [],
   "source": []
  },
  {
   "cell_type": "code",
   "execution_count": null,
   "metadata": {},
   "outputs": [],
   "source": []
  },
  {
   "cell_type": "code",
   "execution_count": null,
   "metadata": {},
   "outputs": [],
   "source": []
  },
  {
   "cell_type": "markdown",
   "metadata": {},
   "source": [
    "### Determine the number of mice in each situation"
   ]
  },
  {
   "cell_type": "code",
   "execution_count": null,
   "metadata": {},
   "outputs": [],
   "source": [
    "# stim_list = ['pre', 'post', 'novel']\n",
    "# region_ls = ['v1', 'hippo']\n",
    "\n",
    "# for stim in stim_list:\n",
    "#     foo1 = psth_df[psth_df['stim'] == stim]\n",
    "#     print(stim)\n",
    "#     for reg in region_ls:\n",
    "#         foo2 = foo1[foo1['region'] == reg]\n",
    "#         print(reg)\n",
    "#         print(foo2.et.unique())\n",
    "#     print('~~~~~~~~~~')"
   ]
  },
  {
   "cell_type": "markdown",
   "metadata": {},
   "source": [
    "# Kmeans clustering"
   ]
  },
  {
   "cell_type": "code",
   "execution_count": null,
   "metadata": {},
   "outputs": [],
   "source": [
    "print(psth_df.stim.unique())\n",
    "print(psth_df.region.unique())\n",
    "psth_df.head(2)"
   ]
  },
  {
   "cell_type": "code",
   "execution_count": 12,
   "metadata": {},
   "outputs": [],
   "source": [
    "my_stim = 'post'\n",
    "\n",
    "solo_stim = psth_df[psth_df['stim'] == my_stim]\n",
    "\n",
    "only_v1 = solo_stim[solo_stim['region'] == 'v1']\n",
    "only_hpc = solo_stim[solo_stim['region'] == 'hippo']"
   ]
  },
  {
   "cell_type": "code",
   "execution_count": null,
   "metadata": {},
   "outputs": [],
   "source": [
    "key_pca = 'r_groups'\n",
    "num_groups = 10\n",
    "\n",
    "only_v1_kmeans = mz_ena.unit_kmeans(only_v1, num_groups, key_pca, 50, 250) #PCA on 0.5 to 2.5s\n",
    "# only_hpc_kmeans = mz_ena.unit_kmeans(only_hpc, num_groups, key_pca, 50, 250) #PCA on 0.5 to 2.5s\n"
   ]
  },
  {
   "cell_type": "markdown",
   "metadata": {},
   "source": [
    "### Plotting some spike rasters"
   ]
  },
  {
   "cell_type": "code",
   "execution_count": null,
   "metadata": {},
   "outputs": [],
   "source": [
    "spk_pre_df = pd.read_pickle(r\"D:\\mz_Data\\saved_dfs\\Multi_brain_regions\\redo_brain_regions\\V1HPC_pre_spikes.pkl\")\n",
    "spk_post_df = pd.read_pickle(r\"D:\\mz_Data\\saved_dfs\\Multi_brain_regions\\redo_brain_regions\\V1HPC_post_spikes.pkl\")\n",
    "spk_novel_df = pd.read_pickle(r\"D:\\mz_Data\\saved_dfs\\Multi_brain_regions\\redo_brain_regions\\V1HPC_novel_spikes.pkl\")\n",
    "\n",
    "# combine the pre/post df with the novel df\n",
    "spike_df = pd.concat([spk_pre_df,spk_post_df,spk_novel_df])\n",
    "spike_df.head()"
   ]
  },
  {
   "cell_type": "code",
   "execution_count": 19,
   "metadata": {},
   "outputs": [],
   "source": [
    "stim_spk = spike_df[spike_df['stim'] == my_stim]\n",
    "\n",
    "spike_v1 = stim_spk[stim_spk['region'] == 'v1']\n",
    "spike_hpc = stim_spk[stim_spk['region'] == 'hippo']"
   ]
  },
  {
   "cell_type": "code",
   "execution_count": null,
   "metadata": {},
   "outputs": [],
   "source": [
    "v1_map = dict(only_v1_kmeans[['cuid', 'r_groups']].values)\n",
    "spike_v1['r_groups'] = spike_v1.cuid.map(v1_map)\n",
    "\n",
    "hpc_map = dict(only_hpc_kmeans[['cuid', 'r_groups']].values)\n",
    "spike_hpc['r_groups'] = spike_hpc.cuid.map(hpc_map)\n"
   ]
  },
  {
   "cell_type": "code",
   "execution_count": null,
   "metadata": {},
   "outputs": [],
   "source": [
    "# rg is the r_groups label -- 0 to the num_groups\n",
    "v1_rg = 9\n",
    "\n",
    "f, ax = plt.subplots(1,2, sharex=False, sharey=False, figsize = (15,2))\n",
    "\n",
    "g1 = sns.heatmap(only_v1_kmeans[only_v1_kmeans.r_groups==v1_rg].pivot_table(index=['cuid'], columns=['times'], values=['zscore']),\n",
    "                 cmap = 'jet', ax = ax[0], xticklabels=50, yticklabels=False, vmax=5, center = 2, vmin = -1,\n",
    "                 robust = True, cbar=False)\n",
    "ax[0].set(xlabel='Time (s)', ylabel=len(only_v1_kmeans[only_v1_kmeans.r_groups==v1_rg]['cuid'].unique()))\n",
    "ax[0].set_xticklabels(np.arange(0,3,0.5), rotation=0)\n",
    "ax[0].set_title('group ' + str(v1_rg), loc = 'center')\n",
    "\n",
    "g2 = sns.lineplot(x = 'times', y = 'ztc', estimator = 'mean', data = only_v1_kmeans[only_v1_kmeans.r_groups==v1_rg], \n",
    "                  color = 'grey', ax=ax[1], ci=None)\n",
    "ax[1].set(xlabel='Time (s)', ylabel='')\n",
    "ax[1].set_title('group ' + str(v1_rg), loc = 'center')\n",
    "ax[1].axhline(y=0, color='k', linestyle=\"--\", linewidth=1.0, alpha=0.75)\n",
    "ax[1].xaxis.set_major_locator(MaxNLocator(7))\n",
    "\n",
    "plt.show()"
   ]
  },
  {
   "cell_type": "code",
   "execution_count": null,
   "metadata": {
    "scrolled": true
   },
   "outputs": [],
   "source": [
    "rg_spike_v1 = spike_v1[spike_v1['r_groups'] == v1_rg]\n",
    "for i in rg_spike_v1.cuid.unique():\n",
    "    f, ax1 = plt.subplots(1,1, sharex='col', figsize=(10, 3))\n",
    "    plt.plot( rg_spike_v1[(rg_spike_v1.cuid == i)].trial_spikes,  \n",
    "             rg_spike_v1[(rg_spike_v1.cuid == i)].trial, \n",
    "             '.', color='grey')\n",
    "    plt.title('unit: {0} --- rg: {1}'.format(str(i),v1_rg))\n",
    "    plt.axvspan(0.5,0.7, color='grey', alpha=0.5)\n",
    "    plt.ylabel('Trial')\n",
    "    plt.xlim([0,2.5])\n",
    "    plt.show()"
   ]
  },
  {
   "cell_type": "code",
   "execution_count": null,
   "metadata": {},
   "outputs": [],
   "source": [
    "# rg is the r_groups label -- 0 to the num_groups\n",
    "hpc_rg = 9\n",
    "\n",
    "f, ax = plt.subplots(1,2, sharex=False, sharey=False, figsize = (15,2))\n",
    "\n",
    "g1 = sns.heatmap(only_hpc_kmeans[only_hpc_kmeans.r_groups==hpc_rg].pivot_table(index=['cuid'], columns=['times'], values=['zscore']),\n",
    "                 cmap = 'jet', ax = ax[0], xticklabels=50, yticklabels=False, vmax=5, center = 2, vmin = -1,\n",
    "                 robust = True, cbar=False)\n",
    "ax[0].set(xlabel='Time (s)', ylabel=len(only_hpc_kmeans[only_hpc_kmeans.r_groups==hpc_rg]['cuid'].unique()))\n",
    "ax[0].set_xticklabels(np.arange(0,3,0.5), rotation=0)\n",
    "ax[0].set_title('group ' + str(hpc_rg), loc = 'center')\n",
    "\n",
    "g2 = sns.lineplot(x = 'times', y = 'ztc', estimator = 'mean', data = only_hpc_kmeans[only_hpc_kmeans.r_groups==hpc_rg], \n",
    "                  color = 'crimson', ax=ax[1], ci=None)\n",
    "ax[1].set(xlabel='Time (s)', ylabel='')\n",
    "ax[1].set_title('group ' + str(hpc_rg), loc = 'center')\n",
    "ax[1].axhline(y=0, color='k', linestyle=\"--\", linewidth=1.0, alpha=0.75)\n",
    "ax[1].xaxis.set_major_locator(MaxNLocator(7))\n",
    "\n",
    "plt.show()"
   ]
  },
  {
   "cell_type": "code",
   "execution_count": null,
   "metadata": {
    "scrolled": true
   },
   "outputs": [],
   "source": [
    "rg_spike_hpc = spike_hpc[spike_hpc['r_groups'] == hpc_rg]\n",
    "for i in rg_spike_hpc.cuid.unique():\n",
    "    f, ax1 = plt.subplots(1,1, sharex='col', figsize=(10, 3))\n",
    "    plt.plot( rg_spike_hpc[(rg_spike_hpc.cuid == i)].trial_spikes,  \n",
    "             rg_spike_hpc[(rg_spike_hpc.cuid == i)].trial, \n",
    "             '.', color='crimson')\n",
    "    plt.title('unit: {0} --- rg: {1}'.format(str(i),hpc_rg))\n",
    "    plt.axvspan(0.5,0.7, color='grey', alpha=0.5)\n",
    "    plt.ylabel('Trial')\n",
    "    plt.xlim([0,3.0])\n",
    "    plt.show()"
   ]
  },
  {
   "cell_type": "markdown",
   "metadata": {},
   "source": [
    "# V1 units"
   ]
  },
  {
   "cell_type": "code",
   "execution_count": null,
   "metadata": {},
   "outputs": [],
   "source": [
    "plt.rcdefaults()"
   ]
  },
  {
   "cell_type": "code",
   "execution_count": 117,
   "metadata": {},
   "outputs": [],
   "source": [
    "# For r_groups time interval [50, 250] and 10 groups\n",
    "# v1_unit_spikes = ['et3832_425', 'et2_339', 'et383_433', 'et323_350', 'et3112_428', \n",
    "#                   'et3832_461', 'et383_406', 'et3832_447', 'et3112_382', 'et311_365']\n",
    "# hpc_unit_spikes = ['et311_153', 'et1_315', 'et383_221', 'et383_171', 'et3832_262', \n",
    "#                    'et383_155', 'et323_183', 'et3112_222', 'et200_219', 'et2_302']\n",
    "\n",
    "# For redoing the region ranges, r_groups time interval [50, 250], and 10 groups\n",
    "v1_unit_spikes = ['et3832_425', 'et10_362', 'et10_375', 'et20_384', 'et383_411', \n",
    "                  'et2_428', 'et383_401', 'et2_389', 'et383_470', 'et311_405']\n",
    "hpc_unit_spikes = ['et200_305', 'et383_205', 'et3832_200', 'et383_213', 'et10_207', \n",
    "                   'et2_179', 'et2_195', 'et200_183', 'et2_219', 'et10_193']\n",
    "\n",
    "\n",
    "pathway = r'C:\\Users\\AChub_Lab\\Desktop\\zimmer94\\Data_Analysis\\Multi_brain_regions\\saved_figs\\v2'\n",
    "to_plot = 1"
   ]
  },
  {
   "cell_type": "code",
   "execution_count": null,
   "metadata": {
    "scrolled": true
   },
   "outputs": [],
   "source": [
    "for i in range(num_groups): #make new plot for each r_group from the clustering algorithm above\n",
    "    f, ax = plt.subplots(1,4, sharex=False, sharey=False, figsize = (25,4))\n",
    "    ax = ax.ravel()\n",
    "    # cbar_ax = f.add_axes([.91, .55, .02, .30])\n",
    "    sns.set_style(\"ticks\")\n",
    "    \n",
    "    plt_data = only_v1_kmeans[only_v1_kmeans.r_groups==i]\n",
    "    plt_color = 'cyan'\n",
    "    \n",
    "    g1 = sns.heatmap(plt_data.pivot_table(index=['cuid'], columns=['times'], values=['zscore']),\n",
    "                     cmap = 'jet', ax = ax[0], xticklabels=50, yticklabels=False,\n",
    "                     vmax=5, center=2, vmin=-1, robust=True, cbar_kws=dict(ticks=[-1,0,1,2,3,4,5]))\n",
    "    ax[0].set(xlabel='Time (s)', ylabel=len(plt_data['cuid'].unique()))\n",
    "    ax[0].set_xticklabels(np.arange(0,3,0.5), rotation=0)\n",
    "    ax[0].set_title('group ' + str(i), loc = 'center')\n",
    "        \n",
    "    g2 = sns.lineplot(x = 'times', y = 'ztc', estimator = 'mean', data = plt_data, \n",
    "                      color = plt_color, ax=ax[1], ci=None)\n",
    "    ax[1].set(xlabel='Time (s)', ylabel='ztc')\n",
    "    ax[1].set_title('group ' + str (i), loc = 'center')\n",
    "    ax[1].axhline(y=0, color='k', linestyle=\"--\", linewidth=1.0, alpha=0.75)\n",
    "    ax[1].xaxis.set_major_locator(MaxNLocator(7))\n",
    "    ax[1].tick_params(axis='x', labelrotation=0)\n",
    "    ax[1].set_xticks([0,0.5,1,1.5,2,2.5,3])\n",
    "    ax[1].yaxis.set_major_locator(MaxNLocator(3))\n",
    "    \n",
    "    rg_spike_v1 = spike_v1[spike_v1['r_groups'] == i]\n",
    "    unit_df = rg_spike_v1[rg_spike_v1['cuid'] == v1_unit_spikes[i]]\n",
    "    g3 = ax[2].plot(unit_df.trial_spikes,  unit_df.trial, '.', color=plt_color)\n",
    "    ax[2].set_title('group ' + str (i), loc = 'center')\n",
    "    ax[2].set(xlabel='Time (s)', ylabel='Trial')\n",
    "    ax[2].xaxis.set_major_locator(MaxNLocator(7))\n",
    "    ax[2].set_yticks([0,10,20,30])\n",
    "    ax[2].set_xlim([-0.1, 3.1])\n",
    "    \n",
    "    #include depth plot\n",
    "    g4 = sns.histplot(data=plt_data, x='insert', stat='frequency', binwidth=80, \n",
    "                      kde=True, kde_kws={'bw_adjust': 2}, color=plt_color,\n",
    "                      ax=ax[3])\n",
    "    ax[3].set(xlabel='Depth (um)', ylabel='Frequency')\n",
    "    ax[3].set_ylim([0, 55])\n",
    "    ax[3].set_yticks([0,25,50])\n",
    "    \n",
    "    # Change the end of this next line with a new file name!!\n",
    "    if to_plot == 1:\n",
    "        fig_title = str('v1_rg'+str(i)+plt_color+'.pdf')\n",
    "        out_title = pathway+'\\\\'+fig_title\n",
    "        print(out_title)\n",
    "        plt.savefig(out_title, transparent=True)\n",
    "    \n",
    "    plt.show()"
   ]
  },
  {
   "cell_type": "markdown",
   "metadata": {},
   "source": [
    "# Hippocampus units"
   ]
  },
  {
   "cell_type": "code",
   "execution_count": null,
   "metadata": {
    "scrolled": true
   },
   "outputs": [],
   "source": [
    "for i in range(num_groups): #make new plot for each r_group from the clustering algorithm above\n",
    "    f, ax = plt.subplots(1,4, sharex=False, sharey=False, figsize = (25,4))\n",
    "    ax = ax.ravel()\n",
    "#     cbar_ax = f.add_axes([.91, .55, .02, .30])\n",
    "    sns.set_style(\"ticks\")\n",
    "    \n",
    "    plt_data = only_hpc_kmeans[only_hpc_kmeans.r_groups==i]\n",
    "    plt_color = 'crimson'\n",
    "    \n",
    "    g1 = sns.heatmap(plt_data.pivot_table(index=['cuid'], columns=['times'], values=['zscore']),\n",
    "                     cmap = 'jet', ax = ax[0], xticklabels=50, yticklabels=False,\n",
    "                     vmax=5, center=2, vmin=-1, robust=True, cbar_kws=dict(ticks=[-1,0,1,2,3,4,5]))\n",
    "    ax[0].set(xlabel='Time (s)', ylabel=len(plt_data['cuid'].unique()))\n",
    "    ax[0].set_xticklabels(np.arange(0,3,0.5), rotation=0)\n",
    "    ax[0].set_title('group ' + str(i), loc = 'center')\n",
    "        \n",
    "    g2 = sns.lineplot(x = 'times', y = 'ztc', estimator = 'mean', data = plt_data, \n",
    "                      color = plt_color, ax=ax[1], ci=None)\n",
    "    ax[1].set(xlabel='Time (s)', ylabel='ztc')\n",
    "    ax[1].set_title('group ' + str (i), loc = 'center')\n",
    "    ax[1].axhline(y=0, color='k', linestyle=\"--\", linewidth=1.0, alpha=0.75)\n",
    "    ax[1].xaxis.set_major_locator(MaxNLocator(7))\n",
    "    ax[1].tick_params(axis='x', labelrotation=0)\n",
    "    ax[1].set_xticks([0,0.5,1,1.5,2,2.5,3])\n",
    "    ax[1].yaxis.set_major_locator(MaxNLocator(3))\n",
    "    \n",
    "    rg_spike_hpc = spike_hpc[spike_hpc['r_groups'] == i]\n",
    "    unit_df = rg_spike_hpc[rg_spike_hpc['cuid'] == hpc_unit_spikes[i]]\n",
    "    g3 = ax[2].plot( unit_df.trial_spikes,  unit_df.trial, '.', color=plt_color)\n",
    "    ax[2].set_title('group ' + str (i), loc = 'center')\n",
    "    ax[2].set(xlabel='Time (s)', ylabel='Trial')\n",
    "    ax[2].xaxis.set_major_locator(MaxNLocator(7))\n",
    "    ax[2].set_yticks([0,10,20,30])\n",
    "    ax[2].set_xlim([-0.1, 3.1])\n",
    "    \n",
    "    #include depth plot\n",
    "    g4 = sns.histplot(data=plt_data, x='insert', stat='frequency', binwidth=80, \n",
    "                      kde=True, kde_kws={'bw_adjust': 2}, color=plt_color,\n",
    "                      ax=ax[3])\n",
    "    ax[3].set(xlabel='Depth (um)', ylabel='Frequency')\n",
    "    ax[3].set_title('group ' + str(i), loc='center')\n",
    "    ax[3].set_ylim([0, 85])\n",
    "    ax[3].set_yticks([0,25,50,75])\n",
    "    \n",
    "    # Change the end of this next line with a new file name!!\n",
    "    if to_plot == 1:\n",
    "        fig_title = str('hpc_rg'+str(i)+plt_color+'.pdf')\n",
    "        out_title = pathway+'\\\\'+fig_title\n",
    "        print(out_title)\n",
    "        plt.savefig(out_title, transparent=True)\n",
    "    \n",
    "    plt.show()\n"
   ]
  },
  {
   "cell_type": "markdown",
   "metadata": {},
   "source": [
    "## Plot all r_groups together"
   ]
  },
  {
   "cell_type": "code",
   "execution_count": null,
   "metadata": {
    "scrolled": true
   },
   "outputs": [],
   "source": [
    "to_plot = 0\n",
    "pathway = r'C:\\Users\\AChub_Lab\\Desktop\\zimmer94\\Data_Analysis\\Multi_brain_regions\\saved_figs\\v2'\n",
    "\n",
    "f, ax = plt.subplots(2,1, sharex=True, sharey=False, figsize = (10,6))\n",
    "palette1 = sns.color_palette(\"mako\", num_groups)\n",
    "palette2 = sns.color_palette(\"rocket\", num_groups)\n",
    "\n",
    "g1 = sns.lineplot(x = 'times', y = 'ztc', estimator = 'mean', hue='r_groups', palette=palette1,\n",
    "                  data = only_v1_kmeans, ci=None, ax=ax[0], legend=True)\n",
    "g2 = sns.lineplot(x = 'times', y = 'ztc', estimator = 'mean', hue='r_groups', palette=palette2,\n",
    "                  data = only_hpc_kmeans, ci=None, ax=ax[1], legend=True)\n",
    "\n",
    "ax[0].legend(ncol=2)\n",
    "ax[1].legend(ncol=2)\n",
    "ax[0].set_ylabel('V1')\n",
    "ax[1].set_ylabel('HPC')\n",
    "ax[0].axvspan(0.5, 0.7, facecolor='grey', alpha=0.25)\n",
    "ax[1].axvspan(0.5, 0.7, facecolor='grey', alpha=0.25)\n",
    "ax[0].set_yticks([0,10,20,30])\n",
    "ax[1].set_yticks([-4,0,4,8,12])\n",
    "ax[0].set_ylim([-5,31])\n",
    "ax[1].set_ylim([-5,14])\n",
    "ax[1].set_xticks([0,0.5,1,1.5,2,2.5,3])\n",
    "plt.xlabel('Time (s)')\n",
    "\n",
    "if to_plot == 1:\n",
    "    fig_title = str('all_combo_lineplot.pdf')\n",
    "    out_title = pathway+'\\\\'+fig_title\n",
    "    plt.savefig(out_title, transparent=True)\n",
    "\n",
    "plt.show()"
   ]
  },
  {
   "cell_type": "markdown",
   "metadata": {},
   "source": [
    "---"
   ]
  },
  {
   "cell_type": "markdown",
   "metadata": {},
   "source": [
    "# Save df of all r_groups"
   ]
  },
  {
   "cell_type": "code",
   "execution_count": null,
   "metadata": {},
   "outputs": [],
   "source": [
    "only_v1_kmeans.head(2)"
   ]
  },
  {
   "cell_type": "code",
   "execution_count": null,
   "metadata": {},
   "outputs": [],
   "source": [
    "only_hpc_kmeans.head(2)"
   ]
  },
  {
   "cell_type": "code",
   "execution_count": 115,
   "metadata": {},
   "outputs": [],
   "source": [
    "new_path = r\"C:\\Users\\AChub_Lab\\Desktop\\zimmer94\\Data_Analysis\\Multi_brain_regions\\dataFrames/\"\n",
    "\n",
    "v1_path = new_path + 'v1_allrg_v2.pkl'\n",
    "hpc_path = new_path + 'hpc_allrg_v2.pkl'\n",
    "\n",
    "only_v1_kmeans.to_pickle(v1_path)\n",
    "only_hpc_kmeans.to_pickle(hpc_path)"
   ]
  },
  {
   "cell_type": "markdown",
   "metadata": {},
   "source": [
    "---"
   ]
  },
  {
   "cell_type": "markdown",
   "metadata": {},
   "source": [
    "# Second iteration of kmeans to bring out the oscillator units"
   ]
  },
  {
   "cell_type": "code",
   "execution_count": null,
   "metadata": {},
   "outputs": [],
   "source": [
    "v1_osc_ls = [3,7]\n",
    "hpc_osc_ls = [2]"
   ]
  },
  {
   "cell_type": "code",
   "execution_count": null,
   "metadata": {},
   "outputs": [],
   "source": [
    "v1_oscil = only_v1_kmeans['r_groups'].isin(v1_osc_ls)\n",
    "v1_oscil = only_v1_kmeans[v1_oscil]\n",
    "hpc_oscil = only_hpc_kmeans['r_groups'].isin(hpc_osc_ls)\n",
    "hpc_oscil = only_hpc_kmeans[hpc_oscil]"
   ]
  },
  {
   "cell_type": "code",
   "execution_count": null,
   "metadata": {},
   "outputs": [],
   "source": [
    "key_pca2 = 'r2_groups'\n",
    "num_groups2 = 4\n",
    "\n",
    "v1_oscillators_kmeans = mz_ena.unit_kmeans(v1_oscil, num_groups2, key_pca2, 50, 250) #PCA on 0.5 to 2.5s\n",
    "hpc_oscillators_kmeans = mz_ena.unit_kmeans(hpc_oscil, num_groups2, key_pca2, 50, 250) #PCA on 0.5 to 2.5s"
   ]
  },
  {
   "cell_type": "code",
   "execution_count": null,
   "metadata": {
    "scrolled": true
   },
   "outputs": [],
   "source": [
    "to_plot = 0\n",
    "pathway = r'C:\\Users\\AChub_Lab\\Desktop\\zimmer94\\Data_Analysis\\Multi_brain_regions\\saved_figs\\kmeans2'\n",
    "\n",
    "for i in range(num_groups2): #make new plot for each r_group from the clustering algorithm above\n",
    "    f, ax = plt.subplots(1,2, sharex=False, sharey=False, figsize = (15,3))\n",
    "    ax = ax.ravel()\n",
    "    # cbar_ax = f.add_axes([.91, .55, .02, .30])\n",
    "    sns.set_style(\"ticks\")\n",
    "    \n",
    "    g1 = sns.heatmap(v1_oscillators_kmeans[v1_oscillators_kmeans.r2_groups==i].pivot_table(index=['cuid'], columns=['times'], values=['zscore']),\n",
    "                     cmap = 'jet', ax = ax[0], xticklabels=50, yticklabels=False,\n",
    "                     vmax=5, center=2, vmin=-1, robust=True, cbar_kws=dict(ticks=[-1,0,1,2,3,4,5]))\n",
    "    ax[0].set(xlabel='Time (s)', ylabel=len(v1_oscillators_kmeans[v1_oscillators_kmeans.r2_groups==i]['cuid'].unique()))\n",
    "    ax[0].set_xticklabels(np.arange(0,3,0.5), rotation=0)\n",
    "    ax[0].set_title('group ' + str(i), loc = 'center')\n",
    "        \n",
    "    g2 = sns.lineplot(x = 'times', y = 'ztc', estimator = 'mean', data = v1_oscillators_kmeans[v1_oscillators_kmeans.r2_groups==i], \n",
    "                      color = 'grey', ax=ax[1], ci=None)\n",
    "    ax[1].set(xlabel='Time (s)', ylabel='ztc')\n",
    "    ax[1].set_title('group ' + str (i), loc = 'center')\n",
    "    ax[1].axhline(y=0, color='k', linestyle=\"--\", linewidth=1.0, alpha=0.75)\n",
    "    ax[1].xaxis.set_major_locator(MaxNLocator(7))\n",
    "    ax[1].tick_params(axis='x', labelrotation=0)\n",
    "    ax[1].set_xticks([0,0.5,1,1.5,2,2.5,3])\n",
    "    ax[1].yaxis.set_major_locator(MaxNLocator(3))\n",
    "    \n",
    "    if to_plot == 1:\n",
    "        fig_title = str('v1_rg'+str(i)+'.pdf')\n",
    "        out_title = pathway+'\\\\'+fig_title\n",
    "        plt.savefig(out_title, transparent=True)\n",
    "    \n",
    "    plt.show()"
   ]
  },
  {
   "cell_type": "code",
   "execution_count": null,
   "metadata": {
    "scrolled": true
   },
   "outputs": [],
   "source": [
    "to_plot = 0\n",
    "pathway = r'C:\\Users\\AChub_Lab\\Desktop\\zimmer94\\Data_Analysis\\Multi_brain_regions\\saved_figs\\kmeans2'\n",
    "\n",
    "for i in range(num_groups2): #make new plot for each r_group from the clustering algorithm above\n",
    "    f, ax = plt.subplots(1,2, sharex=False, sharey=False, figsize = (15,3))\n",
    "    ax = ax.ravel()\n",
    "    # cbar_ax = f.add_axes([.91, .55, .02, .30])\n",
    "    sns.set_style(\"ticks\")\n",
    "    \n",
    "    g1 = sns.heatmap(hpc_oscillators_kmeans[hpc_oscillators_kmeans.r2_groups==i].pivot_table(index=['cuid'], columns=['times'], values=['zscore']),\n",
    "                     cmap = 'jet', ax = ax[0], xticklabels=50, yticklabels=False,\n",
    "                     vmax=5, center=2, vmin=-1, robust=True, cbar_kws=dict(ticks=[-1,0,1,2,3,4,5]))\n",
    "    ax[0].set(xlabel='Time (s)', ylabel=len(hpc_oscillators_kmeans[hpc_oscillators_kmeans.r2_groups==i]['cuid'].unique()))\n",
    "    ax[0].set_xticklabels(np.arange(0,3,0.5), rotation=0)\n",
    "    ax[0].set_title('group ' + str(i), loc = 'center')\n",
    "        \n",
    "    g2 = sns.lineplot(x = 'times', y = 'ztc', estimator = 'mean', data = hpc_oscillators_kmeans[hpc_oscillators_kmeans.r2_groups==i], \n",
    "                      color = 'crimson', ax=ax[1], ci=None)\n",
    "    ax[1].set(xlabel='Time (s)', ylabel='ztc')\n",
    "    ax[1].set_title('group ' + str (i), loc = 'center')\n",
    "    ax[1].axhline(y=0, color='k', linestyle=\"--\", linewidth=1.0, alpha=0.75)\n",
    "    ax[1].xaxis.set_major_locator(MaxNLocator(7))\n",
    "    ax[1].tick_params(axis='x', labelrotation=0)\n",
    "    ax[1].set_xticks([0,0.5,1,1.5,2,2.5,3])\n",
    "    ax[1].yaxis.set_major_locator(MaxNLocator(3))\n",
    "    \n",
    "    if to_plot == 1:\n",
    "        fig_title = str('hpc_rg'+str(i)+'.pdf')\n",
    "        out_title = pathway+'\\\\'+fig_title\n",
    "        plt.savefig(out_title, transparent=True)\n",
    "    \n",
    "    plt.show()"
   ]
  },
  {
   "cell_type": "markdown",
   "metadata": {},
   "source": [
    "# Save the new r_groups dataFrames"
   ]
  },
  {
   "cell_type": "code",
   "execution_count": null,
   "metadata": {},
   "outputs": [],
   "source": [
    "v1_oscillators_kmeans.head()"
   ]
  },
  {
   "cell_type": "code",
   "execution_count": null,
   "metadata": {},
   "outputs": [],
   "source": [
    "hpc_oscillators_kmeans.head()"
   ]
  },
  {
   "cell_type": "code",
   "execution_count": null,
   "metadata": {},
   "outputs": [],
   "source": [
    "new_path = r\"C:\\Users\\AChub_Lab\\Desktop\\zimmer94\\Data_Analysis\\Multi_brain_regions\\V1Hippo_spikes/\"\n",
    "\n",
    "v1_path = new_path + 'v1_rg_df.pkl'\n",
    "hpc_path = new_path + 'hpc_rg_df.pkl'\n",
    "\n",
    "v1_oscillators_kmeans.to_pickle(v1_path)\n",
    "hpc_oscillators_kmeans.to_pickle(hpc_path)"
   ]
  },
  {
   "cell_type": "markdown",
   "metadata": {},
   "source": [
    "# Choose which r_group to plot"
   ]
  },
  {
   "cell_type": "code",
   "execution_count": null,
   "metadata": {},
   "outputs": [],
   "source": [
    "v1_rgroup = [0,1,2,3]\n",
    "hpc_rgroup = [0]\n",
    "\n",
    "# change the dataFrame depending on r_groups or r2_groups (only_v1_kmeans,only_hpc_kmeans or v1_oscillators_kmeans,hpc_oscillators_kmeans)\n",
    "V1_rg = v1_oscillators_kmeans['r2_groups'].isin(v1_rgroup)\n",
    "V1_rg = v1_oscillators_kmeans[V1_rg]\n",
    "HPC_rg = hpc_oscillators_kmeans['r2_groups'].isin(hpc_rgroup)\n",
    "HPC_rg = hpc_oscillators_kmeans[HPC_rg]\n",
    "kmeans_all = pd.concat([V1_rg,HPC_rg])\n",
    "kmeans_all = kmeans_all.sort_values(by=['r_groups'])"
   ]
  },
  {
   "cell_type": "code",
   "execution_count": null,
   "metadata": {},
   "outputs": [],
   "source": [
    "is_sorted = 'yes'\n",
    "\n",
    "v1_km = V1_rg.pivot('cuid', 'times', 'zscore')\n",
    "hip_km = HPC_rg.pivot('cuid', 'times', 'zscore')\n",
    "\n",
    "if is_sorted == 'yes':\n",
    "    v1_km_np = v1_km.values[ np.argsort(np.mean(v1_km.values[:,50:80], axis = 1) )] #if I want sorted activity\n",
    "    hip_km_np = hip_km.values[ np.argsort(np.mean(hip_km.values[:,50:80], axis = 1) )] #if I want sorted activity\n",
    "elif is_sorted == 'no':\n",
    "    v1_km_np = v1_km.values\n",
    "    hip_km_np = hip_km.values"
   ]
  },
  {
   "cell_type": "code",
   "execution_count": null,
   "metadata": {},
   "outputs": [],
   "source": [
    "sp_dims = (15, 4) #(width, height)\n",
    "v_max = 5\n",
    "v_min = -1\n",
    "xvalues = np.arange(start=0.4, stop=1.7, step=0.2)\n",
    "y_min = -2\n",
    "y_max = 6"
   ]
  },
  {
   "cell_type": "code",
   "execution_count": null,
   "metadata": {},
   "outputs": [],
   "source": [
    "to_plot = 0\n",
    "pathway = r'C:\\Users\\AChub_Lab\\Desktop\\zimmer94\\Data_Analysis\\Multi_brain_regions\\saved_figs'\n",
    "\n",
    "f, (ax1, ax2) = plt.subplots(1,2, sharex='col', figsize=(15,4))\n",
    "f.tight_layout()\n",
    "plt.suptitle('kmeans: '+stim_cond)\n",
    "plt.minorticks_on()\n",
    "\n",
    "# Heatmap for A\n",
    "sns.heatmap(v1_km_np, \n",
    "            cmap = 'afmhot', xticklabels=20, yticklabels=False, \n",
    "            vmax=v_max, center = 2, vmin = v_min, robust = True, ax=ax1)\n",
    "ax1.set_xlabel('Time (ms)')\n",
    "ax1.set_ylabel(str(len(V1_rg.cuid.unique())))\n",
    "# ax1.set_xticklabels(xvalues, rotation=0)\n",
    "ax1.set_xlim(0.4*100,1.6*100)\n",
    "ax1.set_title('V1')\n",
    "cbar = ax1.collections[0].colorbar\n",
    "cbar.remove()\n",
    "\n",
    "#Heatmap for B\n",
    "sns.heatmap(hip_km_np, \n",
    "            cmap = 'afmhot', xticklabels=20, yticklabels=False, \n",
    "            vmax=v_max, center = 2, vmin = v_min, robust = True, ax=ax2)\n",
    "ax2.set_xlabel('Time (ms)')\n",
    "ax2.set_ylabel(str(len(HPC_rg.cuid.unique())))\n",
    "# ax2.set_xticklabels(xvalues, rotation=0)\n",
    "ax2.set_xlim(0.4*100,1.6*100)\n",
    "ax2.set_title('HPC')\n",
    "cbar = ax2.collections[0].colorbar\n",
    "# cbar.ax.tick_params(labelsize=25)\n",
    "cbar.set_label('Z-score')\n",
    "\n",
    "# Change the end of this next line with a new file name!!\n",
    "if to_plot == 1:\n",
    "    fig_title = str('V1HPC_oscillators_heat.pdf')\n",
    "    out_title = pathway+'\\\\'+fig_title\n",
    "    plt.savefig(out_title, transparent=True)\n",
    "    \n",
    "plt.show()"
   ]
  },
  {
   "cell_type": "code",
   "execution_count": null,
   "metadata": {},
   "outputs": [],
   "source": [
    "sp_dims = (10, 4) #(width, height)\n",
    "f, ax = plt.subplots(1,1, sharex='col', figsize=sp_dims)\n",
    "\n",
    "#Combo lineplot\n",
    "sns.lineplot(x = 'times', y = 'ztc', \n",
    "             estimator = 'mean', \n",
    "             data = kmeans_all, \n",
    "             hue = 'region',\n",
    "             hue_order = ['v1','hippo'],\n",
    "             legend=False,\n",
    "             ci=None) #ci is the error\n",
    "\n",
    "plt.legend(['V1','HPC'], bbox_to_anchor=(1.1, 1.05))\n",
    "\n",
    "plt.axvspan(0.5, 0.7, color='lightgrey', alpha = 0.5)\n",
    "plt.axhline(y=0, xmin=0, xmax=3, c='black', linewidth=1, zorder=0)\n",
    "\n",
    "plt.xlim(0.4,1.6)\n",
    "plt.xticks([0.4,0.6,0.8,1,1.2,1.4,1.6])\n",
    "# plt.yticks([-4,0,4,8,12,16,20])\n",
    "# plt.ylim([-4,22])\n",
    "plt.minorticks_on()\n",
    "plt.xlabel('Time (s)')\n",
    "plt.ylabel('zscore')\n",
    "plt.title('kmeans: '+stim_cond)\n",
    "\n",
    "# Change the end of this next line with a new file name!!\n",
    "to_plot = 0\n",
    "pathway = r'C:\\Users\\AChub_Lab\\Desktop\\zimmer94\\Data_Analysis\\Multi_brain_regions\\saved_figs'\n",
    "if to_plot == 1:\n",
    "    fig_title = str('V1HPC_oscillators_line.pdf')\n",
    "    out_title = pathway+'\\\\'+fig_title\n",
    "    plt.savefig(out_title, transparent=True)\n",
    "    \n",
    "plt.show()"
   ]
  },
  {
   "cell_type": "markdown",
   "metadata": {},
   "source": [
    "---"
   ]
  },
  {
   "cell_type": "markdown",
   "metadata": {},
   "source": [
    "---"
   ]
  },
  {
   "cell_type": "markdown",
   "metadata": {},
   "source": [
    "---"
   ]
  }
 ],
 "metadata": {
  "kernelspec": {
   "display_name": "Python 3 (ipykernel)",
   "language": "python",
   "name": "python3"
  },
  "language_info": {
   "codemirror_mode": {
    "name": "ipython",
    "version": 3
   },
   "file_extension": ".py",
   "mimetype": "text/x-python",
   "name": "python",
   "nbconvert_exporter": "python",
   "pygments_lexer": "ipython3",
   "version": "3.10.13"
  }
 },
 "nbformat": 4,
 "nbformat_minor": 4
}
