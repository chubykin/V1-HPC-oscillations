{
 "cells": [
  {
   "cell_type": "code",
   "execution_count": 8,
   "id": "4fd5c0f0-e305-46c3-9185-83697c2ff01b",
   "metadata": {},
   "outputs": [],
   "source": [
    "import numpy as np\n",
    "import pandas as pd\n",
    "import matplotlib.pyplot as plt\n",
    "import seaborn as sns\n",
    "import random\n",
    "\n",
    "# import ephys_unit_analysis as ena\n",
    "import mz_ephys_unit_analysis as mz_ena\n",
    "import mz_unit_dur_freq as mz_udf\n",
    "\n",
    "%load_ext autoreload\n",
    "%autoreload 2"
   ]
  },
  {
   "cell_type": "code",
   "execution_count": null,
   "id": "1a07ce3d-f6d4-4322-8309-29c3fa6f0d69",
   "metadata": {},
   "outputs": [],
   "source": []
  },
  {
   "cell_type": "code",
   "execution_count": null,
   "id": "e799bae0-e18a-4318-89e6-1464a739cc98",
   "metadata": {},
   "outputs": [],
   "source": [
    "#V1_RSC_psth_G1GN = pd.read_hdf('u:/Papers/D&P Osc in Mouse Vis Sys/Data Analysis/Units/V1_RSC/V1_RSC_2kmeans_PSTH_GUI_mapped_sliced.hdf5')\n",
    "#V1_RSC_spikes_G1GN = pd.read_hdf('u:/Papers/D&P Osc in Mouse Vis Sys/Data Analysis/Units/V1_RSC/V1_RSC_2kmeans_spikes_GUI_mapped_sliced.hdf5')\n"
   ]
  },
  {
   "cell_type": "code",
   "execution_count": null,
   "id": "954b3710-e49b-4352-a53c-6ff7936db5a2",
   "metadata": {},
   "outputs": [],
   "source": [
    "# V1_LGN_spikes_G1GN = pd.read_hdf(\"U:\\Papers\\D&P Osc in Mouse Vis Sys\\Data Analysis\\Units\\V1_LGN\\V1_LGN_SPIKES_Final.hdf5\")\n",
    "# V1_LGN_psth_G1GN = pd.read_hdf(\"U:\\Papers\\D&P Osc in Mouse Vis Sys\\Data Analysis\\Units\\V1_LGN\\V1_LGN_PSTH_Final.hdf5\")"
   ]
  },
  {
   "cell_type": "code",
   "execution_count": null,
   "id": "ca285831-eea5-4118-854c-91dd776200d9",
   "metadata": {},
   "outputs": [],
   "source": [
    "#master_psth_V1_LP_FINAL = pd.read_hdf('u:/Papers/D&P Osc in Mouse Vis Sys/Data Analysis/Units/V1_LP/LP_PSTH_remLT_300sps_remGT-0o10ampWF_LP_GUI.hdf5')\n",
    "#master_spikes_V1_LP_FINAL = pd.read_hdf('u:/Papers/D&P Osc in Mouse Vis Sys/Data Analysis/Units/V1_LP/LP_spikes_remLT_300sps_remGT-0o10ampWF_LP_GUI.hdf5')\n"
   ]
  },
  {
   "cell_type": "code",
   "execution_count": null,
   "id": "dd2822d3-ba23-47ad-bdcb-fa4e7bd91bd8",
   "metadata": {},
   "outputs": [],
   "source": []
  },
  {
   "cell_type": "markdown",
   "id": "db885d05-6607-4fdb-befd-1a7156afba45",
   "metadata": {
    "jp-MarkdownHeadingCollapsed": true
   },
   "source": [
    "# load PSTH data"
   ]
  },
  {
   "cell_type": "markdown",
   "id": "331f6d5f-a8f1-48ee-92b4-13b763cab903",
   "metadata": {
    "jp-MarkdownHeadingCollapsed": true
   },
   "source": [
    "## V1-RSC, SK data"
   ]
  },
  {
   "cell_type": "code",
   "execution_count": 26,
   "id": "a7ef989a-c763-449f-9a02-db074a9b42c3",
   "metadata": {},
   "outputs": [
    {
     "data": {
      "text/plain": [
       "['/master_psth']"
      ]
     },
     "execution_count": 26,
     "metadata": {},
     "output_type": "execute_result"
    }
   ],
   "source": [
    "rsc_path = r\"U:\\Papers\\DP Osc in Mouse Vis Sys\\Data Analysis\\Units\\V1_RSC\\V1_RSC_2kmeans_PSTH_GUI_mapped_sliced.hdf5\"\n",
    "\n",
    "store = pd.HDFStore(rsc_path)\n",
    "store.keys()"
   ]
  },
  {
   "cell_type": "code",
   "execution_count": 27,
   "id": "7311e4bb-685b-495e-b251-fae0c5ca2c77",
   "metadata": {},
   "outputs": [
    {
     "data": {
      "text/html": [
       "<div>\n",
       "<style scoped>\n",
       "    .dataframe tbody tr th:only-of-type {\n",
       "        vertical-align: middle;\n",
       "    }\n",
       "\n",
       "    .dataframe tbody tr th {\n",
       "        vertical-align: top;\n",
       "    }\n",
       "\n",
       "    .dataframe thead th {\n",
       "        text-align: right;\n",
       "    }\n",
       "</style>\n",
       "<table border=\"1\" class=\"dataframe\">\n",
       "  <thead>\n",
       "    <tr style=\"text-align: right;\">\n",
       "      <th></th>\n",
       "      <th>Hz</th>\n",
       "      <th>condition</th>\n",
       "      <th>cuid</th>\n",
       "      <th>depth</th>\n",
       "      <th>et</th>\n",
       "      <th>exp</th>\n",
       "      <th>fname</th>\n",
       "      <th>group</th>\n",
       "      <th>location</th>\n",
       "      <th>paradigm</th>\n",
       "      <th>rec</th>\n",
       "      <th>stim</th>\n",
       "      <th>times</th>\n",
       "      <th>training</th>\n",
       "      <th>zscore</th>\n",
       "      <th>ztc</th>\n",
       "      <th>n_type</th>\n",
       "      <th>layer</th>\n",
       "      <th>r_groups</th>\n",
       "      <th>r_group_type</th>\n",
       "    </tr>\n",
       "  </thead>\n",
       "  <tbody>\n",
       "    <tr>\n",
       "      <th>150</th>\n",
       "      <td>4.368449</td>\n",
       "      <td>GroupWTpreG-1-G---GV1</td>\n",
       "      <td>001ET#R000id166preV1</td>\n",
       "      <td>800</td>\n",
       "      <td>ET#R000</td>\n",
       "      <td>001</td>\n",
       "      <td>u:/Data/skissing/V1_RSC/07.20.2019 V1_RSC_Pair...</td>\n",
       "      <td>GroupWT</td>\n",
       "      <td>V1</td>\n",
       "      <td>G-1-G---G</td>\n",
       "      <td>001ET#R000preV1</td>\n",
       "      <td>40TrialG-1-G---G</td>\n",
       "      <td>0.00</td>\n",
       "      <td>pre</td>\n",
       "      <td>-0.152199</td>\n",
       "      <td>-0.263173</td>\n",
       "      <td>rs</td>\n",
       "      <td>L2/3</td>\n",
       "      <td>1</td>\n",
       "      <td>excited</td>\n",
       "    </tr>\n",
       "    <tr>\n",
       "      <th>151</th>\n",
       "      <td>4.332749</td>\n",
       "      <td>GroupWTpreG-1-G---GV1</td>\n",
       "      <td>001ET#R000id166preV1</td>\n",
       "      <td>800</td>\n",
       "      <td>ET#R000</td>\n",
       "      <td>001</td>\n",
       "      <td>u:/Data/skissing/V1_RSC/07.20.2019 V1_RSC_Pair...</td>\n",
       "      <td>GroupWT</td>\n",
       "      <td>V1</td>\n",
       "      <td>G-1-G---G</td>\n",
       "      <td>001ET#R000preV1</td>\n",
       "      <td>40TrialG-1-G---G</td>\n",
       "      <td>0.01</td>\n",
       "      <td>pre</td>\n",
       "      <td>-0.157560</td>\n",
       "      <td>-0.298374</td>\n",
       "      <td>rs</td>\n",
       "      <td>L2/3</td>\n",
       "      <td>1</td>\n",
       "      <td>excited</td>\n",
       "    </tr>\n",
       "  </tbody>\n",
       "</table>\n",
       "</div>"
      ],
      "text/plain": [
       "           Hz              condition                  cuid  depth       et  \\\n",
       "150  4.368449  GroupWTpreG-1-G---GV1  001ET#R000id166preV1    800  ET#R000   \n",
       "151  4.332749  GroupWTpreG-1-G---GV1  001ET#R000id166preV1    800  ET#R000   \n",
       "\n",
       "     exp                                              fname    group location  \\\n",
       "150  001  u:/Data/skissing/V1_RSC/07.20.2019 V1_RSC_Pair...  GroupWT       V1   \n",
       "151  001  u:/Data/skissing/V1_RSC/07.20.2019 V1_RSC_Pair...  GroupWT       V1   \n",
       "\n",
       "      paradigm              rec              stim  times training    zscore  \\\n",
       "150  G-1-G---G  001ET#R000preV1  40TrialG-1-G---G   0.00      pre -0.152199   \n",
       "151  G-1-G---G  001ET#R000preV1  40TrialG-1-G---G   0.01      pre -0.157560   \n",
       "\n",
       "          ztc n_type layer  r_groups r_group_type  \n",
       "150 -0.263173     rs  L2/3         1      excited  \n",
       "151 -0.298374     rs  L2/3         1      excited  "
      ]
     },
     "execution_count": 27,
     "metadata": {},
     "output_type": "execute_result"
    }
   ],
   "source": [
    "v1rsc_df=store[store.keys()[0]]\n",
    "v1rsc_df.head(2)"
   ]
  },
  {
   "cell_type": "code",
   "execution_count": 93,
   "id": "e7a84bc9-0c94-4c62-bb2b-2fd16dd8bb81",
   "metadata": {},
   "outputs": [
    {
     "name": "stdout",
     "output_type": "stream",
     "text": [
      "V1 units: 318 --- RSC units: 218\n"
     ]
    }
   ],
   "source": [
    "v1rsc_exc_df = v1rsc_df[v1rsc_df.r_group_type=='excited']\n",
    "\n",
    "v1rsc_V1_units = v1rsc_exc_df[v1rsc_exc_df['condition']=='GroupWTpostG-1-G---GV1']\n",
    "v1rsc_RSC_units = v1rsc_exc_df[v1rsc_exc_df['condition']=='GroupWTpostG-1-G---GRSC']\n",
    "\n",
    "print(f'V1 units: {v1rsc_V1_units.cuid.nunique()} --- RSC units: {v1rsc_RSC_units.cuid.nunique()}')"
   ]
  },
  {
   "cell_type": "markdown",
   "id": "f1fb91f8-865e-4a6e-b7bc-06cd06cf015a",
   "metadata": {
    "jp-MarkdownHeadingCollapsed": true
   },
   "source": [
    "## V1-HPC, MZ data"
   ]
  },
  {
   "cell_type": "code",
   "execution_count": 85,
   "id": "d3308d27-bcd7-4d10-9eb8-1928a460db54",
   "metadata": {},
   "outputs": [
    {
     "data": {
      "text/html": [
       "<div>\n",
       "<style scoped>\n",
       "    .dataframe tbody tr th:only-of-type {\n",
       "        vertical-align: middle;\n",
       "    }\n",
       "\n",
       "    .dataframe tbody tr th {\n",
       "        vertical-align: top;\n",
       "    }\n",
       "\n",
       "    .dataframe thead th {\n",
       "        text-align: right;\n",
       "    }\n",
       "</style>\n",
       "<table border=\"1\" class=\"dataframe\">\n",
       "  <thead>\n",
       "    <tr style=\"text-align: right;\">\n",
       "      <th></th>\n",
       "      <th>times</th>\n",
       "      <th>stim</th>\n",
       "      <th>Hz</th>\n",
       "      <th>cluster_id</th>\n",
       "      <th>depth</th>\n",
       "      <th>zscore</th>\n",
       "      <th>ztc</th>\n",
       "      <th>et</th>\n",
       "      <th>cc</th>\n",
       "      <th>cuid</th>\n",
       "      <th>path</th>\n",
       "      <th>region</th>\n",
       "      <th>r_groups</th>\n",
       "      <th>r_group_type</th>\n",
       "    </tr>\n",
       "  </thead>\n",
       "  <tbody>\n",
       "    <tr>\n",
       "      <th>0</th>\n",
       "      <td>0.00</td>\n",
       "      <td>pre</td>\n",
       "      <td>1.236249</td>\n",
       "      <td>292</td>\n",
       "      <td>1060</td>\n",
       "      <td>-0.943946</td>\n",
       "      <td>-0.556308</td>\n",
       "      <td>et323</td>\n",
       "      <td>cc033663</td>\n",
       "      <td>et323_292</td>\n",
       "      <td>G:\\Neuropixels\\Sam_multi_brain_region_paper\\SO...</td>\n",
       "      <td>hippo</td>\n",
       "      <td>1</td>\n",
       "      <td>excited</td>\n",
       "    </tr>\n",
       "    <tr>\n",
       "      <th>1</th>\n",
       "      <td>0.01</td>\n",
       "      <td>pre</td>\n",
       "      <td>1.330091</td>\n",
       "      <td>292</td>\n",
       "      <td>1060</td>\n",
       "      <td>-0.874114</td>\n",
       "      <td>-0.460585</td>\n",
       "      <td>et323</td>\n",
       "      <td>cc033663</td>\n",
       "      <td>et323_292</td>\n",
       "      <td>G:\\Neuropixels\\Sam_multi_brain_region_paper\\SO...</td>\n",
       "      <td>hippo</td>\n",
       "      <td>1</td>\n",
       "      <td>excited</td>\n",
       "    </tr>\n",
       "    <tr>\n",
       "      <th>2</th>\n",
       "      <td>0.02</td>\n",
       "      <td>pre</td>\n",
       "      <td>1.433267</td>\n",
       "      <td>292</td>\n",
       "      <td>1060</td>\n",
       "      <td>-0.797336</td>\n",
       "      <td>-0.355341</td>\n",
       "      <td>et323</td>\n",
       "      <td>cc033663</td>\n",
       "      <td>et323_292</td>\n",
       "      <td>G:\\Neuropixels\\Sam_multi_brain_region_paper\\SO...</td>\n",
       "      <td>hippo</td>\n",
       "      <td>1</td>\n",
       "      <td>excited</td>\n",
       "    </tr>\n",
       "    <tr>\n",
       "      <th>3</th>\n",
       "      <td>0.03</td>\n",
       "      <td>pre</td>\n",
       "      <td>1.512557</td>\n",
       "      <td>292</td>\n",
       "      <td>1060</td>\n",
       "      <td>-0.738333</td>\n",
       "      <td>-0.274463</td>\n",
       "      <td>et323</td>\n",
       "      <td>cc033663</td>\n",
       "      <td>et323_292</td>\n",
       "      <td>G:\\Neuropixels\\Sam_multi_brain_region_paper\\SO...</td>\n",
       "      <td>hippo</td>\n",
       "      <td>1</td>\n",
       "      <td>excited</td>\n",
       "    </tr>\n",
       "    <tr>\n",
       "      <th>4</th>\n",
       "      <td>0.04</td>\n",
       "      <td>pre</td>\n",
       "      <td>1.522873</td>\n",
       "      <td>292</td>\n",
       "      <td>1060</td>\n",
       "      <td>-0.730656</td>\n",
       "      <td>-0.263940</td>\n",
       "      <td>et323</td>\n",
       "      <td>cc033663</td>\n",
       "      <td>et323_292</td>\n",
       "      <td>G:\\Neuropixels\\Sam_multi_brain_region_paper\\SO...</td>\n",
       "      <td>hippo</td>\n",
       "      <td>1</td>\n",
       "      <td>excited</td>\n",
       "    </tr>\n",
       "  </tbody>\n",
       "</table>\n",
       "</div>"
      ],
      "text/plain": [
       "   times stim        Hz  cluster_id  depth    zscore       ztc     et  \\\n",
       "0   0.00  pre  1.236249         292   1060 -0.943946 -0.556308  et323   \n",
       "1   0.01  pre  1.330091         292   1060 -0.874114 -0.460585  et323   \n",
       "2   0.02  pre  1.433267         292   1060 -0.797336 -0.355341  et323   \n",
       "3   0.03  pre  1.512557         292   1060 -0.738333 -0.274463  et323   \n",
       "4   0.04  pre  1.522873         292   1060 -0.730656 -0.263940  et323   \n",
       "\n",
       "         cc       cuid                                               path  \\\n",
       "0  cc033663  et323_292  G:\\Neuropixels\\Sam_multi_brain_region_paper\\SO...   \n",
       "1  cc033663  et323_292  G:\\Neuropixels\\Sam_multi_brain_region_paper\\SO...   \n",
       "2  cc033663  et323_292  G:\\Neuropixels\\Sam_multi_brain_region_paper\\SO...   \n",
       "3  cc033663  et323_292  G:\\Neuropixels\\Sam_multi_brain_region_paper\\SO...   \n",
       "4  cc033663  et323_292  G:\\Neuropixels\\Sam_multi_brain_region_paper\\SO...   \n",
       "\n",
       "  region  r_groups r_group_type  \n",
       "0  hippo         1      excited  \n",
       "1  hippo         1      excited  \n",
       "2  hippo         1      excited  \n",
       "3  hippo         1      excited  \n",
       "4  hippo         1      excited  "
      ]
     },
     "execution_count": 85,
     "metadata": {},
     "output_type": "execute_result"
    }
   ],
   "source": [
    "v1hpc_df = pd.read_pickle(r\"C:\\Users\\AChub_Lab\\Desktop\\DIA_CQuinn\\V1HPC_psth.pkl\")\n",
    "v1hpc_df.head()"
   ]
  },
  {
   "cell_type": "code",
   "execution_count": 90,
   "id": "5cb34a86-c3e9-44ae-89bb-558b722347a3",
   "metadata": {},
   "outputs": [
    {
     "name": "stdout",
     "output_type": "stream",
     "text": [
      "('hippo', 'novel') units: 212\n",
      "('hippo', 'post') units: 390\n",
      "('hippo', 'pre') units: 245\n",
      "('v1', 'novel') units: 416\n",
      "('v1', 'post') units: 205\n",
      "('v1', 'pre') units: 154\n"
     ]
    }
   ],
   "source": [
    "vr_v1hpc = v1hpc_df[v1hpc_df.r_group_type == 'excited']\n",
    "\n",
    "v1hpc_V1_units = vr_v1hpc[vr_v1hpc['region']=='v1']\n",
    "v1hpc_HPC_units = vr_v1hpc[vr_v1hpc['region']=='hippo']\n",
    "\n",
    "for t,tt in vr_v1hpc.groupby(['region','stim']):\n",
    "    print(f'{t} units: {tt.cuid.nunique()}')"
   ]
  },
  {
   "cell_type": "markdown",
   "id": "bfa09b9a-f07c-4717-9d5b-9d0c24cd573d",
   "metadata": {},
   "source": [
    "# Peak detection analysis - Avg number of units per mouse\n",
    "- V1: 318 total, 216 w/ 2+, 163 w/ 3+\n",
    "- RSC: 218 total, 62 w/ 2+, 30 w/ 3+\n",
    "- V1: 339 total, ___ w/ 2+, 162 w/ 3+\n",
    "- HPC: 324 total, ___ w/ 2+, 24 w/ 3+"
   ]
  },
  {
   "cell_type": "markdown",
   "id": "30bfa987-3565-413b-a640-befad5a79d52",
   "metadata": {
    "jp-MarkdownHeadingCollapsed": true
   },
   "source": [
    "## define functions"
   ]
  },
  {
   "cell_type": "code",
   "execution_count": 39,
   "id": "f21ca69c-bb57-47bb-8c4c-997ba37cd264",
   "metadata": {},
   "outputs": [],
   "source": [
    "from detect_peaks import detect_peaks\n",
    "def _duration_peaks_unit(unit):\n",
    "    data = unit\n",
    "    peakind = detect_peaks(data, mph=1.5, mpd=10, threshold=0)\n",
    "    if peakind.size>0:\n",
    "        if peakind.size>1:\n",
    "            if peakind[0]>50 and peakind[0]<70:\n",
    "                mask = np.array(np.diff(peakind)<50)\n",
    "                for ind, val in enumerate(mask):\n",
    "                    if val==False:\n",
    "                        mask[ind:]=False\n",
    "                mask = np.insert(mask, 0, True)\n",
    "                peakind = peakind[mask]\n",
    "                dur = (peakind[-1]/100) - 0.5\n",
    "            else:   \n",
    "                dur = float('nan')\n",
    "        elif peakind[0]>50 and peakind[0]<70:\n",
    "            dur = (peakind[0]/100) - 0.5\n",
    "        else:\n",
    "            dur = float('nan')\n",
    "        if dur<0 or dur>2:\n",
    "            dur = float('nan')\n",
    "    else:\n",
    "        dur = float('nan')\n",
    "    return dur, peakind"
   ]
  },
  {
   "cell_type": "code",
   "execution_count": 40,
   "id": "3d6965ec-fd4c-4a5f-af12-2b0adada0d4e",
   "metadata": {},
   "outputs": [],
   "source": [
    "def pull_osc_units(region_df, num_cycles, in_regions):\n",
    "    num_peaks = num_cycles+1\n",
    "    reg_df_temp = region_df.pivot(index='cuid', columns='times', values='zscore')\n",
    "    reg_array = np.array(reg_df_temp)\n",
    "    print(f'Pre peak detection: {region_df.cuid.nunique()} units')\n",
    "    cuid, pk_ind, mouse = [], [], []\n",
    "    for unit in range(reg_array.shape[0]):\n",
    "        yy = reg_array[unit]\n",
    "        dur, peak_ind = _duration_peaks_unit(yy)\n",
    "        if len(peak_ind) >= num_peaks:\n",
    "            cuid.append(reg_df_temp.index[unit])\n",
    "            pk_ind.append(peak_ind)\n",
    "            if in_regions == 'v1rsc':\n",
    "                mouse.append(reg_df_temp.index[unit][3:10])\n",
    "            elif in_regions == 'v1hpc':\n",
    "                mouse.append(reg_df_temp.index[unit].split('_')[0])\n",
    "    df = pd.DataFrame(zip(cuid,pk_ind,mouse), columns=['cuid','peak_ind','et'])\n",
    "    print(f'Post peak detection: {df.cuid.nunique()} units')\n",
    "    print(df.groupby('et')['cuid'].nunique())\n",
    "    print(df.groupby('et')['cuid'].nunique().mean(), end='\\n\\n')\n",
    "    return df"
   ]
  },
  {
   "cell_type": "markdown",
   "id": "2d015062-aee8-403e-b30c-a46dd33c7741",
   "metadata": {
    "jp-MarkdownHeadingCollapsed": true
   },
   "source": [
    "## V1-RSC oscillators"
   ]
  },
  {
   "cell_type": "code",
   "execution_count": 108,
   "id": "853c1e97-82fc-483c-b8d6-96114025ce89",
   "metadata": {
    "scrolled": true
   },
   "outputs": [
    {
     "name": "stdout",
     "output_type": "stream",
     "text": [
      "Num cycles: 2\n",
      "Pre peak detection: 318 units\n",
      "Post peak detection: 218 units\n",
      "et\n",
      "ET#R003    47\n",
      "ET#R004    50\n",
      "ET#RB00    48\n",
      "ET#RB02    21\n",
      "ET#RB03    52\n",
      "Name: cuid, dtype: int64\n",
      "43.6\n",
      "\n",
      "Num cycles: 3\n",
      "Pre peak detection: 318 units\n",
      "Post peak detection: 108 units\n",
      "et\n",
      "ET#R003    24\n",
      "ET#R004    28\n",
      "ET#RB00    10\n",
      "ET#RB02     8\n",
      "ET#RB03    38\n",
      "Name: cuid, dtype: int64\n",
      "21.6\n",
      "\n"
     ]
    }
   ],
   "source": [
    "for i in [2,3]:\n",
    "    print(f'Num cycles: {i}')\n",
    "    v1rsc_V1_osc = pull_osc_units(v1rsc_V1_units, num_cycles=i, in_regions='v1rsc')"
   ]
  },
  {
   "cell_type": "code",
   "execution_count": 109,
   "id": "43621dd2-7efa-4b4a-8be2-3bcff606cd8d",
   "metadata": {
    "scrolled": true
   },
   "outputs": [
    {
     "name": "stdout",
     "output_type": "stream",
     "text": [
      "Num cycles: 2\n",
      "Pre peak detection: 218 units\n",
      "Post peak detection: 99 units\n",
      "et\n",
      "ET#R003    14\n",
      "ET#R004     4\n",
      "ET#RB00    25\n",
      "ET#RB02    11\n",
      "ET#RB03    45\n",
      "Name: cuid, dtype: int64\n",
      "19.8\n",
      "\n",
      "Num cycles: 3\n",
      "Pre peak detection: 218 units\n",
      "Post peak detection: 46 units\n",
      "et\n",
      "ET#R003     6\n",
      "ET#R004     1\n",
      "ET#RB00    12\n",
      "ET#RB02     4\n",
      "ET#RB03    23\n",
      "Name: cuid, dtype: int64\n",
      "9.2\n",
      "\n"
     ]
    }
   ],
   "source": [
    "for i in [2,3]:\n",
    "    print(f'Num cycles: {i}')\n",
    "    v1rsc_RSC_osc = pull_osc_units(v1rsc_RSC_units, num_cycles=i, in_regions='v1rsc')"
   ]
  },
  {
   "cell_type": "markdown",
   "id": "ff0a70db-9640-4176-92c4-0c7f920089c2",
   "metadata": {
    "jp-MarkdownHeadingCollapsed": true
   },
   "source": [
    "## V1-HPC"
   ]
  },
  {
   "cell_type": "code",
   "execution_count": 127,
   "id": "35e9e278-f199-49ea-b148-c811081ea8f5",
   "metadata": {},
   "outputs": [
    {
     "name": "stdout",
     "output_type": "stream",
     "text": [
      "Num cycles: 2\n",
      "Pre peak detection: 372 units\n",
      "Post peak detection: 176 units\n",
      "et\n",
      "et1        2\n",
      "et10       5\n",
      "et2       14\n",
      "et20      17\n",
      "et200      5\n",
      "et3       17\n",
      "et30       5\n",
      "et311     15\n",
      "et3112    15\n",
      "et323     20\n",
      "et3232    20\n",
      "et383     18\n",
      "et3832    23\n",
      "Name: cuid, dtype: int64\n",
      "13.538461538461538\n",
      "\n",
      "Num cycles: 3\n",
      "Pre peak detection: 372 units\n",
      "Post peak detection: 57 units\n",
      "et\n",
      "et10       1\n",
      "et2        7\n",
      "et20      10\n",
      "et200      3\n",
      "et3        8\n",
      "et30       1\n",
      "et311      2\n",
      "et3112     1\n",
      "et323      3\n",
      "et3232     5\n",
      "et383      7\n",
      "et3832     9\n",
      "Name: cuid, dtype: int64\n",
      "4.75\n",
      "\n"
     ]
    }
   ],
   "source": [
    "for i in [2,3]:\n",
    "    print(f'Num cycles: {i}')\n",
    "    v1hpc_V1_osc = pull_osc_units(v1hpc_V1_units, num_cycles=i, in_regions='v1hpc')"
   ]
  },
  {
   "cell_type": "code",
   "execution_count": 129,
   "id": "885d681d-7f0f-49cc-b5e2-c04468cf7650",
   "metadata": {},
   "outputs": [
    {
     "name": "stdout",
     "output_type": "stream",
     "text": [
      "Num cycles: 2\n",
      "Pre peak detection: 475 units\n",
      "Post peak detection: 181 units\n",
      "et\n",
      "et1       12\n",
      "et10      15\n",
      "et2        8\n",
      "et20      14\n",
      "et200      7\n",
      "et3       17\n",
      "et30      10\n",
      "et311     21\n",
      "et3112     9\n",
      "et323     12\n",
      "et3232    13\n",
      "et383     18\n",
      "et3832    25\n",
      "Name: cuid, dtype: int64\n",
      "13.923076923076923\n",
      "\n",
      "Num cycles: 3\n",
      "Pre peak detection: 475 units\n",
      "Post peak detection: 48 units\n",
      "et\n",
      "et10      8\n",
      "et2       1\n",
      "et20      3\n",
      "et200     1\n",
      "et3       6\n",
      "et30      4\n",
      "et311     8\n",
      "et3112    1\n",
      "et323     1\n",
      "et3232    5\n",
      "et383     5\n",
      "et3832    5\n",
      "Name: cuid, dtype: int64\n",
      "4.0\n",
      "\n"
     ]
    }
   ],
   "source": [
    "for i in [2,3]:\n",
    "    print(f'Num cycles: {i}')\n",
    "    v1hpc_HPC_osc = pull_osc_units(v1hpc_HPC_units, num_cycles=i, in_regions='v1hpc')"
   ]
  },
  {
   "cell_type": "code",
   "execution_count": null,
   "id": "013fe7f4-1e7d-4dc9-97f0-a52518db76d7",
   "metadata": {},
   "outputs": [],
   "source": []
  },
  {
   "cell_type": "code",
   "execution_count": null,
   "id": "93d378fb-27b9-4457-8293-b5c14cb7d545",
   "metadata": {},
   "outputs": [],
   "source": []
  }
 ],
 "metadata": {
  "kernelspec": {
   "display_name": "Python 3 (ipykernel)",
   "language": "python",
   "name": "python3"
  },
  "language_info": {
   "codemirror_mode": {
    "name": "ipython",
    "version": 3
   },
   "file_extension": ".py",
   "mimetype": "text/x-python",
   "name": "python",
   "nbconvert_exporter": "python",
   "pygments_lexer": "ipython3",
   "version": "3.10.13"
  }
 },
 "nbformat": 4,
 "nbformat_minor": 5
}
