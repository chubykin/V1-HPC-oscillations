{
 "cells": [
  {
   "cell_type": "code",
   "execution_count": null,
   "metadata": {},
   "outputs": [],
   "source": [
    "from __future__ import division\n",
    "import pandas as pd\n",
    "import numpy as np\n",
    "import time\n",
    "from datetime import datetime\n",
    "import matplotlib.pyplot as plt\n",
    "import matplotlib as mpl\n",
    "from matplotlib.ticker import MaxNLocator\n",
    "\n",
    "from matplotlib.ticker import FormatStrFormatter\n",
    "\n",
    "import scipy.stats as sstat\n",
    "import scipy.signal as ssig\n",
    "import h5py\n",
    "from mpl_toolkits.mplot3d import Axes3D\n",
    "import os\n",
    "from sklearn import preprocessing\n",
    "from sklearn.cluster import KMeans\n",
    "from sklearn.decomposition import PCA as sklearnPCA\n",
    "import re\n",
    "\n",
    "# import ephys_unit_analysis as ena\n",
    "import mz_ephys_unit_analysis as mz_ena\n",
    "import mz_unit_dur_freq as mz_udf\n",
    "\n",
    "#import resampy\n",
    "import fnmatch\n",
    "import seaborn as sns\n",
    "%matplotlib inline\n",
    "%load_ext autoreload\n",
    "%autoreload 2\n",
    "mpl.rcParams['pdf.fonttype'] = 42 \n",
    "mpl.rcParams['font.sans-serif']=['Arial', 'Helvetica','Bitstream Vera Sans', 'DejaVu Sans', 'Lucida Grande', \n",
    "                                 'Verdana', 'Geneva', 'Lucid', 'Avant Garde', 'sans-serif']  \n",
    "\n",
    "sns.despine()"
   ]
  },
  {
   "cell_type": "code",
   "execution_count": 2,
   "metadata": {},
   "outputs": [],
   "source": [
    "# for publication quality plots\n",
    "def set_pub_plots(pal=sns.blend_palette([\"gray\",\"crimson\", 'cyan', 'magenta', 'purple'  ],5)):\n",
    "    sns.set_style(\"white\")\n",
    "    sns.set_palette(pal)\n",
    "    sns.set_context(\"poster\", font_scale=1.5, rc={\"lines.linewidth\": 2.5, \"axes.linewidth\":2.5, 'figure.facecolor': 'white'}) \n",
    "    sns.set_style(\"ticks\", {\"xtick.major.size\": 8, \"ytick.major.size\": 8})\n",
    "    plt.rcParams['axes.linewidth'] = 2.5\n",
    "\n",
    "rc_pub={'font.size': 25, 'axes.labelsize': 25, 'legend.fontsize': 25.0, \n",
    "        'axes.titlesize': 25, 'xtick.labelsize': 25, 'ytick.labelsize': 25, \n",
    "        'axes.linewidth':2.5, 'lines.linewidth': 2.5,\n",
    "        'xtick.color': 'black', 'ytick.color': 'black', 'axes.edgecolor': 'black',\n",
    "        'axes.labelcolor':'black','text.color':'black'}\n",
    "# to restore the defaults, call plt.rcdefaults() \n",
    "\n",
    "set_pub_plots()"
   ]
  },
  {
   "cell_type": "code",
   "execution_count": null,
   "metadata": {},
   "outputs": [],
   "source": [
    "pal=sns.blend_palette(['cyan','magenta','grey','crimson'], 4)\n",
    "sns.palplot(pal)\n",
    "sns.set_palette(pal)"
   ]
  },
  {
   "cell_type": "markdown",
   "metadata": {},
   "source": [
    "---"
   ]
  },
  {
   "cell_type": "markdown",
   "metadata": {},
   "source": [
    "# First, load in the previously saved dataFrame"
   ]
  },
  {
   "cell_type": "code",
   "execution_count": 5,
   "metadata": {},
   "outputs": [],
   "source": [
    "V1 = pd.read_pickle(r\"C:\\Users\\AChub_Lab\\Desktop\\zimmer94\\Data_Analysis\\Multi_brain_regions\\V1Hippo_spikes\\v1_rg_df.pkl\")\n",
    "HPC = pd.read_pickle(r\"C:\\Users\\AChub_Lab\\Desktop\\zimmer94\\Data_Analysis\\Multi_brain_regions\\V1Hippo_spikes\\hpc_rg_df.pkl\")\n",
    "\n",
    "# combine the pre/post df with the novel df\n",
    "V1HPC_combo = pd.concat([V1, HPC])"
   ]
  },
  {
   "cell_type": "code",
   "execution_count": null,
   "metadata": {},
   "outputs": [],
   "source": [
    "V1HPC_combo.head(2)"
   ]
  },
  {
   "cell_type": "code",
   "execution_count": null,
   "metadata": {},
   "outputs": [],
   "source": [
    "V1HPC_combo.stim.unique()"
   ]
  },
  {
   "cell_type": "markdown",
   "metadata": {},
   "source": [
    "# Choose which r_group to plot"
   ]
  },
  {
   "cell_type": "code",
   "execution_count": 12,
   "metadata": {},
   "outputs": [],
   "source": [
    "stim_cond = 'post'\n",
    "\n",
    "v1_rgroup = [0,1,2,3]\n",
    "hpc_rgroup = [0]\n",
    "\n",
    "# change the dataFrame depending on r_groups or r2_groups (only_v1_kmeans,only_hpc_kmeans or v1_oscillators_kmeans,hpc_oscillators_kmeans)\n",
    "V1_rg = V1['r2_groups'].isin(v1_rgroup)\n",
    "V1_rg = V1[V1_rg]\n",
    "HPC_rg = HPC['r2_groups'].isin(hpc_rgroup)\n",
    "HPC_rg = HPC[HPC_rg]\n",
    "kmeans_all = pd.concat([V1_rg, HPC_rg])\n",
    "kmeans_all = kmeans_all.sort_values(by=['r_groups'])"
   ]
  },
  {
   "cell_type": "code",
   "execution_count": 13,
   "metadata": {},
   "outputs": [],
   "source": [
    "is_sorted = 'yes'\n",
    "\n",
    "v1_km = V1_rg.pivot('cuid', 'times', 'zscore')\n",
    "hip_km = HPC_rg.pivot('cuid', 'times', 'zscore')\n",
    "\n",
    "if is_sorted == 'yes':\n",
    "    v1_km_np = v1_km.values[ np.argsort(np.mean(v1_km.values[:,50:80], axis = 1) )] #if I want sorted activity\n",
    "    hip_km_np = hip_km.values[ np.argsort(np.mean(hip_km.values[:,50:80], axis = 1) )] #if I want sorted activity\n",
    "elif is_sorted == 'no':\n",
    "    v1_km_np = v1_km.values\n",
    "    hip_km_np = hip_km.values"
   ]
  },
  {
   "cell_type": "code",
   "execution_count": 14,
   "metadata": {},
   "outputs": [],
   "source": [
    "sp_dims = (15, 4) #(width, height)\n",
    "v_max = 5\n",
    "v_min = -1\n",
    "xvalues = np.arange(start=0.4, stop=1.7, step=0.2)\n",
    "y_min = -2\n",
    "y_max = 6"
   ]
  },
  {
   "cell_type": "code",
   "execution_count": null,
   "metadata": {},
   "outputs": [],
   "source": [
    "to_plot = 0\n",
    "pathway = r'C:\\Users\\AChub_Lab\\Desktop\\zimmer94\\Data_Analysis\\Multi_brain_regions\\saved_figs'\n",
    "\n",
    "f, (ax1, ax2) = plt.subplots(1,2, sharex='col', figsize=(15,4))\n",
    "f.tight_layout()\n",
    "plt.suptitle('kmeans: '+stim_cond)\n",
    "plt.minorticks_on()\n",
    "\n",
    "# Heatmap for A\n",
    "sns.heatmap(v1_km_np, \n",
    "            cmap = 'afmhot', xticklabels=20, yticklabels=False, \n",
    "            vmax=v_max, center = 2, vmin = v_min, robust = True, ax=ax1)\n",
    "ax1.set_xlabel('Time (ms)')\n",
    "ax1.set_ylabel(str(len(V1_rg.cuid.unique())))\n",
    "# ax1.set_xticklabels(xvalues, rotation=0)\n",
    "ax1.set_xlim(0.4*100,1.6*100)\n",
    "ax1.set_title('V1')\n",
    "cbar = ax1.collections[0].colorbar\n",
    "cbar.remove()\n",
    "\n",
    "#Heatmap for B\n",
    "sns.heatmap(hip_km_np, \n",
    "            cmap = 'afmhot', xticklabels=20, yticklabels=False, \n",
    "            vmax=v_max, center = 2, vmin = v_min, robust = True, ax=ax2)\n",
    "ax2.set_xlabel('Time (ms)')\n",
    "ax2.set_ylabel(str(len(HPC_rg.cuid.unique())))\n",
    "# ax2.set_xticklabels(xvalues, rotation=0)\n",
    "ax2.set_xlim(0.4*100,1.6*100)\n",
    "ax2.set_title('HPC')\n",
    "cbar = ax2.collections[0].colorbar\n",
    "# cbar.ax.tick_params(labelsize=25)\n",
    "cbar.set_label('Z-score')\n",
    "\n",
    "# Change the end of this next line with a new file name!!\n",
    "if to_plot == 1:\n",
    "    fig_title = str('V1HPC_oscillators_heat.pdf')\n",
    "    out_title = pathway+'\\\\'+fig_title\n",
    "    plt.savefig(out_title, transparent=True)\n",
    "    \n",
    "plt.show()"
   ]
  },
  {
   "cell_type": "code",
   "execution_count": null,
   "metadata": {},
   "outputs": [],
   "source": [
    "sp_dims = (10, 4) #(width, height)\n",
    "f, ax = plt.subplots(1,1, sharex='col', figsize=sp_dims)\n",
    "\n",
    "#Combo lineplot\n",
    "sns.lineplot(x = 'times', y = 'ztc', \n",
    "             estimator = 'mean', \n",
    "             data = kmeans_all, \n",
    "             hue = 'region',\n",
    "             hue_order = ['v1','hippo'],\n",
    "             legend=False,\n",
    "             ci=None) #ci is the error\n",
    "\n",
    "plt.legend(['V1','HPC'], bbox_to_anchor=(1.1, 1.05))\n",
    "\n",
    "plt.axvspan(0.5, 0.7, color='lightgrey', alpha = 0.5)\n",
    "plt.axhline(y=0, xmin=0, xmax=3, c='black', linewidth=1, zorder=0)\n",
    "\n",
    "plt.xlim(0.4,1.6)\n",
    "plt.xticks([0.4,0.6,0.8,1,1.2,1.4,1.6])\n",
    "# plt.yticks([-4,0,4,8,12,16,20])\n",
    "# plt.ylim([-4,22])\n",
    "plt.minorticks_on()\n",
    "plt.xlabel('Time (s)')\n",
    "plt.ylabel('zscore')\n",
    "plt.title('kmeans: '+stim_cond)\n",
    "\n",
    "# Change the end of this next line with a new file name!!\n",
    "to_plot = 0\n",
    "pathway = r'C:\\Users\\AChub_Lab\\Desktop\\zimmer94\\Data_Analysis\\Multi_brain_regions\\saved_figs'\n",
    "if to_plot == 1:\n",
    "    fig_title = str('V1HPC_oscillators_line.pdf')\n",
    "    out_title = pathway+'\\\\'+fig_title\n",
    "    plt.savefig(out_title, transparent=True)\n",
    "    \n",
    "plt.show()"
   ]
  },
  {
   "cell_type": "markdown",
   "metadata": {},
   "source": [
    "---"
   ]
  },
  {
   "cell_type": "markdown",
   "metadata": {},
   "source": [
    "# Plotting histogram of units with peaks"
   ]
  },
  {
   "cell_type": "code",
   "execution_count": null,
   "metadata": {},
   "outputs": [],
   "source": [
    "group_A_df = kmeans_all[kmeans_all['region'] == 'v1']\n",
    "group_B_df = kmeans_all[kmeans_all['region'] == 'hippo']\n",
    "\n",
    "A_array = np.array(group_A_df.pivot(index='cuid', columns='times', values='zscore'))\n",
    "print(A_array.shape) #this is [units x times] and the values are above\n",
    "\n",
    "B_array = np.array(group_B_df.pivot(index='cuid', columns='times', values='zscore'))\n",
    "print(B_array.shape) #this is [units x times] and the values are above"
   ]
  },
  {
   "cell_type": "code",
   "execution_count": 18,
   "metadata": {},
   "outputs": [],
   "source": [
    "num_cycles_required = 1\n",
    "is_sorted = 'yes'\n",
    "\n",
    "Aunit_3plus = []\n",
    "Aind_3plus = []\n",
    "for unit in range(A_array.shape[0]):\n",
    "    yy = A_array[unit]\n",
    "    dur, peak_ind = mz_udf._duration_peaks_unit(yy)\n",
    "    if len(peak_ind) >= num_cycles_required:\n",
    "        Aunit_3plus.append(yy)\n",
    "        Aind_3plus.append(peak_ind)\n",
    "\n",
    "Bunit_3plus = []\n",
    "Bind_3plus = []\n",
    "for unit in range(B_array.shape[0]):\n",
    "    yy = B_array[unit]\n",
    "    dur, peak_ind = mz_udf._duration_peaks_unit(yy)\n",
    "    if len(peak_ind) >= num_cycles_required:\n",
    "        Bunit_3plus.append(yy)\n",
    "        Bind_3plus.append(peak_ind)\n",
    "\n",
    "Aunit_3plus = np.array(Aunit_3plus)\n",
    "Bunit_3plus = np.array(Bunit_3plus)\n",
    "Aind_3plus = np.concatenate(Aind_3plus, axis=0)\n",
    "Bind_3plus = np.concatenate(Bind_3plus, axis=0)"
   ]
  },
  {
   "cell_type": "code",
   "execution_count": 19,
   "metadata": {},
   "outputs": [],
   "source": [
    "if is_sorted == 'yes':\n",
    "    v1_3plus = Aunit_3plus[np.argsort(np.mean(Aunit_3plus[:,50:60], axis = 1) )] #if I want sorted activity\n",
    "    hip_3plus = Bunit_3plus[np.argsort(np.mean(Bunit_3plus[:,50:60], axis = 1) )] #if I want sorted activity\n",
    "    \n",
    "#     v1_3plus = v1_3plus[0:104,:]\n",
    "#     hip_3plus = hip_3plus[9:13,:]\n",
    "    \n",
    "elif is_sorted == 'no':\n",
    "    v1_3plus = Aunit_3plus\n",
    "    hip_3plus = Bunit_3plus\n",
    "stim_cond = 'post 3+'"
   ]
  },
  {
   "cell_type": "code",
   "execution_count": 20,
   "metadata": {},
   "outputs": [],
   "source": [
    "sp_dims = (15, 4) #(width, height)\n",
    "v_max = 5\n",
    "v_min = -1\n",
    "xvalues = np.arange(start=0.4, stop=1.7, step=0.2)\n",
    "y_min = -2\n",
    "y_max = 6"
   ]
  },
  {
   "cell_type": "code",
   "execution_count": null,
   "metadata": {},
   "outputs": [],
   "source": [
    "f, (ax1, ax2) = plt.subplots(1,2, sharex='col', figsize=sp_dims)\n",
    "f.tight_layout()\n",
    "plt.minorticks_on()\n",
    "\n",
    "# Heatmap for A\n",
    "sns.heatmap(v1_3plus, \n",
    "            cmap = 'afmhot', xticklabels=20, yticklabels=False, \n",
    "            vmax=v_max, center = 2, vmin = v_min, robust = True, ax=ax1)\n",
    "ax1.set_xlabel('Time (ms)')\n",
    "ax1.set_ylabel(str(v1_3plus.shape[0]))\n",
    "ax1.set_xlim(0.4*100,1.6*100)\n",
    "ax1.set_title('V1')\n",
    "cbar = ax1.collections[0].colorbar\n",
    "cbar.remove()\n",
    "\n",
    "#Heatmap for B\n",
    "sns.heatmap(hip_3plus, \n",
    "            cmap = 'afmhot', xticklabels=20, yticklabels=False, \n",
    "            vmax=v_max, center = 2, vmin = v_min, robust = True, ax=ax2)\n",
    "ax2.set_xlabel('Time (ms)')\n",
    "ax2.set_ylabel(str(hip_3plus.shape[0]))\n",
    "ax2.set_xlim(0.4*100,1.6*100)\n",
    "ax2.set_title('Hippo')\n",
    "cbar = ax2.collections[0].colorbar\n",
    "cbar.ax.tick_params(labelsize=25)\n",
    "cbar.set_label('Z-score')\n",
    "\n",
    "# Change the end of this next line with a new file name!!\n",
    "# plt.savefig(r\"U:\\Papers\\D&P Osc in Mouse Vis Sys\\J Neuro Submission\\Figures\\V1_Hippocampus\\panels\\more_post\\post3_heat.pdf\", transparent=True)\n",
    "\n",
    "plt.show()"
   ]
  },
  {
   "cell_type": "code",
   "execution_count": null,
   "metadata": {},
   "outputs": [],
   "source": [
    "fig_size = plt.rcParams[\"figure.figsize\"]\n",
    "fig_size[0] = 9.0 # x dimension\n",
    "fig_size[1] = 5.0 # y dimension\n",
    "\n",
    "sns.histplot(Aind_3plus, binwidth=4, linewidth=0, stat='probability', color='cyan', label='V1', \n",
    "             kde=True, kde_kws={'bw_adjust' : 0.15})\n",
    "sns.histplot(Bind_3plus, binwidth=4, linewidth=0, stat='probability', color='magenta', label='HPC', \n",
    "             kde=True, kde_kws={'bw_adjust' : 0.15})\n",
    "# sns.kdeplot(Aind_3plus, bw_method=0.05, color='cyan', fill=True, label='V1')\n",
    "# sns.kdeplot(Bind_3plus, bw_method=0.05, color='magenta', fill=True, label='HPC')\n",
    "\n",
    "plt.title(str('kde peak times'))\n",
    "plt.xlim([50,130])\n",
    "plt.xticks(ticks=[60,80,100,120], labels=[0.6,0.8,1.0,1.2])\n",
    "# plt.yticks(ticks=[0,0.02,0.04])\n",
    "plt.xlabel('Time (s)')\n",
    "plt.legend()\n",
    "\n",
    "# Change the end of this next line with a new file name!!\n",
    "to_plot = 0\n",
    "if to_plot == 1:\n",
    "    fig_title = str('V1HPC_oscillators_hist.pdf')\n",
    "    out_title = pathway+'\\\\'+fig_title\n",
    "    plt.savefig(out_title, transparent=True)\n",
    "    \n",
    "plt.show()"
   ]
  },
  {
   "cell_type": "markdown",
   "metadata": {},
   "source": [
    "---"
   ]
  },
  {
   "cell_type": "markdown",
   "metadata": {},
   "source": [
    "# Now looking at the frequency of these units"
   ]
  },
  {
   "cell_type": "code",
   "execution_count": null,
   "metadata": {},
   "outputs": [],
   "source": [
    "v1_array = np.array(V1_rg.pivot('cuid', 'times', 'zscore'))\n",
    "print(v1_array.shape) #this is [units x times] and the values are above\n",
    "\n",
    "hpc_array = np.array(HPC_rg.pivot('cuid', 'times', 'zscore'))\n",
    "print(hpc_array.shape) #this is [units x times] and the values are above"
   ]
  },
  {
   "cell_type": "code",
   "execution_count": 24,
   "metadata": {},
   "outputs": [],
   "source": [
    "durationA = []\n",
    "indA = []\n",
    "for unit in range(v1_array.shape[0]):\n",
    "    yy = v1_array[unit]\n",
    "    dur, peak_ind = mz_udf._duration_peaks_unit(yy)\n",
    "    durationA.append(dur)\n",
    "    indA.append(peak_ind)\n",
    "\n",
    "durationB = []\n",
    "indB = []\n",
    "for unit in range(hpc_array.shape[0]):\n",
    "    yy = hpc_array[unit]\n",
    "    dur, peak_ind = mz_udf._duration_peaks_unit(yy)\n",
    "    durationB.append(dur)\n",
    "    indB.append(peak_ind)\n",
    "    \n",
    "indA_array = np.concatenate(indA, axis=0)\n",
    "indB_array = np.concatenate(indB, axis=0)"
   ]
  },
  {
   "cell_type": "code",
   "execution_count": 25,
   "metadata": {},
   "outputs": [],
   "source": [
    "mean_freqA = [1/np.diff(i)*100+1 for i in indA]\n",
    "mean_freqB = [1/np.diff(i)*100+1 for i in indB]"
   ]
  },
  {
   "cell_type": "code",
   "execution_count": null,
   "metadata": {},
   "outputs": [],
   "source": [
    "# this is a dataframe of all cycle frequencies\n",
    "allA_freq = np.concatenate(mean_freqA)\n",
    "allB_freq = np.concatenate(mean_freqB)\n",
    "\n",
    "all_freqA_df = pd.DataFrame(tuple(zip(allA_freq,(['v1']*len(allA_freq)))),columns=['freq','group'])\n",
    "all_freqB_df = pd.DataFrame(tuple(zip(allB_freq,(['hpc']*len(allB_freq)))),columns=['freq','group'])\n",
    "big_freq_df = pd.concat([all_freqA_df,all_freqB_df], ignore_index=True)\n",
    "\n",
    "big_freq_df.reset_index(inplace=True)\n",
    "\n",
    "big_freq_df.head()"
   ]
  },
  {
   "cell_type": "code",
   "execution_count": null,
   "metadata": {},
   "outputs": [],
   "source": [
    "fig_size = plt.rcParams[\"figure.figsize\"]\n",
    "fig_size[0] = 8.0 # x dimension\n",
    "fig_size[1] = 4.0 # y dimension\n",
    "\n",
    "ax1= plt.subplot(111)\n",
    "sns.scatterplot(x='index', y='freq', data=big_freq_df, hue='group', linewidth=0.5)\n",
    "plt.xlabel('unit index')\n",
    "plt.ylabel('Frequency (Hz)')\n",
    "\n",
    "plt.legend(bbox_to_anchor=(1.02, 1), loc='upper left', borderaxespad=0)\n",
    "\n",
    "plt.show()"
   ]
  },
  {
   "cell_type": "code",
   "execution_count": null,
   "metadata": {},
   "outputs": [],
   "source": [
    "fig_size = plt.rcParams[\"figure.figsize\"]\n",
    "fig_size[0] = 7.0 # x dimension\n",
    "fig_size[1] = 4.0 # y dimension\n",
    "\n",
    "ax1= plt.subplot(111)\n",
    "# sns.histplot(data=big_freq_df, x=\"freq\", hue=\"group\")\n",
    "sns.kdeplot(data=big_freq_df, x=\"freq\", hue=\"group\",\n",
    "            cumulative=False, common_norm=False, bw_method=0.7, fill=True, legend=False)\n",
    "\n",
    "plt.title('V1 - HPC')\n",
    "plt.xlabel('Frequency (Hz)')\n",
    "plt.xticks([0,2,4,6,8,10,12])\n",
    "plt.xlim([-1,13])\n",
    "plt.yticks([0,0.1,0.2,0.3])\n",
    "plt.ylim([0,0.35])\n",
    "\n",
    "# Change the end of this next line with a new file name!!\n",
    "to_plot = 0\n",
    "pathway = r'C:\\Users\\AChub_Lab\\Desktop\\zimmer94\\Data_Analysis\\Multi_brain_regions\\saved_figs\\frequency'\n",
    "if to_plot == 1:\n",
    "    fig_title = str('V1HPC_all_peaks_line.pdf')\n",
    "    out_title = pathway+'\\\\'+fig_title\n",
    "    plt.savefig(out_title, transparent=True)\n",
    "\n",
    "plt.show()"
   ]
  },
  {
   "cell_type": "code",
   "execution_count": null,
   "metadata": {},
   "outputs": [],
   "source": [
    "fig_size = plt.rcParams[\"figure.figsize\"]\n",
    "fig_size[0] = 7.0 # x dimension\n",
    "fig_size[1] = 4.0 # y dimension\n",
    "\n",
    "ax1= plt.subplot(111)\n",
    "sns.kdeplot(data=big_freq_df, x=\"freq\", hue=\"group\",\n",
    "            cumulative=True, common_norm=False,\n",
    "            bw_method=0.7,legend=False)\n",
    "\n",
    "plt.title('V1 - HPC')\n",
    "plt.xlabel('Frequency (Hz)')\n",
    "plt.xticks([0,2,4,6,8,10,12])\n",
    "plt.xlim([-1,11])\n",
    "\n",
    "# Change the end of this next line with a new file name!!\n",
    "to_plot = 0\n",
    "pathway = r'C:\\Users\\AChub_Lab\\Desktop\\zimmer94\\Data_Analysis\\Multi_brain_regions\\saved_figs\\frequency'\n",
    "if to_plot == 1:\n",
    "    fig_title = str('V1HPC_all_peaks_cumsum.pdf')\n",
    "    out_title = pathway+'\\\\'+fig_title\n",
    "    plt.savefig(out_title, transparent=True)\n",
    "\n",
    "plt.show()"
   ]
  },
  {
   "cell_type": "code",
   "execution_count": null,
   "metadata": {},
   "outputs": [],
   "source": [
    "fig_size = plt.rcParams[\"figure.figsize\"]\n",
    "fig_size[0] = 2.0 # x dimension\n",
    "fig_size[1] = 5.0 # y dimension\n",
    "\n",
    "ax1=plt.subplot(111)\n",
    "sns.barplot(data=big_freq_df, x='group', y='freq', order=[\"v1\",\"hpc\"], ci=68)\n",
    "\n",
    "plt.ylabel('Frequency (Hz)')\n",
    "plt.xlabel('')\n",
    "ax1.set_xticklabels(['V1','HPC'])\n",
    "plt.yticks(ticks=[0,2,4,6])\n",
    "# plt.ylim([0,6.5])\n",
    "plt.title('V1-HPC')\n",
    "\n",
    "# Change the end of this next line with a new file name!!\n",
    "to_plot = 0\n",
    "pathway = r'C:\\Users\\AChub_Lab\\Desktop\\zimmer94\\Data_Analysis\\Multi_brain_regions\\saved_figs\\frequency'\n",
    "if to_plot == 1:\n",
    "    fig_title = str('V1HPC_all_peaks_bar.pdf')\n",
    "    out_title = pathway+'\\\\'+fig_title\n",
    "    plt.savefig(out_title, transparent=True)\n",
    "\n",
    "plt.show()"
   ]
  },
  {
   "cell_type": "code",
   "execution_count": null,
   "metadata": {},
   "outputs": [],
   "source": [
    "# upper-cycles frequency\n",
    "result = sstat.ks_2samp(big_freq_df[big_freq_df['group']=='v1'].freq, \n",
    "                        big_freq_df[big_freq_df['group']=='hpc'].freq)\n",
    "print('Oscillation Frequency (all cycles)')\n",
    "print('V1: {0} --- HPC: {1}'.format(big_freq_df[big_freq_df['group']=='v1'].freq.nunique(),\n",
    "                                    big_freq_df[big_freq_df['group']=='hpc'].freq.nunique()))\n",
    "print(result)\n",
    "\n",
    "# upper-cycles frequency\n",
    "print('Oscillation Frequency (all cycles)')\n",
    "print('Mean of V1: {0}'.format(np.mean(big_freq_df[big_freq_df['group']=='v1'].freq)))\n",
    "print('Mean of HPC: {0}'.format(np.mean(big_freq_df[big_freq_df['group']=='hpc'].freq)))\n",
    "result = sstat.ttest_ind(big_freq_df[big_freq_df['group']=='v1'].freq, \n",
    "                         big_freq_df[big_freq_df['group']=='hpc'].freq)\n",
    "print(result)"
   ]
  },
  {
   "cell_type": "code",
   "execution_count": null,
   "metadata": {},
   "outputs": [],
   "source": []
  },
  {
   "cell_type": "code",
   "execution_count": null,
   "metadata": {},
   "outputs": [],
   "source": []
  },
  {
   "cell_type": "code",
   "execution_count": null,
   "metadata": {},
   "outputs": [],
   "source": []
  },
  {
   "cell_type": "code",
   "execution_count": null,
   "metadata": {},
   "outputs": [],
   "source": []
  },
  {
   "cell_type": "code",
   "execution_count": null,
   "metadata": {},
   "outputs": [],
   "source": [
    "# this is a dataframe of specific cycle frequencies\n",
    "freqA_df = pd.DataFrame(tuple(zip(mean_freqA,(['v1']*len(mean_freqA)))),columns=['freq','group'])\n",
    "freqB_df = pd.DataFrame(tuple(zip(mean_freqB,(['hpc']*len(mean_freqB)))),columns=['freq','group'])\n",
    "all_freq_df=pd.concat([freqA_df,freqB_df])\n",
    "\n",
    "all_freq_df['up_cyc'] = all_freq_df.freq.str[1] #this is the 2-3 peak cycle\n",
    "# all_freq_df['up_cyc2'] = all_freq_df.freq.str[2] #this is the 3-4 peak cycle\n",
    "\n",
    "all_freq_df.head()"
   ]
  },
  {
   "cell_type": "code",
   "execution_count": null,
   "metadata": {},
   "outputs": [],
   "source": [
    "# removes the NaN values from the above dataframe\n",
    "all_freq_df=all_freq_df[~all_freq_df.up_cyc.isna()]\n",
    "# all_freq_df=all_freq_df[~all_freq_df.up_cyc2.isna()]\n",
    "all_freq_df.shape"
   ]
  },
  {
   "cell_type": "code",
   "execution_count": null,
   "metadata": {},
   "outputs": [],
   "source": [
    "fig_size = plt.rcParams[\"figure.figsize\"]\n",
    "fig_size[0] = 7.0 # x dimension\n",
    "fig_size[1] = 4.0 # y dimension\n",
    "\n",
    "ax1= plt.subplot(111)\n",
    "# sns.histplot(data=all_freq_df, x=\"up_cyc\", hue=\"group\")\n",
    "sns.kdeplot(data=all_freq_df, x=\"up_cyc\", hue=\"group\",\n",
    "            cumulative=False, common_norm=False, bw_method=0.7, fill=True, legend=False)\n",
    "\n",
    "plt.title('V1 - HPC')\n",
    "plt.xlabel('Frequency (Hz)')\n",
    "plt.xticks([0,2,4,6,8,10,12])\n",
    "plt.xlim([-1,13])\n",
    "plt.yticks([0,0.1,0.2,0.3])\n",
    "plt.ylim([0,0.35])\n",
    "\n",
    "# Change the end of this next line with a new file name!!\n",
    "to_plot = 0\n",
    "pathway = r'C:\\Users\\AChub_Lab\\Desktop\\zimmer94\\Data_Analysis\\Multi_brain_regions\\saved_figs\\frequency'\n",
    "if to_plot == 1:\n",
    "    fig_title = str('V1HPC_upper_peaks_line.pdf')\n",
    "    out_title = pathway+'\\\\'+fig_title\n",
    "    plt.savefig(out_title, transparent=True)\n",
    "\n",
    "plt.show()"
   ]
  },
  {
   "cell_type": "code",
   "execution_count": null,
   "metadata": {},
   "outputs": [],
   "source": [
    "fig_size = plt.rcParams[\"figure.figsize\"]\n",
    "fig_size[0] = 7.0 # x dimension\n",
    "fig_size[1] = 4.0 # y dimension\n",
    "\n",
    "ax1= plt.subplot(111)\n",
    "sns.kdeplot(data=all_freq_df, x=\"up_cyc\", hue=\"group\",\n",
    "            cumulative=True, common_norm=False,\n",
    "            bw_method=0.7,legend=False)\n",
    "\n",
    "plt.title('V1 - HPC')\n",
    "plt.xlabel('Frequency (Hz)')\n",
    "plt.xticks([0,2,4,6,8,10,12])\n",
    "plt.xlim([-1,11])\n",
    "\n",
    "# Change the end of this next line with a new file name!!\n",
    "to_plot = 0\n",
    "pathway = r'C:\\Users\\AChub_Lab\\Desktop\\zimmer94\\Data_Analysis\\Multi_brain_regions\\saved_figs\\frequency'\n",
    "if to_plot == 1:\n",
    "    fig_title = str('V1HPC_upper_peaks_cumsum.pdf')\n",
    "    out_title = pathway+'\\\\'+fig_title\n",
    "    plt.savefig(out_title, transparent=True)\n",
    "\n",
    "plt.show()"
   ]
  },
  {
   "cell_type": "code",
   "execution_count": null,
   "metadata": {},
   "outputs": [],
   "source": [
    "fig_size = plt.rcParams[\"figure.figsize\"]\n",
    "fig_size[0] = 2.0 # x dimension\n",
    "fig_size[1] = 5.0 # y dimension\n",
    "\n",
    "ax1=plt.subplot(111)\n",
    "sns.barplot(data=all_freq_df, x='group', y='up_cyc', order=[\"v1\",\"hpc\"], ci=68)\n",
    "\n",
    "plt.ylabel('Frequency (Hz)')\n",
    "plt.xlabel('')\n",
    "ax1.set_xticklabels(['V1','HPC'])\n",
    "plt.yticks(ticks=[0,2,4,6])\n",
    "# plt.ylim([0,6.5])\n",
    "plt.title('V1-HPC')\n",
    "\n",
    "# Change the end of this next line with a new file name!!\n",
    "to_plot = 0\n",
    "pathway = r'C:\\Users\\AChub_Lab\\Desktop\\zimmer94\\Data_Analysis\\Multi_brain_regions\\saved_figs\\frequency'\n",
    "if to_plot == 1:\n",
    "    fig_title = str('V1HPC_upper_peaks_bar.pdf')\n",
    "    out_title = pathway+'\\\\'+fig_title\n",
    "    plt.savefig(out_title, transparent=True)\n",
    "\n",
    "plt.show()"
   ]
  },
  {
   "cell_type": "code",
   "execution_count": null,
   "metadata": {},
   "outputs": [],
   "source": [
    "# upper-cycles frequency\n",
    "result = sstat.ks_2samp(all_freq_df[all_freq_df['group']=='v1'].up_cyc, \n",
    "                        all_freq_df[all_freq_df['group']=='hpc'].up_cyc)\n",
    "\n",
    "print('Oscillation Frequency (upper cycles)')\n",
    "print('V1: {0} --- HPC: {1}'.format(all_freq_df[all_freq_df['group']=='v1'].up_cyc.nunique(),\n",
    "                                    all_freq_df[all_freq_df['group']=='hpc'].up_cyc.nunique()))\n",
    "\n",
    "print(result)"
   ]
  },
  {
   "cell_type": "code",
   "execution_count": null,
   "metadata": {},
   "outputs": [],
   "source": [
    "# upper-cycles frequency\n",
    "print('Oscillation Frequency (upper cycles)')\n",
    "print('Mean of V1: {0}'.format(np.mean(all_freq_df[all_freq_df['group']=='v1'].up_cyc)))\n",
    "print('Mean of HPC: {0}'.format(np.mean(all_freq_df[all_freq_df['group']=='hpc'].up_cyc)))\n",
    "\n",
    "result = sstat.ttest_ind(all_freq_df[all_freq_df['group']=='v1'].up_cyc, \n",
    "                         all_freq_df[all_freq_df['group']=='hpc'].up_cyc)\n",
    "\n",
    "print(result)"
   ]
  },
  {
   "cell_type": "markdown",
   "metadata": {},
   "source": [
    "---"
   ]
  },
  {
   "cell_type": "markdown",
   "metadata": {},
   "source": [
    "---"
   ]
  },
  {
   "cell_type": "markdown",
   "metadata": {},
   "source": [
    "---"
   ]
  },
  {
   "cell_type": "code",
   "execution_count": null,
   "metadata": {},
   "outputs": [],
   "source": []
  }
 ],
 "metadata": {
  "kernelspec": {
   "display_name": "Python 3 (ipykernel)",
   "language": "python",
   "name": "python3"
  },
  "language_info": {
   "codemirror_mode": {
    "name": "ipython",
    "version": 3
   },
   "file_extension": ".py",
   "mimetype": "text/x-python",
   "name": "python",
   "nbconvert_exporter": "python",
   "pygments_lexer": "ipython3",
   "version": "3.10.13"
  }
 },
 "nbformat": 4,
 "nbformat_minor": 4
}
