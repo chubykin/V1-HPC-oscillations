{
 "cells": [
  {
   "cell_type": "code",
   "execution_count": null,
   "metadata": {},
   "outputs": [],
   "source": [
    "from __future__ import division\n",
    "import pandas as pd\n",
    "import numpy as np\n",
    "import time\n",
    "from datetime import datetime\n",
    "import matplotlib.pyplot as plt\n",
    "import matplotlib as mpl\n",
    "from matplotlib.ticker import MaxNLocator\n",
    "\n",
    "from matplotlib.ticker import FormatStrFormatter\n",
    "\n",
    "import scipy.stats as sstat\n",
    "import scipy.signal as ssig\n",
    "import h5py\n",
    "from mpl_toolkits.mplot3d import Axes3D\n",
    "import os\n",
    "from sklearn import preprocessing\n",
    "from sklearn.cluster import KMeans\n",
    "from sklearn.decomposition import PCA as sklearnPCA\n",
    "import re\n",
    "\n",
    "# import ephys_unit_analysis as ena\n",
    "import mz_ephys_unit_analysis as mz_ena\n",
    "import mz_unit_dur_freq as mz_udf\n",
    "\n",
    "#import resampy\n",
    "import fnmatch\n",
    "import seaborn as sns\n",
    "%matplotlib inline\n",
    "%load_ext autoreload\n",
    "%autoreload 2\n",
    "mpl.rcParams['pdf.fonttype'] = 42 \n",
    "mpl.rcParams['font.sans-serif']=['Arial', 'Helvetica','Bitstream Vera Sans', 'DejaVu Sans', 'Lucida Grande', \n",
    "                                 'Verdana', 'Geneva', 'Lucid', 'Avant Garde', 'sans-serif']  \n",
    "\n",
    "sns.despine()"
   ]
  },
  {
   "cell_type": "code",
   "execution_count": 2,
   "metadata": {},
   "outputs": [],
   "source": [
    "# for publication quality plots\n",
    "def set_pub_plots(pal=sns.blend_palette([\"gray\",\"crimson\", 'cyan', 'magenta', 'purple'  ],5)):\n",
    "    sns.set_style(\"white\")\n",
    "    sns.set_palette(pal)\n",
    "    sns.set_context(\"poster\", font_scale=1.5, rc={\"lines.linewidth\": 2.5, \"axes.linewidth\":2.5, 'figure.facecolor': 'white'}) \n",
    "    sns.set_style(\"ticks\", {\"xtick.major.size\": 8, \"ytick.major.size\": 8})\n",
    "    plt.rcParams['axes.linewidth'] = 2.5\n",
    "\n",
    "rc_pub={'font.size': 25, 'axes.labelsize': 25, 'legend.fontsize': 25.0, \n",
    "        'axes.titlesize': 25, 'xtick.labelsize': 25, 'ytick.labelsize': 25, \n",
    "        'axes.linewidth':2.5, 'lines.linewidth': 2.5,\n",
    "        'xtick.color': 'black', 'ytick.color': 'black', 'axes.edgecolor': 'black',\n",
    "        'axes.labelcolor':'black','text.color':'black'}\n",
    "# to restore the defaults, call plt.rcdefaults() \n",
    "\n",
    "set_pub_plots()"
   ]
  },
  {
   "cell_type": "code",
   "execution_count": null,
   "metadata": {},
   "outputs": [],
   "source": [
    "pal=sns.blend_palette(['cyan','magenta','grey','crimson'], 4)\n",
    "sns.palplot(pal)\n",
    "sns.set_palette(pal)"
   ]
  },
  {
   "cell_type": "markdown",
   "metadata": {},
   "source": [
    "---"
   ]
  },
  {
   "cell_type": "markdown",
   "metadata": {},
   "source": [
    "# First, load in the previously saved dataFrame"
   ]
  },
  {
   "cell_type": "code",
   "execution_count": 49,
   "metadata": {},
   "outputs": [],
   "source": [
    "V1 = pd.read_pickle(r\"C:\\Users\\AChub_Lab\\Desktop\\zimmer94\\Data_Analysis\\Multi_brain_regions\\V1Hippo_spikes\\v1_allrg_df.pkl\")\n",
    "HPC = pd.read_pickle(r\"C:\\Users\\AChub_Lab\\Desktop\\zimmer94\\Data_Analysis\\Multi_brain_regions\\V1Hippo_spikes\\hpc_allrg_df.pkl\")\n",
    "\n",
    "# combine the pre/post df with the novel df\n",
    "V1HPC_combo = pd.concat([V1, HPC])"
   ]
  },
  {
   "cell_type": "code",
   "execution_count": null,
   "metadata": {},
   "outputs": [],
   "source": [
    "V1HPC_combo.head(2)"
   ]
  },
  {
   "cell_type": "code",
   "execution_count": null,
   "metadata": {},
   "outputs": [],
   "source": [
    "print(V1HPC_combo.stim.unique())\n",
    "print(V1HPC_combo.r_groups.unique())"
   ]
  },
  {
   "cell_type": "markdown",
   "metadata": {},
   "source": [
    "# New column that's depth in brain, not on probe"
   ]
  },
  {
   "cell_type": "code",
   "execution_count": null,
   "metadata": {},
   "outputs": [],
   "source": []
  },
  {
   "cell_type": "code",
   "execution_count": null,
   "metadata": {},
   "outputs": [],
   "source": []
  },
  {
   "cell_type": "code",
   "execution_count": null,
   "metadata": {},
   "outputs": [],
   "source": []
  },
  {
   "cell_type": "markdown",
   "metadata": {},
   "source": [
    "# Histogram of the depth for each r_group"
   ]
  },
  {
   "cell_type": "code",
   "execution_count": null,
   "metadata": {},
   "outputs": [],
   "source": [
    "V1.head(2)"
   ]
  },
  {
   "cell_type": "code",
   "execution_count": null,
   "metadata": {},
   "outputs": [],
   "source": [
    "to_plot = 0\n",
    "pathway = r'C:\\Users\\AChub_Lab\\Desktop\\zimmer94\\Data_Analysis\\Multi_brain_regions\\saved_figs\\depth'\n",
    "\n",
    "for i in np.sort(V1.r_groups.unique()): #make new plot for each r_group from the clustering algorithm above\n",
    "    f, ax = plt.subplots(1,2, sharex=False, sharey=False, figsize = (15,3))\n",
    "    ax = ax.ravel()\n",
    "    # cbar_ax = f.add_axes([.91, .55, .02, .30])\n",
    "    sns.set_style(\"ticks\")\n",
    "    \n",
    "    g1 = sns.heatmap(V1[V1.r_groups==i].pivot_table(index=['cuid'], columns=['times'], values=['zscore']),\n",
    "                     cmap = 'jet', ax = ax[0], xticklabels=50, yticklabels=False,\n",
    "                     vmax=5, center=2, vmin=-1, robust=True, cbar_kws=dict(ticks=[-1,0,1,2,3,4,5]))\n",
    "    ax[0].set(xlabel='Time (s)', ylabel=len(V1[V1.r_groups==i]['cuid'].unique()))\n",
    "    ax[0].set_xticklabels(np.arange(0,3,0.5), rotation=0)\n",
    "    ax[0].set_title('group ' + str(i), loc = 'center')\n",
    "        \n",
    "    g2 = sns.lineplot(x = 'times', y = 'ztc', estimator = 'mean', data = V1[V1.r_groups==i], \n",
    "                      color = 'grey', ax=ax[1], ci=None)\n",
    "    ax[1].set(xlabel='Time (s)', ylabel='ztc')\n",
    "    ax[1].set_title('group ' + str (i), loc = 'center')\n",
    "    ax[1].axhline(y=0, color='k', linestyle=\"--\", linewidth=1.0, alpha=0.75)\n",
    "    ax[1].xaxis.set_major_locator(MaxNLocator(7))\n",
    "    ax[1].tick_params(axis='x', labelrotation=0)\n",
    "    ax[1].set_xticks([0,0.5,1,1.5,2,2.5,3])\n",
    "    ax[1].yaxis.set_major_locator(MaxNLocator(3))\n",
    "    \n",
    "#     if to_plot == 1:\n",
    "#         fig_title = str('v1_rg'+str(i)+'.pdf')\n",
    "#         out_title = pathway+'\\\\'+fig_title\n",
    "#         plt.savefig(out_title, transparent=True)\n",
    "    \n",
    "    plt.show()"
   ]
  },
  {
   "cell_type": "code",
   "execution_count": null,
   "metadata": {},
   "outputs": [],
   "source": [
    "v1_rg = np.sort(V1.r_groups.unique())\n",
    "\n",
    "for r_group in v1_rg:\n",
    "    print(r_group)\n",
    "    "
   ]
  },
  {
   "cell_type": "code",
   "execution_count": null,
   "metadata": {},
   "outputs": [],
   "source": []
  },
  {
   "cell_type": "code",
   "execution_count": null,
   "metadata": {},
   "outputs": [],
   "source": [
    "test_rg = V1[(V1['r_groups']==0)&(V1['times']==0.00)]\n",
    "test_rg.shape"
   ]
  },
  {
   "cell_type": "code",
   "execution_count": null,
   "metadata": {},
   "outputs": [],
   "source": [
    "test_rg.head()"
   ]
  },
  {
   "cell_type": "code",
   "execution_count": null,
   "metadata": {},
   "outputs": [],
   "source": [
    "test_rg['insert'] = abs(test_rg['depth']-3100)\n",
    "\n",
    "test_rg.head()"
   ]
  },
  {
   "cell_type": "code",
   "execution_count": null,
   "metadata": {},
   "outputs": [],
   "source": []
  },
  {
   "cell_type": "code",
   "execution_count": null,
   "metadata": {},
   "outputs": [],
   "source": [
    "sns.histplot(data=test_rg, x='insert', binwidth=100)"
   ]
  },
  {
   "cell_type": "code",
   "execution_count": null,
   "metadata": {},
   "outputs": [],
   "source": []
  },
  {
   "cell_type": "code",
   "execution_count": null,
   "metadata": {},
   "outputs": [],
   "source": []
  }
 ],
 "metadata": {
  "kernelspec": {
   "display_name": "Python 3",
   "language": "python",
   "name": "python3"
  },
  "language_info": {
   "codemirror_mode": {
    "name": "ipython",
    "version": 3
   },
   "file_extension": ".py",
   "mimetype": "text/x-python",
   "name": "python",
   "nbconvert_exporter": "python",
   "pygments_lexer": "ipython3",
   "version": "3.8.10"
  }
 },
 "nbformat": 4,
 "nbformat_minor": 4
}
