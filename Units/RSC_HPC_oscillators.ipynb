{
 "cells": [
  {
   "cell_type": "code",
   "execution_count": 1,
   "id": "8cb74558-57be-47a8-9ca1-a0231ff8a88d",
   "metadata": {},
   "outputs": [],
   "source": [
    "import numpy as np\n",
    "import matplotlib as mpl\n",
    "from matplotlib import pyplot as plt\n",
    "from sklearn.metrics import auc\n",
    "import pandas as pd\n",
    "import random\n",
    "import seaborn as sns\n",
    "import pickle as pkl\n",
    "\n",
    "# import ephys_unit_analysis as ena\n",
    "import mz_ephys_unit_analysis as mz_ena\n",
    "import mz_unit_dur_freq as mz_udf"
   ]
  },
  {
   "cell_type": "code",
   "execution_count": 2,
   "id": "1cb43372-7b2b-4cb3-99b3-2208b6655353",
   "metadata": {},
   "outputs": [],
   "source": [
    "sp_dims = (12, 4) #(width, height)\n",
    "v_max, v_min = 5, -1\n",
    "xvalues = np.arange(start=0.4, stop=1.7, step=0.2)\n",
    "y_max, y_min = 6, -2"
   ]
  },
  {
   "cell_type": "markdown",
   "id": "254b502d-f89d-42a9-8045-56014edbe28a",
   "metadata": {},
   "source": [
    "---"
   ]
  },
  {
   "cell_type": "code",
   "execution_count": 3,
   "id": "9e4d913b-e9b2-49c6-bf4f-4b19822718b5",
   "metadata": {},
   "outputs": [],
   "source": [
    "# paired_rec = 'rsc'\n",
    "paired_rec = 'hpc'\n",
    "\n",
    "# v1LGN_spk = pd.read_pickle(r\"C:\\Users\\AChub_Lab\\Desktop\\DIA_CQuinn\\V1LGN_spks_CQuinn.pkl\")\n",
    "# v1LGN_psth = pd.read_hdf(r\"U:\\Papers\\D&P Osc in Mouse Vis Sys\\Data Analysis\\Units\\V1_LGN\\V1_LGN_PSTH_Final.hdf5\")\n",
    "# v1LP_spk = pd.read_pickle(r\"C:\\Users\\AChub_Lab\\Desktop\\DIA_CQuinn\\V1LP_spks_CQuinn.pkl\")\n",
    "# v1LP_psth = pd.read_hdf('u:/Papers/D&P Osc in Mouse Vis Sys/Data Analysis/Units/V1_LP/LP_PSTH_remLT_300sps_remGT-0o10ampWF_LP_GUI.hdf5')\n",
    "\n",
    "if paired_rec == 'rsc':\n",
    "    # v1other_spk = pd.read_pickle(r\"C:\\Users\\AChub_Lab\\Desktop\\DIA_CQuinn\\V1RSC_spks_CQuinn.pkl\")\n",
    "    v1other_psth = pd.read_hdf('u:/Papers/D&P Osc in Mouse Vis Sys/Data Analysis/Units/V1_RSC/V1_RSC_2kmeans_PSTH_GUI_mapped_sliced.hdf5')\n",
    "elif paired_rec == 'hpc':\n",
    "    # v1other_spk = pd.read_pickle(r\"C:\\Users\\AChub_Lab\\Desktop\\DIA_CQuinn\\V1HPC_spks_CQuinn.pkl\")\n",
    "    v1other_psth = pd.read_pickle(r\"U:\\Papers\\D&P Osc in Mouse Vis Sys\\New Submission\\RESUBMISSION\\dataFrames\\V1HPC_psth.pkl\")\n",
    "# v1other_psth.head()"
   ]
  },
  {
   "cell_type": "code",
   "execution_count": 5,
   "id": "8222fff4-39a9-46d5-afa1-b8fa073eb4e1",
   "metadata": {},
   "outputs": [],
   "source": [
    "vr_resp_df = v1other_psth[v1other_psth.r_group_type == 'excited']\n",
    "\n",
    "if paired_rec == 'rsc':\n",
    "    vr_1situ = vr_resp_df[(vr_resp_df.condition == 'GroupWTpostG-1-G---GRSC')|(vr_resp_df.condition == 'GroupWTpostG-1-G---GV1')]\n",
    "elif paired_rec == 'hpc':\n",
    "    vr_1situ = vr_resp_df[vr_resp_df.stim == 'post']"
   ]
  },
  {
   "cell_type": "code",
   "execution_count": null,
   "id": "91647455-c6ed-4c38-a3cf-f17d73dbdcea",
   "metadata": {},
   "outputs": [],
   "source": [
    "if paired_rec == 'rsc':\n",
    "    group_A_df = vr_1situ[vr_1situ['location'] == 'V1']\n",
    "    group_B_df = vr_1situ[vr_1situ['location'] == 'RSC']\n",
    "elif paired_rec == 'hpc':\n",
    "    group_A_df = vr_1situ[vr_1situ['region'] == 'v1']\n",
    "    group_B_df = vr_1situ[vr_1situ['region'] == 'hippo']\n",
    "\n",
    "A_array = np.array(group_A_df.pivot(index='cuid', columns='times', values='zscore'))\n",
    "print(f'v1: {A_array.shape}') #this is [units x times] and the values are above\n",
    "\n",
    "B_array = np.array(group_B_df.pivot(index='cuid', columns='times', values='zscore'))\n",
    "print(f'hpc: {B_array.shape}') #this is [units x times] and the values are above"
   ]
  },
  {
   "cell_type": "code",
   "execution_count": 7,
   "id": "e8afbe82-8a8c-4f92-b283-a9f779554cf3",
   "metadata": {},
   "outputs": [],
   "source": [
    "#--------------------------------------------------------------------------------\n",
    "if paired_rec == 'rsc':\n",
    "    num_cycles_required = 4\n",
    "elif paired_rec == 'hpc':\n",
    "    num_cycles_required = 3\n",
    "#--------------------------------------------------------------------------------\n",
    "\n",
    "durationA, indA, cuidA_ls, include_cuidA = [], [], [], []\n",
    "for unit in range(A_array.shape[0]):\n",
    "    yy = A_array[unit]\n",
    "    dur, peak_ind = mz_udf._duration_peaks_unit(yy)\n",
    "    if len(peak_ind) >= num_cycles_required:\n",
    "        durationA.append(dur)\n",
    "        indA.append(peak_ind)\n",
    "        cuidA_ls.append(yy)\n",
    "        include_cuidA.append(True)\n",
    "    else:\n",
    "        include_cuidA.append(False)\n",
    "\n",
    "durationB, indB, cuidB_ls, include_cuidB = [], [], [], []\n",
    "for unit in range(B_array.shape[0]):\n",
    "    yy = B_array[unit]\n",
    "    dur, peak_ind = mz_udf._duration_peaks_unit(yy)\n",
    "    if len(peak_ind) >= num_cycles_required:\n",
    "        durationB.append(dur)\n",
    "        indB.append(peak_ind)\n",
    "        cuidB_ls.append(yy)\n",
    "        include_cuidB.append(True)\n",
    "    else:\n",
    "        include_cuidB.append(False)\n",
    "\n",
    "indA_array = np.concatenate(indA, axis=0)\n",
    "indB_array = np.concatenate(indB, axis=0)\n",
    "cuidA_arr = np.array(cuidA_ls)\n",
    "cuidB_arr = np.array(cuidB_ls)"
   ]
  },
  {
   "cell_type": "code",
   "execution_count": null,
   "id": "a81ad5ed-782c-43b7-a0dd-a11c5c611650",
   "metadata": {},
   "outputs": [],
   "source": [
    "f, (ax1, ax2) = plt.subplots(1,2, sharex='col', figsize=(10,3))\n",
    "f.tight_layout()\n",
    "# plt.suptitle(f'{stim_choice} 3 cycles')\n",
    "\n",
    "# Heatmap for A\n",
    "sns.heatmap(cuidA_arr, \n",
    "            cmap = 'afmhot', xticklabels=20, yticklabels=False, \n",
    "            vmax=v_max, center = 2, vmin = v_min, robust = True, ax=ax1)\n",
    "ax1.set_ylabel(str(cuidA_arr.shape[0]))\n",
    "ax1.set_title('V1')\n",
    "\n",
    "#Heatmap for B\n",
    "sns.heatmap(cuidB_arr, cmap = 'afmhot', xticklabels=20, yticklabels=False, vmax=v_max, center = 2, vmin = v_min, robust = True, ax=ax2)\n",
    "ax2.set_ylabel(str(cuidB_arr.shape[0]))\n",
    "ax2.set_title(paired_rec)\n",
    "\n",
    "plt.show()"
   ]
  },
  {
   "cell_type": "code",
   "execution_count": 10,
   "id": "2c38a508-29cb-4eea-8335-994e1629045b",
   "metadata": {},
   "outputs": [],
   "source": [
    "#get the cuid for the above units somehow..."
   ]
  },
  {
   "cell_type": "code",
   "execution_count": null,
   "id": "262555b3-5307-4ca2-a35d-d68e10a613ec",
   "metadata": {},
   "outputs": [],
   "source": [
    "print(f'{include_cuidA.count(True)} out of {len(include_cuidA)} V1 units')\n",
    "print(f'{include_cuidB.count(True)} out of {len(include_cuidB)} {paired_rec} units')"
   ]
  },
  {
   "cell_type": "code",
   "execution_count": null,
   "id": "4d836482-eb72-4ba0-93e3-4e67bbf695c0",
   "metadata": {},
   "outputs": [],
   "source": [
    "resA = [ele for ele in include_cuidA for i in range(group_A_df.times.nunique())]\n",
    "resB = [ele for ele in include_cuidB for i in range(group_B_df.times.nunique())]\n",
    "\n",
    "group_A_df['has_cycles'] = resA\n",
    "group_B_df['has_cycles'] = resB"
   ]
  },
  {
   "cell_type": "code",
   "execution_count": null,
   "id": "7ab3cb94-3200-4f6b-ad2d-6c8caf3292d3",
   "metadata": {},
   "outputs": [],
   "source": [
    "#get the list of cuid for each brain region that has_cycles=True\n",
    "\n",
    "V1_units_cycling = list(group_A_df[group_A_df.has_cycles == True]['cuid'].unique())\n",
    "BR_units_cycling = list(group_B_df[group_B_df.has_cycles == True]['cuid'].unique())\n",
    "\n",
    "all_units_cycling = {'V1':V1_units_cycling, 'Other':BR_units_cycling}\n",
    "\n",
    "print(len(V1_units_cycling), len(BR_units_cycling))"
   ]
  },
  {
   "cell_type": "code",
   "execution_count": null,
   "id": "da8050e2-713d-4d48-82c8-96fc4e703628",
   "metadata": {},
   "outputs": [],
   "source": [
    "print(len(all_units_cycling['V1']), len(all_units_cycling['Other']))"
   ]
  },
  {
   "cell_type": "code",
   "execution_count": 145,
   "id": "5493189c-dbe5-421e-a420-0284a9e6b096",
   "metadata": {},
   "outputs": [],
   "source": [
    "# save all_units cycling list to a csv and send to C.Quinn\n",
    "\n",
    "save_path = r'C:\\Users\\AChub_Lab\\Desktop\\V1HPC_cycling_units.pkl'\n",
    "\n",
    "with open(save_path, 'wb') as f:\n",
    "    pkl.dump(all_units_cycling, f)"
   ]
  },
  {
   "cell_type": "code",
   "execution_count": null,
   "id": "b7c7ea22-bf06-4e44-9376-8f699c082cc3",
   "metadata": {},
   "outputs": [],
   "source": []
  },
  {
   "cell_type": "code",
   "execution_count": null,
   "id": "34da6b2c-6646-4743-8c3d-5f9e7fa76c5b",
   "metadata": {},
   "outputs": [],
   "source": []
  },
  {
   "cell_type": "code",
   "execution_count": null,
   "id": "5e7601fb-e849-442c-ac10-91a30181a089",
   "metadata": {},
   "outputs": [],
   "source": []
  },
  {
   "cell_type": "code",
   "execution_count": null,
   "id": "2c00d18d-6693-4d74-82ff-f2731da22d94",
   "metadata": {},
   "outputs": [],
   "source": []
  }
 ],
 "metadata": {
  "kernelspec": {
   "display_name": "Python 3 (ipykernel)",
   "language": "python",
   "name": "python3"
  },
  "language_info": {
   "codemirror_mode": {
    "name": "ipython",
    "version": 3
   },
   "file_extension": ".py",
   "mimetype": "text/x-python",
   "name": "python",
   "nbconvert_exporter": "python",
   "pygments_lexer": "ipython3",
   "version": "3.10.13"
  }
 },
 "nbformat": 4,
 "nbformat_minor": 5
}
