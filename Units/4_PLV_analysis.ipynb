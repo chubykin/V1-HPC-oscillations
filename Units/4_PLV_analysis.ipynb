{
 "cells": [
  {
   "cell_type": "code",
   "execution_count": 2,
   "metadata": {},
   "outputs": [
    {
     "data": {
      "text/plain": [
       "<Figure size 432x288 with 0 Axes>"
      ]
     },
     "metadata": {},
     "output_type": "display_data"
    }
   ],
   "source": [
    "from __future__ import division\n",
    "import pandas as pd\n",
    "import numpy as np\n",
    "import time\n",
    "from datetime import datetime\n",
    "import matplotlib.pyplot as plt\n",
    "import matplotlib as mpl\n",
    "from matplotlib.ticker import MaxNLocator\n",
    "\n",
    "from matplotlib.ticker import FormatStrFormatter\n",
    "\n",
    "import scipy.stats as sstat\n",
    "import scipy.signal as ssig\n",
    "import h5py\n",
    "from mpl_toolkits.mplot3d import Axes3D\n",
    "import os\n",
    "from sklearn import preprocessing\n",
    "from sklearn.cluster import KMeans\n",
    "from sklearn.decomposition import PCA as sklearnPCA\n",
    "import re\n",
    "\n",
    "# import ephys_unit_analysis as ena\n",
    "import mz_ephys_unit_analysis as mz_ena\n",
    "\n",
    "#import resampy\n",
    "import fnmatch\n",
    "import seaborn as sns\n",
    "%matplotlib inline\n",
    "%load_ext autoreload\n",
    "%autoreload 2\n",
    "mpl.rcParams['pdf.fonttype'] = 42 \n",
    "mpl.rcParams['font.sans-serif']=['Arial', 'Helvetica','Bitstream Vera Sans', 'DejaVu Sans', 'Lucida Grande', \n",
    "                                 'Verdana', 'Geneva', 'Lucid', 'Avant Garde', 'sans-serif']  \n",
    "\n",
    "sns.despine()"
   ]
  },
  {
   "cell_type": "code",
   "execution_count": 3,
   "metadata": {},
   "outputs": [],
   "source": [
    "# for publication quality plots\n",
    "def set_pub_plots(pal=sns.blend_palette([\"gray\",\"crimson\", 'cyan', 'magenta', 'purple'  ],5)):\n",
    "    sns.set_style(\"white\")\n",
    "    sns.set_palette(pal)\n",
    "    sns.set_context(\"poster\", font_scale=1.5, rc={\"lines.linewidth\": 2.5, \"axes.linewidth\":2.5, 'figure.facecolor': 'white'}) \n",
    "    sns.set_style(\"ticks\", {\"xtick.major.size\": 8, \"ytick.major.size\": 8})\n",
    "    plt.rcParams['axes.linewidth'] = 2.5\n",
    "\n",
    "rc_pub={'font.size': 25, 'axes.labelsize': 25, 'legend.fontsize': 25.0, \n",
    "        'axes.titlesize': 25, 'xtick.labelsize': 25, 'ytick.labelsize': 25, \n",
    "        'axes.linewidth':2.5, 'lines.linewidth': 2.5,\n",
    "        'xtick.color': 'black', 'ytick.color': 'black', 'axes.edgecolor': 'black',\n",
    "        'axes.labelcolor':'black','text.color':'black'}\n",
    "# to restore the defaults, call plt.rcdefaults() \n",
    "\n",
    "set_pub_plots()"
   ]
  },
  {
   "cell_type": "code",
   "execution_count": 4,
   "metadata": {},
   "outputs": [
    {
     "data": {
      "image/png": "[encoded data removed]",
      "text/plain": [
       "<Figure size 288x72 with 1 Axes>"
      ]
     },
     "metadata": {},
     "output_type": "display_data"
    }
   ],
   "source": [
    "pal=sns.blend_palette(['cyan','magenta','grey','crimson'], 4)\n",
    "sns.palplot(pal)\n",
    "sns.set_palette(pal)"
   ]
  },
  {
   "cell_type": "markdown",
   "metadata": {},
   "source": [
    "---"
   ]
  },
  {
   "cell_type": "code",
   "execution_count": 5,
   "metadata": {},
   "outputs": [],
   "source": [
    "def vis_resp_units(final_df, time_window=[0.5, 0.7], z_score=2):\n",
    "        \n",
    "    vis_resp = final_df[(final_df['times'] >= time_window[0]) \n",
    "                       & (final_df['times'] <= time_window[1]) \n",
    "                       & (final_df['zscore'] > z_score)]\n",
    "    \n",
    "    test2 = final_df[final_df.cuid.isin(vis_resp.cuid.unique())]\n",
    "    \n",
    "    return test2\n",
    "    "
   ]
  },
  {
   "cell_type": "markdown",
   "metadata": {},
   "source": [
    "# First, load in the previously saved dataFrame"
   ]
  },
  {
   "cell_type": "code",
   "execution_count": 6,
   "metadata": {},
   "outputs": [
    {
     "name": "stdout",
     "output_type": "stream",
     "text": [
      "Index(['times', 'cuid', 'depth', 'Hz', 'zscore', 'ztc', 'region', 'stim',\n",
      "       'group', 'cc', 'et', 'cluster_id', 'path'],\n",
      "      dtype='object')\n",
      "Index(['times', 'cuid', 'depth', 'Hz', 'zscore', 'ztc', 'region', 'stim',\n",
      "       'group', 'cc', 'et', 'cluster_id', 'path'],\n",
      "      dtype='object')\n",
      "Index(['times', 'cuid', 'depth', 'Hz', 'zscore', 'ztc', 'region', 'stim',\n",
      "       'group', 'cc', 'et', 'cluster_id', 'path'],\n",
      "      dtype='object')\n"
     ]
    }
   ],
   "source": [
    "prepost_df = pd.read_pickle(r\"D:\\mz_Data\\saved_dfs\\Multi_brain_regions\\V1Hip_psth.pkl\")\n",
    "novel_df = pd.read_pickle(r\"D:\\mz_Data\\saved_dfs\\Multi_brain_regions\\V1Hip_novel_psth.pkl\")\n",
    "post2_df = pd.read_pickle(r\"D:\\mz_Data\\saved_dfs\\Multi_brain_regions\\post2_psth.pkl\")\n",
    "\n",
    "print(prepost_df.columns)\n",
    "print(prepost_df.columns)\n",
    "print(post2_df.columns)"
   ]
  },
  {
   "cell_type": "code",
   "execution_count": 7,
   "metadata": {},
   "outputs": [],
   "source": [
    "# combine the pre/post df with the novel df\n",
    "psth_df = pd.concat([prepost_df,novel_df,post2_df])"
   ]
  },
  {
   "cell_type": "code",
   "execution_count": 8,
   "metadata": {},
   "outputs": [
    {
     "name": "stdout",
     "output_type": "stream",
     "text": [
      "['et3112' 'et311' 'et323' 'et3232' 'et3832' 'et383' 'CC067489HP2'\n",
      " 'CC067489HP3' 'CC082260HP2' 'CC082260HP3' 'CC082260HP4' 'CC082263HP1'\n",
      " 'CC082263HP2' 'CC082263HP3' 'CC084621HP1' 'CC084621HP2' 'et1' 'et2'\n",
      " 'et10' 'et20' 'et200' 'et30' 'et3']\n",
      "['wt']\n",
      "['v1' 'thal' 'hippo' 'none']\n",
      "['post' 'pre' 'novel']\n"
     ]
    }
   ],
   "source": [
    "print(psth_df.et.unique())\n",
    "print(psth_df.group.unique())\n",
    "print(psth_df.region.unique())\n",
    "print(psth_df.stim.unique())"
   ]
  },
  {
   "cell_type": "markdown",
   "metadata": {},
   "source": [
    "---"
   ]
  },
  {
   "cell_type": "markdown",
   "metadata": {},
   "source": [
    "### Determine the number of mice in each situation"
   ]
  },
  {
   "cell_type": "code",
   "execution_count": 9,
   "metadata": {},
   "outputs": [
    {
     "name": "stdout",
     "output_type": "stream",
     "text": [
      "pre\n",
      "v1\n",
      "3\n",
      "hippo\n",
      "3\n",
      "~~~~~~~~~~\n",
      "post\n",
      "v1\n",
      "13\n",
      "hippo\n",
      "13\n",
      "~~~~~~~~~~\n",
      "novel\n",
      "v1\n",
      "10\n",
      "hippo\n",
      "10\n",
      "~~~~~~~~~~\n"
     ]
    }
   ],
   "source": [
    "stim_list = ['pre', 'post', 'novel']\n",
    "region_ls = ['v1', 'hippo']\n",
    "\n",
    "for stim in stim_list:\n",
    "    foo1 = psth_df[psth_df['stim'] == stim]\n",
    "    print(stim)\n",
    "    for reg in region_ls:\n",
    "        foo2 = foo1[foo1['region'] == reg]\n",
    "        print(reg)\n",
    "        print(foo2.et.nunique())\n",
    "    print('~~~~~~~~~~')"
   ]
  },
  {
   "cell_type": "markdown",
   "metadata": {},
   "source": [
    "# Selecting only the visually responsive units"
   ]
  },
  {
   "cell_type": "code",
   "execution_count": 10,
   "metadata": {},
   "outputs": [],
   "source": [
    "\n",
    "\n",
    "stim_cond = 'post'   #(pre, post, novel)\n",
    "is_sorted = 'yes'    #(yes, no)\n",
    "\n"
   ]
  },
  {
   "cell_type": "code",
   "execution_count": 11,
   "metadata": {},
   "outputs": [
    {
     "data": {
      "text/html": [
       "<div>\n",
       "<style scoped>\n",
       "    .dataframe tbody tr th:only-of-type {\n",
       "        vertical-align: middle;\n",
       "    }\n",
       "\n",
       "    .dataframe tbody tr th {\n",
       "        vertical-align: top;\n",
       "    }\n",
       "\n",
       "    .dataframe thead th {\n",
       "        text-align: right;\n",
       "    }\n",
       "</style>\n",
       "<table border=\"1\" class=\"dataframe\">\n",
       "  <thead>\n",
       "    <tr style=\"text-align: right;\">\n",
       "      <th></th>\n",
       "      <th>times</th>\n",
       "      <th>cuid</th>\n",
       "      <th>depth</th>\n",
       "      <th>Hz</th>\n",
       "      <th>zscore</th>\n",
       "      <th>ztc</th>\n",
       "      <th>region</th>\n",
       "      <th>stim</th>\n",
       "      <th>group</th>\n",
       "      <th>cc</th>\n",
       "      <th>et</th>\n",
       "      <th>cluster_id</th>\n",
       "      <th>path</th>\n",
       "    </tr>\n",
       "  </thead>\n",
       "  <tbody>\n",
       "    <tr>\n",
       "      <th>0</th>\n",
       "      <td>0.00</td>\n",
       "      <td>et3112_382</td>\n",
       "      <td>2120</td>\n",
       "      <td>1.514323</td>\n",
       "      <td>-0.347742</td>\n",
       "      <td>-2.023831</td>\n",
       "      <td>v1</td>\n",
       "      <td>post</td>\n",
       "      <td>wt</td>\n",
       "      <td>cc033659</td>\n",
       "      <td>et3112</td>\n",
       "      <td>382</td>\n",
       "      <td>G:\\Neuropixels\\HDAC_recordings\\pre_post_traini...</td>\n",
       "    </tr>\n",
       "    <tr>\n",
       "      <th>1</th>\n",
       "      <td>0.01</td>\n",
       "      <td>et3112_382</td>\n",
       "      <td>2120</td>\n",
       "      <td>1.769252</td>\n",
       "      <td>-0.276281</td>\n",
       "      <td>-1.647771</td>\n",
       "      <td>v1</td>\n",
       "      <td>post</td>\n",
       "      <td>wt</td>\n",
       "      <td>cc033659</td>\n",
       "      <td>et3112</td>\n",
       "      <td>382</td>\n",
       "      <td>G:\\Neuropixels\\HDAC_recordings\\pre_post_traini...</td>\n",
       "    </tr>\n",
       "  </tbody>\n",
       "</table>\n",
       "</div>"
      ],
      "text/plain": [
       "   times        cuid  depth        Hz    zscore       ztc region  stim group  \\\n",
       "0   0.00  et3112_382   2120  1.514323 -0.347742 -2.023831     v1  post    wt   \n",
       "1   0.01  et3112_382   2120  1.769252 -0.276281 -1.647771     v1  post    wt   \n",
       "\n",
       "         cc      et  cluster_id  \\\n",
       "0  cc033659  et3112         382   \n",
       "1  cc033659  et3112         382   \n",
       "\n",
       "                                                path  \n",
       "0  G:\\Neuropixels\\HDAC_recordings\\pre_post_traini...  \n",
       "1  G:\\Neuropixels\\HDAC_recordings\\pre_post_traini...  "
      ]
     },
     "execution_count": 11,
     "metadata": {},
     "output_type": "execute_result"
    }
   ],
   "source": [
    "if stim_cond == 'pre':\n",
    "    vis_resp_df = vis_resp_units(psth_df, z_score=1.5)\n",
    "elif stim_cond == 'post':\n",
    "    vis_resp_df = vis_resp_units(psth_df, z_score=1.5)\n",
    "elif stim_cond == 'novel':\n",
    "    vis_resp_df = vis_resp_units(psth_df, z_score=2)\n",
    "\n",
    "vis_resp_df.head(2)"
   ]
  },
  {
   "cell_type": "markdown",
   "metadata": {},
   "source": [
    "# Quantify PLV for the V1-HPC relation"
   ]
  },
  {
   "cell_type": "code",
   "execution_count": 13,
   "metadata": {},
   "outputs": [],
   "source": [
    "import numpy as np\n",
    "import scipy.signal as sig\n",
    "\n",
    "def hilphase(y1,y2):\n",
    "    sig1_hill=sig.hilbert(y1)\n",
    "    sig2_hill=sig.hilbert(y2)\n",
    "    pdt=(np.inner(sig1_hill,np.conj(sig2_hill))/(np.sqrt(np.inner(sig1_hill,\n",
    "               np.conj(sig1_hill))*np.inner(sig2_hill,np.conj(sig2_hill)))))\n",
    "    phase = np.angle(pdt)\n",
    "    return phase\n",
    "\n",
    "def PLV_row(fixed_arr, ls_other_arrs):\n",
    "    spot1 = hilphase(fixed_arr, ls_other_arrs[0])\n",
    "    spot2 = hilphase(fixed_arr, ls_other_arrs[1])\n",
    "#     spot3 = hilphase(fixed_arr, ls_other_arrs[2])\n",
    "    out_arr = np.append(spot1, spot2)\n",
    "    return out_arr"
   ]
  },
  {
   "cell_type": "code",
   "execution_count": 16,
   "metadata": {},
   "outputs": [],
   "source": [
    "one_stim_df = vis_resp_df[vis_resp_df['stim'] == stim_cond]\n",
    "V1 = one_stim_df[one_stim_df['region'] == 'v1']\n",
    "Hippo = one_stim_df[one_stim_df['region'] == 'hippo']"
   ]
  },
  {
   "cell_type": "code",
   "execution_count": 18,
   "metadata": {},
   "outputs": [],
   "source": [
    "v1_hm = V1.pivot('cuid', 'times', 'zscore')\n",
    "hip_hm = Hippo.pivot('cuid', 'times', 'zscore')\n",
    "\n",
    "mean_v1 = v1_hm.mean(axis=0)\n",
    "mean_hip = hip_hm.mean(axis=0)"
   ]
  },
  {
   "cell_type": "code",
   "execution_count": 36,
   "metadata": {},
   "outputs": [],
   "source": [
    "v1_row = PLV_row(mean_v1, [mean_v1,mean_hip])\n",
    "hip_row = PLV_row(mean_hip, [mean_v1,mean_hip])\n",
    "\n",
    "all_regions_PLV = np.vstack((v1_row,hip_row)) #probably should take the abs() of this?\n",
    "all_regions_PLV"
   ]
  },
  {
   "cell_type": "code",
   "execution_count": 64,
   "metadata": {},
   "outputs": [
    {
     "data": {
      "image/png": "[encoded data removed]",
      "text/plain": [
       "<Figure size 432x288 with 2 Axes>"
      ]
     },
     "metadata": {},
     "output_type": "display_data"
    }
   ],
   "source": [
    "sns.heatmap(all_regions_PLV, \n",
    "            center=0, vmin=-0.5, vmax=0.5, annot=True,\n",
    "            xticklabels=['V1','HPC'], \n",
    "            yticklabels=['V1','HPC'])\n",
    "plt.title('PLV between regions')\n",
    "\n",
    "plt.show()"
   ]
  },
  {
   "cell_type": "code",
   "execution_count": null,
   "metadata": {},
   "outputs": [],
   "source": []
  }
 ],
 "metadata": {
  "kernelspec": {
   "display_name": "Python 3",
   "language": "python",
   "name": "python3"
  },
  "language_info": {
   "codemirror_mode": {
    "name": "ipython",
    "version": 3
   },
   "file_extension": ".py",
   "mimetype": "text/x-python",
   "name": "python",
   "nbconvert_exporter": "python",
   "pygments_lexer": "ipython3",
   "version": "3.8.10"
  }
 },
 "nbformat": 4,
 "nbformat_minor": 4
}
