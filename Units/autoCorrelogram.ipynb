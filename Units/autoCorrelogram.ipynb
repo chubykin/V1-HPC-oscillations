{
 "cells": [
  {
   "cell_type": "code",
   "execution_count": 2,
   "id": "edd9cab6-efe3-4179-92f1-e578ad2b221a",
   "metadata": {},
   "outputs": [],
   "source": [
    "import numpy as np\n",
    "import matplotlib as mpl\n",
    "from matplotlib import pyplot as plt\n",
    "import pandas as pd\n",
    "import random\n",
    "import seaborn as sns"
   ]
  },
  {
   "cell_type": "code",
   "execution_count": 3,
   "id": "e1d0da82-b8e8-41b5-a64c-10d0e79eb323",
   "metadata": {},
   "outputs": [],
   "source": [
    "mpl.rcParams['pdf.fonttype'] = 42 \n",
    "mpl.rcParams['font.sans-serif']=['Arial', 'Helvetica','Bitstream Vera Sans', 'DejaVu Sans', 'Lucida Grande', \n",
    "                                 'Verdana', 'Geneva', 'Lucid', 'Avant Garde', 'sans-serif'] \n",
    "\n",
    "rc_pub={'font.size': 20, 'axes.labelsize': 20, 'legend.fontsize': 20, \n",
    "        'axes.titlesize': 25, 'xtick.labelsize': 20, 'ytick.labelsize': 20, \n",
    "        'axes.linewidth':1.5, 'lines.linewidth': 2.0,\n",
    "        'xtick.color': 'black', 'ytick.color': 'black', 'axes.edgecolor': 'black',\n",
    "        'axes.labelcolor':'black','text.color':'black'}\n",
    "\n",
    "# for publication quality plots\n",
    "def set_pub_plots(pal=sns.blend_palette(['cyan', 'magenta','gray','crimson','purple'], 5)):\n",
    "    sns.set_style(\"white\")\n",
    "    sns.set_palette(pal)\n",
    "    sns.set_context(\"poster\", font_scale=1.5, rc=rc_pub)\n",
    "    sns.set_style(\"ticks\", {\"xtick.major.size\": 5, \"ytick.major.size\": 5})\n",
    "\n",
    "# to restore the defaults, call plt.rcdefaults() \n",
    "set_pub_plots()"
   ]
  },
  {
   "cell_type": "markdown",
   "id": "45ec72d0-d095-4d2f-bd75-3008fa24f963",
   "metadata": {},
   "source": [
    "# Load the data"
   ]
  },
  {
   "cell_type": "code",
   "execution_count": null,
   "id": "0924d965-714a-4df9-b867-8a0bb7debc6a",
   "metadata": {},
   "outputs": [],
   "source": [
    "# v1hpc_spk = pd.read_pickle(r\"C:\\Users\\AChub_Lab\\Desktop\\DIA_CQuinn\\V1LGN_spks_CQuinn.pkl\")\n",
    "# v1hpc_psth = pd.read_hdf(r\"U:\\Papers\\D&P Osc in Mouse Vis Sys\\Data Analysis\\Units\\V1_LGN\\V1_LGN_PSTH_Final.hdf5\")\n",
    "\n",
    "# v1hpc_spk = pd.read_pickle(r\"C:\\Users\\AChub_Lab\\Desktop\\DIA_CQuinn\\V1LP_spks_CQuinn.pkl\")\n",
    "# v1hpc_psth = pd.read_hdf('u:/Papers/D&P Osc in Mouse Vis Sys/Data Analysis/Units/V1_LP/LP_PSTH_remLT_300sps_remGT-0o10ampWF_LP_GUI.hdf5')\n",
    "\n",
    "# v1hpc_spk = pd.read_pickle(r\"C:\\Users\\AChub_Lab\\Desktop\\DIA_CQuinn\\V1RSC_spks_CQuinn.pkl\")\n",
    "# v1hpc_psth = pd.read_hdf('u:/Papers/D&P Osc in Mouse Vis Sys/Data Analysis/Units/V1_RSC/V1_RSC_2kmeans_PSTH_GUI_mapped_sliced.hdf5')\n",
    "\n",
    "v1hpc_spk = pd.read_pickle(r\"C:\\Users\\AChub_Lab\\Desktop\\V1HPC_spks_CQuinn.pkl\")\n",
    "v1hpc_osc = pd.read_pickle(r\"C:\\Users\\AChub_Lab\\Desktop\\V1HPC_cycling_units.pkl\")\n",
    "# v1hpc_psth = pd.read_pickle(r\"C:\\Users\\AChub_Lab\\Desktop\\DIA_CQuinn\\V1HPC_psth.pkl\")\n",
    "\n",
    "v1hpc_spk.head()"
   ]
  },
  {
   "cell_type": "code",
   "execution_count": null,
   "id": "07494b58-d47a-4951-9b33-57eeddb611f8",
   "metadata": {},
   "outputs": [],
   "source": []
  },
  {
   "cell_type": "code",
   "execution_count": null,
   "id": "aa0c67c9-64e5-4518-834d-7a242d7a1aba",
   "metadata": {},
   "outputs": [],
   "source": [
    "v1_spk = v1hpc_spk[(v1hpc_spk.region == 'v1') & (v1hpc_spk.stim == 'post')]    #cut to only V1 units post training\n",
    "v1osc_spk = v1_spk[v1_spk['cuid'].isin(v1hpc_osc['V1'])]                       #dataframe of only oscillator units\n",
    "v1nonosc_spk = v1_spk[~v1_spk['cuid'].isin(v1hpc_osc['V1'])]                   #dataframe of non-oscillator units\n",
    "\n",
    "print(v1_spk.cuid.nunique(), v1osc_spk.cuid.nunique(), v1nonosc_spk.cuid.nunique())"
   ]
  },
  {
   "cell_type": "markdown",
   "id": "2d43d591-ac95-4739-ac67-592e7c61c281",
   "metadata": {},
   "source": [
    "---"
   ]
  },
  {
   "cell_type": "code",
   "execution_count": 283,
   "id": "e87fcc18-83b6-4b37-a22e-3513df9651cc",
   "metadata": {},
   "outputs": [],
   "source": [
    "def autocorr(x, lags):\n",
    "    xcorr = np.correlate(x - x.mean(), x - x.mean(), 'full')     # Compute the autocorrelation\n",
    "    xcorr = xcorr[xcorr.size//2:] / xcorr.max()               # Convert to correlation coefficients\n",
    "    return xcorr[:lags+1]                                     # Return only requested lags"
   ]
  },
  {
   "cell_type": "code",
   "execution_count": null,
   "id": "682214af-1842-4e05-afd6-3a49550a5b52",
   "metadata": {
    "scrolled": true
   },
   "outputs": [],
   "source": [
    "num_trials = 15\n",
    "\n",
    "for unit in v1_spk.cuid.unique():\n",
    "    #extract out the spike times for the unit randomly chosen above\n",
    "    osc_unit = v1_spk[(v1_spk.cuid == unit) & (v1_spk.trial < num_trials)]\n",
    "    osc_unit_spk = osc_unit.trial_spikes.values\n",
    "    # osc_unit_spk = osc_unit.spikes.values\n",
    "    \n",
    "    #plot the spike times\n",
    "    fig, ax = plt.subplots(1,2, figsize=(12,2))\n",
    "    ax[0].set_title(unit)\n",
    "    ax[0].plot(osc_unit_spk, np.zeros(len(osc_unit_spk)), 'k.')\n",
    "    ax[0].set_xlabel('Tims (s)')\n",
    "    ax[0].set_yticks(ticks=[-1,0,1])\n",
    "    \n",
    "    # perform autocorrelation\n",
    "    time_bins = np.arange(0, 2.9, 0.05)                         # Define the time bins\n",
    "    Increments, _ = np.histogram(osc_unit_spk, time_bins)   # ... and compute a histogram of the data\n",
    "    ACF = autocorr(Increments, 100)\n",
    "    \n",
    "    #plot the autocorrelation\n",
    "    ax[1].plot(ACF, 'k',)                  # Plot autocorrelation vs lags,\n",
    "    # plt.xlim([0, 100])                 # ... set x-limits\n",
    "    # plt.ylim([-.2, .2])                # ... and y-limits\n",
    "    ax[1].set_xlabel('Lag (ms)')                # ... with axes labeled\n",
    "    ax[1].set_ylabel('Autocorrelation')\n",
    "    ax[1].set_xticks(ticks=[0,20,40,60], labels=[0, int(20/0.05), int(40/0.05), int(60/0.05)])\n",
    "    sns.despine()\n",
    "    plt.show()"
   ]
  },
  {
   "cell_type": "markdown",
   "id": "25501338-313a-4728-a6a6-1ff6995e77f2",
   "metadata": {},
   "source": [
    "Good units (maybe oscillating?)\n",
    "- et20_390\n",
    "- et20_397\n",
    "- et323_440\n",
    "- et3832_392\n",
    "- et3232_452\n",
    "\n",
    "OSCILLATORS\n",
    "- et30_442\n",
    "- et30_418\n",
    "\n",
    "NON OSCILLATORS\n",
    "- et10_364"
   ]
  },
  {
   "cell_type": "markdown",
   "id": "3294c1e3-696f-4f0d-a4c5-b75b3c9a4637",
   "metadata": {},
   "source": [
    "---"
   ]
  },
  {
   "cell_type": "code",
   "execution_count": null,
   "id": "27dd5048-4c9a-46a7-956d-c3e839ae6e6a",
   "metadata": {},
   "outputs": [],
   "source": [
    "# THESE ARE TWO GOOD OSCILLATOR UNITS\n",
    "unit_id = 'et30_442'\n",
    "unit_id = 'et30_452'\n",
    "unit_id = 'et30_418'\n",
    "\n",
    "# THESE ARE TWO NON-OSCILLATOR UNITS\n",
    "unit_id = 'et2_471'\n",
    "unit_id = 'et30_364'\n",
    "unit_id = 'et3_361'\n",
    "unit_id = 'et3_379'\n",
    "unit_id = 'et3_391'\n",
    "\n",
    "num_trials = 20\n",
    "\n",
    "#extract out the spike times for the unit randomly chosen above\n",
    "osc_unit = v1_spk[(v1_spk.cuid == unit_id) & (v1_spk.trial < num_trials)]\n",
    "osc_unit_spk = osc_unit.trial_spikes.values\n",
    "\n",
    "# perform autocorrelation\n",
    "time_bins = np.arange(0, 2.9, 0.05)                         # Define the time bins\n",
    "Increments, _ = np.histogram(osc_unit_spk, time_bins)   # ... and compute a histogram of the data\n",
    "ACF = autocorr(Increments, 100)\n",
    "\n",
    "#plot the autocorrelation\n",
    "plt.axhline(0, color='grey', linestyle='--')\n",
    "plt.plot(ACF, 'k-')                   # Plot autocorrelation vs lags,\n",
    "plt.xlabel('Lag (ms)')                # ... with axes labeled\n",
    "plt.ylabel('Autocorrelation')\n",
    "plt.xticks(ticks=[0,20,40,60], labels=[0, int(20/0.05), int(40/0.05), int(60/0.05)])\n",
    "plt.yticks(ticks=[-0.3,0,0.3,0.6])\n",
    "plt.xlim([0,40])\n",
    "plt.ylim([-0.3,0.65])\n",
    "sns.despine()\n",
    "# Change the end of this next line with a new file name!!\n",
    "plt.savefig(r\"U:\\Papers\\D&P Osc in Mouse Vis Sys\\New Submission\\Figures\\nonosc6_autoCorrelogram.pdf\", transparent=True)\n",
    "plt.show()"
   ]
  },
  {
   "cell_type": "code",
   "execution_count": null,
   "id": "a5c28d5b-2579-48c6-8191-62ded923571d",
   "metadata": {},
   "outputs": [],
   "source": []
  },
  {
   "cell_type": "code",
   "execution_count": null,
   "id": "38c50d56-f5f4-43e9-be49-6eb3c573e5c2",
   "metadata": {},
   "outputs": [],
   "source": []
  }
 ],
 "metadata": {
  "kernelspec": {
   "display_name": "Python 3 (ipykernel)",
   "language": "python",
   "name": "python3"
  },
  "language_info": {
   "codemirror_mode": {
    "name": "ipython",
    "version": 3
   },
   "file_extension": ".py",
   "mimetype": "text/x-python",
   "name": "python",
   "nbconvert_exporter": "python",
   "pygments_lexer": "ipython3",
   "version": "3.10.13"
  }
 },
 "nbformat": 4,
 "nbformat_minor": 5
}
