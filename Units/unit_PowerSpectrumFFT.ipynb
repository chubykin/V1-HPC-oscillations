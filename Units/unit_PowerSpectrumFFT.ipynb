{
 "cells": [
  {
   "cell_type": "code",
   "execution_count": 1,
   "id": "cd190543-7436-423f-87ec-0e98054d0671",
   "metadata": {},
   "outputs": [],
   "source": [
    "import numpy as np\n",
    "import matplotlib as mpl\n",
    "from matplotlib import pyplot as plt\n",
    "from sklearn.metrics import auc\n",
    "import pandas as pd\n",
    "import random\n",
    "import seaborn as sns"
   ]
  },
  {
   "cell_type": "code",
   "execution_count": 2,
   "id": "65deb14b-9265-47f5-b92d-9cf64a47f8d6",
   "metadata": {},
   "outputs": [],
   "source": [
    "mpl.rcParams['pdf.fonttype'] = 42 \n",
    "mpl.rcParams['font.sans-serif']=['Arial', 'Helvetica','Bitstream Vera Sans', 'DejaVu Sans', 'Lucida Grande', \n",
    "                                 'Verdana', 'Geneva', 'Lucid', 'Avant Garde', 'sans-serif'] \n",
    "\n",
    "rc_pub={'font.size': 20, 'axes.labelsize': 20, 'legend.fontsize': 20, \n",
    "        'axes.titlesize': 25, 'xtick.labelsize': 20, 'ytick.labelsize': 20, \n",
    "        'axes.linewidth':1.5, 'lines.linewidth': 2.0,\n",
    "        'xtick.color': 'black', 'ytick.color': 'black', 'axes.edgecolor': 'black',\n",
    "        'axes.labelcolor':'black','text.color':'black'}\n",
    "\n",
    "# for publication quality plots\n",
    "def set_pub_plots(pal=sns.blend_palette(['cyan', 'magenta','gray','crimson','purple'], 5)):\n",
    "    sns.set_style(\"white\")\n",
    "    sns.set_palette(pal)\n",
    "    sns.set_context(\"poster\", font_scale=1.5, rc=rc_pub)\n",
    "    sns.set_style(\"ticks\", {\"xtick.major.size\": 5, \"ytick.major.size\": 5})\n",
    "\n",
    "# to restore the defaults, call plt.rcdefaults() \n",
    "set_pub_plots()"
   ]
  },
  {
   "cell_type": "markdown",
   "id": "b9ed8a0c-aaa6-43f2-82f6-93ef7c51d376",
   "metadata": {},
   "source": [
    "# Load data"
   ]
  },
  {
   "cell_type": "code",
   "execution_count": null,
   "id": "c6fbe6a7-9c20-4ec3-ae78-9536e871d517",
   "metadata": {},
   "outputs": [],
   "source": [
    "# v1hpc_spk = pd.read_pickle(r\"C:\\Users\\AChub_Lab\\Desktop\\DIA_CQuinn\\V1LGN_spks_CQuinn.pkl\")\n",
    "# v1hpc_psth = pd.read_hdf(r\"U:\\Papers\\D&P Osc in Mouse Vis Sys\\Data Analysis\\Units\\V1_LGN\\V1_LGN_PSTH_Final.hdf5\")\n",
    "\n",
    "# v1hpc_spk = pd.read_pickle(r\"C:\\Users\\AChub_Lab\\Desktop\\DIA_CQuinn\\V1LP_spks_CQuinn.pkl\")\n",
    "# v1hpc_psth = pd.read_hdf('u:/Papers/D&P Osc in Mouse Vis Sys/Data Analysis/Units/V1_LP/LP_PSTH_remLT_300sps_remGT-0o10ampWF_LP_GUI.hdf5')\n",
    "\n",
    "v1hpc_spk = pd.read_pickle(r\"C:\\Users\\AChub_Lab\\Desktop\\DIA_CQuinn\\V1RSC_spks_CQuinn.pkl\")\n",
    "v1hpc_psth = pd.read_hdf('u:/Papers/D&P Osc in Mouse Vis Sys/Data Analysis/Units/V1_RSC/V1_RSC_2kmeans_PSTH_GUI_mapped_sliced.hdf5')\n",
    "\n",
    "# v1hpc_spk = pd.read_pickle(r\"C:\\Users\\AChub_Lab\\Desktop\\DIA_CQuinn\\V1HPC_spks_CQuinn.pkl\")\n",
    "# v1hpc_psth = pd.read_pickle(r\"C:\\Users\\AChub_Lab\\Desktop\\DIA_CQuinn\\V1HPC_psth.pkl\")\n",
    "\n",
    "v1hpc_psth.head()"
   ]
  },
  {
   "cell_type": "code",
   "execution_count": 51,
   "id": "32f68e07-54bb-445d-8411-b73a60811270",
   "metadata": {},
   "outputs": [],
   "source": [
    "v1hpc_exc = v1hpc_psth[v1hpc_psth.r_group_type == 'excited']\n",
    "# print(v1hpc_exc.location.unique())\n",
    "# print(v1hpc_exc.condition.unique())\n",
    "# v1hpc_exc.region.unique()"
   ]
  },
  {
   "cell_type": "code",
   "execution_count": 53,
   "id": "0590dd4c-53f7-41ba-b243-6adfcfa75d01",
   "metadata": {},
   "outputs": [],
   "source": [
    "# print(f'V1 units: {v1hpc_exc[v1hpc_exc.region==\"v1\"].cuid.nunique()} --- LGN units: {v1hpc_exc[v1hpc_exc.region==\"LGN\"].cuid.nunique()}')"
   ]
  },
  {
   "cell_type": "markdown",
   "id": "aa49c2ef-208e-417a-8bb2-eaff52cfa4de",
   "metadata": {},
   "source": [
    "# Spectrogram of the zscore of 1 unit"
   ]
  },
  {
   "cell_type": "code",
   "execution_count": 54,
   "id": "5ec09134-2850-4d9d-8de2-69605d76a5fa",
   "metadata": {},
   "outputs": [],
   "source": [
    "def get_unit_fft(unit_df):\n",
    "    unit_arr = unit_df.zscore.values\n",
    "    freq = np.arange(unit_arr.shape[0]) / unit_arr.shape[0] * 100 #*100 bc \n",
    "    freq = freq[:freq.shape[0]//2]\n",
    "    f = np.fft.fft(unit_arr)\n",
    "    magnitude_spectrum = (np.abs(f)[:freq.shape[0]])\n",
    "    return freq, magnitude_spectrum"
   ]
  },
  {
   "cell_type": "code",
   "execution_count": null,
   "id": "edcf1ed7-1ff7-436c-b0aa-f56b1ac9b9db",
   "metadata": {},
   "outputs": [],
   "source": [
    "v1hpc_exc.condition.unique()"
   ]
  },
  {
   "cell_type": "code",
   "execution_count": 114,
   "id": "4feb02d1-92e3-4d73-be41-2a3f728f3fcc",
   "metadata": {},
   "outputs": [],
   "source": [
    "stim_option = 'GroupWTpostG-1-G---GRSC'\n",
    "region_option = 'RSC'\n",
    "\n",
    "# rand_unit = random.choice(v1hpc_exc[(v1hpc_exc['condition']==stim_option)&(v1hpc_exc['location']==region_option)].cuid.unique())\n",
    "# print(rand_unit)\n",
    "\n",
    "# # v1-LGN --- LGN units\n",
    "# if stim_option == 'pre':\n",
    "#     rand_unit = '006ET#L01id46preLGN'\n",
    "#     plt_color = '#1f77b4' #blue\n",
    "# elif stim_option == 'post':\n",
    "#     rand_unit = '018ET#L04id10postLGN'\n",
    "#     plt_color = '#ff7f0e' #orange\n",
    "# else:\n",
    "#     rand_unit = '019ET#L06id60postLGN'\n",
    "#     plt_color = '#2ca02c' #green\n",
    "\n",
    "# # v1-LP --- LP units\n",
    "# if stim_option == 'pre':\n",
    "#     rand_unit = '001ET#010Aid68preLP'\n",
    "#     plt_color = '#1f77b4' #blue\n",
    "# elif stim_option == 'post':\n",
    "#     rand_unit = '001ET#000Aid13postLP'\n",
    "#     plt_color = '#ff7f0e' #orange\n",
    "# else:\n",
    "#     rand_unit = '003ET#006Aid128postLP'\n",
    "#     plt_color = '#2ca02c' #green\n",
    "\n",
    "# v1-RSC --- RSC units\n",
    "# if stim_option == 'pre':\n",
    "#     rand_unit = '001ET#R001id63preRSC'\n",
    "#     plt_color = '#1f77b4' #blue\n",
    "# elif stim_option == 'post':\n",
    "#     rand_unit = '002ET#RB03id102postRSC'\n",
    "#     plt_color = '#ff7f0e' #orange\n",
    "# else:\n",
    "#     rand_unit = '005ET#RB03id32postRSC'\n",
    "#     plt_color = '#2ca02c' #green\n",
    "\n",
    "# v1-HPC --- HPC units\n",
    "# if stim_option == 'pre':\n",
    "#     rand_unit = 'et311_266'\n",
    "#     plt_color = '#1f77b4' #blue\n",
    "# elif stim_option == 'post':\n",
    "#     rand_unit = 'et2_167'\n",
    "#     plt_color = '#ff7f0e' #orange\n",
    "# else:\n",
    "#     rand_unit = 'HP22_329'\n",
    "#     plt_color = '#2ca02c' #green\n",
    "\n",
    "# v1-hpc --- v1 units\n",
    "# if stim_option == 'pre':\n",
    "#     rand_unit = 'et3053_409'\n",
    "#     plt_color = '#1f77b4' #blue\n",
    "# elif stim_option == 'post':\n",
    "#     rand_unit = 'et323_203'\n",
    "#     plt_color = '#ff7f0e' #orange\n",
    "# else:\n",
    "#     rand_unit = 'HP42_462'\n",
    "#     plt_color = '#2ca02c' #green\n",
    "\n",
    "rand_unit = '002ET#RB03id102postRSC'\n",
    "\n",
    "unit_spk = v1hpc_spk[(v1hpc_spk.cuid==rand_unit)&(v1hpc_spk['location']==region_option)&(v1hpc_spk['condition']==stim_option)]\n",
    "unit_df = v1hpc_exc[(v1hpc_exc.cuid==rand_unit)&(v1hpc_exc['location']==region_option)]\n",
    "unit1_fft_freq, unit1_fft_amp = get_unit_fft(unit_df)"
   ]
  },
  {
   "cell_type": "code",
   "execution_count": null,
   "id": "489e1c7f-d0e5-4457-bbdc-b545aa559184",
   "metadata": {},
   "outputs": [],
   "source": [
    "fig, ax = plt.subplots(1,3, figsize=(15,3))\n",
    "ax[1].axvspan(0.5 ,0.7, color='grey', alpha=0.2)\n",
    "ax[1].axhline(y=0, color='k', linestyle=\"--\", linewidth=1.0, alpha=0.75)\n",
    "# ax[2].axvspan(4,8, color='grey', alpha=0.2)\n",
    "\n",
    "#raster plots\n",
    "ax[0].plot(unit_spk.trial_spikes,  unit_spk.trial, '.', ms=8, color='#ff7f0e')\n",
    "# ax[0].set_title(f'{rand_unit} raster - {stim_option}')\n",
    "ax[0].set(xlabel='Time (s)', ylabel='Trial #')\n",
    "ax[0].set_xticks([0,0.5,1.0,1.5,2.0,2.5,3.0])\n",
    "ax[0].set_xticklabels([0,0.5,1.0,1.5,2.0,2.5,3.0])\n",
    "ax[0].set_xlim([0,3])\n",
    "\n",
    "#zscore firing rate\n",
    "sns.lineplot(x = 'times', y = 'zscore', estimator = 'mean', data = unit_df, color='#ff7f0e', ax=ax[1])#, errorbar=None)\n",
    "ax[1].set(xlabel='Time (s)', ylabel='Zscore')\n",
    "# ax[1].set_title(f'1 unit - Zscore - {stim_option}')\n",
    "ax[1].set_xticks([0,0.5,1.0,1.5,2.0,2.5,3.0])\n",
    "ax[1].set_xticklabels([0,0.5,1.0,1.5,2.0,2.5,3.0])\n",
    "ax[1].set_ylim([-1,8])\n",
    "ax[1].set_xlim([0,3])\n",
    "\n",
    "#FFT power spectrum\n",
    "ax[2].plot(unit1_fft_freq, unit1_fft_amp, color=plt_color)\n",
    "# ax[2].set_title(f'1 unit - FFT power - {stim_option}')\n",
    "ax[2].set(xlabel='Frequency (Hz)', ylabel='Amplitude')\n",
    "ax[2].set_xscale('log')\n",
    "ax[2].set_xticks([2,4,8,12,30,50])\n",
    "ax[2].set_xticklabels([2,4,8,12,30,50])\n",
    "ax[2].set_xlim([2,50])\n",
    "ax[2].set_ylim([-2,85])\n",
    "\n",
    "sns.despine()\n",
    "# Change the end of this next line with a new file name!!\n",
    "# plt.savefig(r\"C:\\Users\\AChub_Lab\\Desktop\\DIA_CQuinn\\figure_panels\\HPC_post_1unitRasterZscoreFFT.pdf\", transparent=True)\n",
    "\n",
    "plt.show()"
   ]
  },
  {
   "cell_type": "markdown",
   "id": "e3090bba-7818-403e-8f26-d0d5f2177a5d",
   "metadata": {},
   "source": [
    "## line plots of all units"
   ]
  },
  {
   "cell_type": "code",
   "execution_count": null,
   "id": "5fc0fc69-bf4e-4668-91c8-8fc581b782cf",
   "metadata": {},
   "outputs": [],
   "source": [
    "ALLunitsFFT = []\n",
    "# for c,cc in v1hpc_exc.groupby(['stim','region','cuid']):\n",
    "for c,cc in v1hpc_exc.groupby(['condition','location','et','cuid']):\n",
    "    unit1_fft_freq, unit1_fft_amp = get_unit_fft(cc)\n",
    "    unit1df = pd.DataFrame({'freq':unit1_fft_freq, 'amp':unit1_fft_amp, 'cuid':c[3], 'et':c[2], 'region':c[1], 'stim':c[0]})\n",
    "    ALLunitsFFT.append(unit1df)\n",
    "ALLunitsFFT_df = pd.concat(ALLunitsFFT)\n",
    "ALLunitsFFT_df.head()"
   ]
  },
  {
   "cell_type": "code",
   "execution_count": null,
   "id": "b7ddb815-3ecf-4361-827e-950598e930e0",
   "metadata": {},
   "outputs": [],
   "source": [
    "sns.relplot(x='freq', y='amp', estimator='mean', data=ALLunitsFFT_df, \n",
    "            hue='stim', hue_order=['pre','post','novel'], palette={'pre':'#1f77b4', 'post':'#ff7f0e', 'novel':'#2ca02c'},\n",
    "            col='region', col_order=['v1','hippo'],\n",
    "            kind='line', height=4, aspect=1.5)\n",
    "\n",
    "plt.suptitle('FFT - all units')\n",
    "plt.xlabel('Frequency (Hz)')\n",
    "plt.ylabel('Amplitude')\n",
    "plt.xscale('log')\n",
    "plt.xticks([2,4,8,12,30,50], labels=[2,4,8,12,30,50])\n",
    "plt.xlim([1,50])\n",
    "plt.ylim([-2,80])\n",
    "\n",
    "sns.despine()\n",
    "\n",
    "# Change the end of this next line with a new file name!!\n",
    "# plt.savefig(r\"C:\\Users\\AChub_Lab\\Desktop\\DIA_CQuinn\\figure_panels\\V1HPC_allStim_allUnits_FFTline.pdf\", transparent=True)\n",
    "\n",
    "plt.show()"
   ]
  },
  {
   "cell_type": "markdown",
   "id": "f930c387-b34f-49f3-b9c5-b9779866dd95",
   "metadata": {},
   "source": [
    "# AUC of all units"
   ]
  },
  {
   "cell_type": "code",
   "execution_count": null,
   "id": "a0e6642e-f062-4aeb-a948-dce5f42e3964",
   "metadata": {},
   "outputs": [],
   "source": [
    "v1hpc_exc.head()"
   ]
  },
  {
   "cell_type": "code",
   "execution_count": 81,
   "id": "2ca6fa35-8680-4c1d-b070-4a95d13c0385",
   "metadata": {},
   "outputs": [],
   "source": [
    "unit_auc = []\n",
    "for unit,df in v1hpc_exc.groupby('cuid'):\n",
    "    fft_freq, fft_amp = get_unit_fft(df)\n",
    "    bands = [[2,4],[4,8],[8,12],[12,30],[30,70]]\n",
    "    auc_val,band_val = [],[]\n",
    "    for ran in bands:\n",
    "        lower = fft_freq.searchsorted(ran[0], 'left')\n",
    "        upper = fft_freq.searchsorted(ran[1], 'right') -1\n",
    "        val = auc(fft_freq[lower:upper],fft_amp[lower:upper])\n",
    "        auc_val.append(val)\n",
    "        band_val.append(str(ran))\n",
    "    unit_auc.append(pd.DataFrame({'band': band_val, 'auc': auc_val, 'cuid': unit, \n",
    "                                  'stim': df.stim.unique()[0],\n",
    "                                  'region': df.region.unique()[0], 'et': df.et.unique()[0]}))\n",
    "all_units_auc = pd.concat(unit_auc)\n",
    "# all_units_auc.head()"
   ]
  },
  {
   "cell_type": "code",
   "execution_count": null,
   "id": "9b1d3212-c926-499b-be1d-63f34fa14a17",
   "metadata": {},
   "outputs": [],
   "source": [
    "sns.catplot(data=all_units_auc, x='band', y='auc', kind='bar', \n",
    "            hue='stim', hue_order=['pre','post','novel'], palette={'pre':'#1f77b4', 'post':'#ff7f0e', 'novel':'#2ca02c'},\n",
    "            col='region', col_order=['v1','hippo'], \n",
    "            height=4, aspect=1.5)\n",
    "plt.ylim([0,100])\n",
    "sns.despine()\n",
    "\n",
    "# Change the end of this next line with a new file name!!\n",
    "# plt.savefig(r\"C:\\Users\\AChub_Lab\\Desktop\\DIA_CQuinn\\figure_panels\\V1HPC_allStim_allUnits_FFTaucbar.pdf\", transparent=True)\n",
    "\n",
    "plt.show()"
   ]
  },
  {
   "cell_type": "code",
   "execution_count": null,
   "id": "0e673efe-ea8a-4354-91bc-0602d3e2765f",
   "metadata": {},
   "outputs": [],
   "source": [
    "all_units_auc.stim.unique()"
   ]
  },
  {
   "cell_type": "code",
   "execution_count": 83,
   "id": "628bbbcd-4147-45d0-9e81-81c3898fffcb",
   "metadata": {},
   "outputs": [],
   "source": [
    "# mean across mice, not across unit\n",
    "mouse_prep = []\n",
    "for g,gg in all_units_auc.groupby(['et','stim','band','region']):\n",
    "    mouse_mean = gg.loc[:, 'auc'].mean()\n",
    "    # if (g[1] == 'GroupWTpreG-1-G---GV1') | (g[1] == 'GroupWTpreG-1-G---GRSC'):\n",
    "    #     stim_id = 'pre'\n",
    "    # elif (g[1] == 'GroupWTpostG-1-G---GV1') | (g[1] == 'GroupWTpostG-1-G---GRSC'):\n",
    "    #     stim_id = 'post'\n",
    "    # else:\n",
    "    #     stim_id = 'novel'\n",
    "    mouse_prep.append(pd.DataFrame({'band': [g[2]], 'auc': [mouse_mean], \n",
    "                                  'stim': [g[1]], 'region': [g[3]], 'et': [g[0]]}))\n",
    "all_mice_auc = pd.concat(mouse_prep).sort_values(by='band')"
   ]
  },
  {
   "cell_type": "code",
   "execution_count": null,
   "id": "c731f827-c164-4810-99cf-4260936af2af",
   "metadata": {},
   "outputs": [],
   "source": [
    "sns.catplot(data=all_mice_auc, x='band', y='auc', kind='bar', \n",
    "            hue='stim', hue_order=['pre','post','novel'], palette={'pre':'#1f77b4', 'post':'#ff7f0e', 'novel':'#2ca02c'},\n",
    "            col='region', col_order=['v1','hippo'], \n",
    "            height=4, aspect=1.5)\n",
    "plt.ylim([0,100])\n",
    "sns.despine()\n",
    "\n",
    "# Change the end of this next line with a new file name!!\n",
    "# plt.savefig(r\"C:\\Users\\AChub_Lab\\Desktop\\V1HPC_allStim_perMouse_FFTaucbar.pdf\", transparent=True)\n",
    "\n",
    "plt.show()"
   ]
  },
  {
   "cell_type": "code",
   "execution_count": 38,
   "id": "c9d1906d-9483-4b84-9534-d286ba950e91",
   "metadata": {},
   "outputs": [],
   "source": [
    "import statsmodels.api as sm\n",
    "from statsmodels.formula.api import ols\n",
    "from statsmodels.stats.multicomp import pairwise_tukeyhsd"
   ]
  },
  {
   "cell_type": "code",
   "execution_count": null,
   "id": "f43e0f07-16a5-44e2-9447-1fb8f9d5db73",
   "metadata": {},
   "outputs": [],
   "source": [
    "# run 2-way anova to test for dependence across groups (p<0.05 means there is dependence) (only really care about C(stim):C(band) F-value and p-value)\n",
    "# for st,df in all_units_auc.groupby('region'):\n",
    "for st,df in all_mice_auc.groupby('region'):\n",
    "    print(st)\n",
    "    # print(f'N units: {df.cuid.nunique()} --- N mice: {df.et.nunique()}')\n",
    "    model = ols('auc ~ C(stim) + C(band) +\\\n",
    "             C(stim):C(band)',\n",
    "            data=df).fit()\n",
    "    result = sm.stats.anova_lm(model, type=2)\n",
    "    display(result)"
   ]
  },
  {
   "cell_type": "code",
   "execution_count": null,
   "id": "c7805aab-7ff2-405a-8f72-478ed70ee7c7",
   "metadata": {
    "scrolled": true
   },
   "outputs": [],
   "source": [
    "#tukey HSD to compare pairwise within each band for each region\n",
    "# for st,df in all_units_auc.groupby(['region','band']):\n",
    "for st,df in all_mice_auc.groupby(['region','band']):\n",
    "    print(st)\n",
    "    tukey = pairwise_tukeyhsd(endog=df['auc'], groups=df['stim'], alpha=0.05)\n",
    "    print(tukey)\n",
    "    print(f'pvals: {tukey.pvalues}')\n",
    "    print('\\n')"
   ]
  },
  {
   "cell_type": "code",
   "execution_count": null,
   "id": "652a744d-f1aa-4b16-895a-b107e2b7ad36",
   "metadata": {},
   "outputs": [],
   "source": []
  },
  {
   "cell_type": "code",
   "execution_count": null,
   "id": "643bc6c6-bc07-46c8-aced-1aa42159d7a8",
   "metadata": {},
   "outputs": [],
   "source": []
  },
  {
   "cell_type": "code",
   "execution_count": null,
   "id": "fc624c21-029e-48ba-9364-45d7e9320e02",
   "metadata": {},
   "outputs": [],
   "source": []
  },
  {
   "cell_type": "code",
   "execution_count": null,
   "id": "e79c8b23-4a36-4f3e-b402-6311e6b0de9e",
   "metadata": {},
   "outputs": [],
   "source": []
  },
  {
   "cell_type": "code",
   "execution_count": null,
   "id": "47ed6027-6582-4390-bc20-abc93ea59ccf",
   "metadata": {},
   "outputs": [],
   "source": []
  },
  {
   "cell_type": "code",
   "execution_count": null,
   "id": "ac6a88cb-b388-4a61-a92e-449968648859",
   "metadata": {},
   "outputs": [],
   "source": []
  }
 ],
 "metadata": {
  "kernelspec": {
   "display_name": "Python 3 (ipykernel)",
   "language": "python",
   "name": "python3"
  },
  "language_info": {
   "codemirror_mode": {
    "name": "ipython",
    "version": 3
   },
   "file_extension": ".py",
   "mimetype": "text/x-python",
   "name": "python",
   "nbconvert_exporter": "python",
   "pygments_lexer": "ipython3",
   "version": "3.10.13"
  }
 },
 "nbformat": 4,
 "nbformat_minor": 5
}
