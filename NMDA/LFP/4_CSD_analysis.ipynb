{
 "cells": [
  {
   "cell_type": "code",
   "execution_count": 1,
   "metadata": {},
   "outputs": [],
   "source": [
    "import os\n",
    "import glob\n",
    "import numpy as np\n",
    "import pandas as pd\n",
    "import pickle\n",
    "import matplotlib\n",
    "import matplotlib.pyplot as plt\n",
    "from matplotlib.gridspec import GridSpec\n",
    "import seaborn as sns\n",
    "\n",
    "from scipy.ndimage import gaussian_filter1d\n",
    "\n",
    "from scipy import stats\n",
    "import statsmodels.formula.api as smf\n",
    "\n",
    "# For CSD analysis\n",
    "import Python3_icsd as icsd \n",
    "import scipy.signal as sg\n",
    "import quantities as pq\n",
    "\n",
    "sns.set_context('poster')\n",
    "matplotlib.rcParams['pdf.fonttype'] = 42\n",
    "matplotlib.rcParams['ps.fonttype'] = 42\n",
    "\n",
    "# import Python3_OpenOE_AC_map_functions_v1_08_30s as oem\n",
    "import mz_LFP_functions as mz_LFP\n",
    "\n",
    "%matplotlib inline\n",
    "%load_ext autoreload\n",
    "%autoreload 2"
   ]
  },
  {
   "cell_type": "code",
   "execution_count": 2,
   "metadata": {},
   "outputs": [],
   "source": [
    "# for publication quality plots\n",
    "def set_pub_plots(pal=sns.blend_palette([\"gray\",\"crimson\", 'cyan', 'magenta', 'purple'  ],5)):\n",
    "    sns.set_style(\"white\")\n",
    "    sns.set_palette(pal)\n",
    "    sns.set_context(\"poster\", font_scale=1.5, rc={\"lines.linewidth\": 2.5, \"axes.linewidth\":2.5, 'figure.facecolor': 'white'}) \n",
    "    sns.set_style(\"ticks\", {\"xtick.major.size\": 8, \"ytick.major.size\": 8})\n",
    "    # optional, makes markers bigger, too, axes.linewidth doesn't seem to work\n",
    "    plt.rcParams['axes.linewidth'] = 2.5\n",
    "\n",
    "rc_pub={'font.size': 25, 'axes.labelsize': 25, 'legend.fontsize': 25.0, \n",
    "    'axes.titlesize': 25, 'xtick.labelsize': 25, 'ytick.labelsize': 25, \n",
    "    #'axes.color_cycle':pal, # image.cmap - rewritesd the default colormap\n",
    "    'axes.linewidth':2.5, 'lines.linewidth': 2.5,\n",
    "    'xtick.color': 'black', 'ytick.color': 'black', 'axes.edgecolor': 'black','axes.labelcolor':'black','text.color':'black'}\n",
    "# to restore the defaults, call plt.rcdefaults() \n",
    "\n",
    "#set_pub_bargraphs()\n",
    "set_pub_plots()"
   ]
  },
  {
   "cell_type": "code",
   "execution_count": null,
   "metadata": {},
   "outputs": [],
   "source": [
    "pal=sns.blend_palette(['black','royalblue'],2)\n",
    "sns.palplot(pal)\n",
    "sns.set_palette(pal)"
   ]
  },
  {
   "cell_type": "markdown",
   "metadata": {},
   "source": [
    "---"
   ]
  },
  {
   "cell_type": "markdown",
   "metadata": {},
   "source": [
    "# Load some necessary variables"
   ]
  },
  {
   "cell_type": "code",
   "execution_count": 4,
   "metadata": {},
   "outputs": [],
   "source": [
    "insert_depth = 1000  #change this as appropriate\n",
    "\n",
    "sp_bw_ch = 20/2\n",
    "samples_tr = 7350 #this is based on the shortest #samples in a trial\n",
    "sr = 2500\n",
    "n_chan = 384\n",
    "rec_length = 3.0 #how long is the arduino triggered?"
   ]
  },
  {
   "cell_type": "markdown",
   "metadata": {},
   "source": [
    "---"
   ]
  },
  {
   "cell_type": "markdown",
   "metadata": {},
   "source": [
    "# First, load in the .npy arrays and CC_ls\n",
    "These were creaded and saved using the \"1_saving_LFP_arrays\" jupyter notebook"
   ]
  },
  {
   "cell_type": "code",
   "execution_count": 5,
   "metadata": {},
   "outputs": [],
   "source": [
    "all_pre_arr = np.load(r\"D:\\mz_Data\\saved_dfs\\HPC_nmda\\lfp_npy\\pre_all.npy\")\n",
    "all_post_arr = np.load(r\"D:\\mz_Data\\saved_dfs\\HPC_nmda\\lfp_npy\\post_all.npy\")\n",
    "all_novel_arr = np.load(r\"D:\\mz_Data\\saved_dfs\\HPC_nmda\\lfp_npy\\novel_all.npy\")"
   ]
  },
  {
   "cell_type": "code",
   "execution_count": null,
   "metadata": {},
   "outputs": [],
   "source": [
    "pkl_file = r\"D:\\mz_Data\\saved_dfs\\HPC_nmda\\lfp_npy\\pre_et_ls\"\n",
    "\n",
    "open_file = open(pkl_file, \"rb\")\n",
    "et_ls_pre = pickle.load(open_file)\n",
    "open_file.close()\n",
    "\n",
    "len(et_ls_pre)"
   ]
  },
  {
   "cell_type": "code",
   "execution_count": null,
   "metadata": {},
   "outputs": [],
   "source": [
    "pkl_file = r\"D:\\mz_Data\\saved_dfs\\HPC_nmda\\lfp_npy\\post_et_ls\"\n",
    "\n",
    "open_file = open(pkl_file, \"rb\")\n",
    "et_ls_post = pickle.load(open_file)\n",
    "open_file.close()\n",
    "\n",
    "len(et_ls_post)"
   ]
  },
  {
   "cell_type": "code",
   "execution_count": null,
   "metadata": {},
   "outputs": [],
   "source": [
    "pkl_file = r\"D:\\mz_Data\\saved_dfs\\HPC_nmda\\lfp_npy\\novel_et_ls\"\n",
    "\n",
    "open_file = open(pkl_file, \"rb\")\n",
    "et_ls_novel = pickle.load(open_file)\n",
    "open_file.close()\n",
    "\n",
    "len(et_ls_novel)"
   ]
  },
  {
   "cell_type": "markdown",
   "metadata": {},
   "source": [
    "---"
   ]
  },
  {
   "cell_type": "markdown",
   "metadata": {},
   "source": [
    "# Average CSD across all mice in each group"
   ]
  },
  {
   "cell_type": "code",
   "execution_count": 9,
   "metadata": {},
   "outputs": [],
   "source": [
    "def regroup(all_array, et_ls, show=1):\n",
    "    sham = []\n",
    "    nmda = []\n",
    "    for i in range(all_array.shape[0]):\n",
    "        nmda_ls = ['et1710', 'et1700', 'et1570', 'et1520', 'et171', 'et170', 'et157', 'et152']\n",
    "        if et_ls[i] in nmda_ls:\n",
    "            nmda.append(all_array[i])\n",
    "        else:\n",
    "            sham.append(all_array[i])\n",
    "\n",
    "    csd_sham_arr = np.array(sham)\n",
    "    csd_nmda_arr = np.array(nmda)\n",
    "    \n",
    "    if show == 1:\n",
    "        print(csd_sham_arr.shape)\n",
    "        print(csd_nmda_arr.shape)\n",
    "    \n",
    "    return csd_sham_arr, csd_nmda_arr"
   ]
  },
  {
   "cell_type": "code",
   "execution_count": 10,
   "metadata": {},
   "outputs": [],
   "source": [
    "sham_pre, nmda_pre = regroup(all_pre_arr, et_ls_pre, show=0)\n",
    "sham_post, nmda_post = regroup(all_post_arr, et_ls_post, show=0)\n",
    "sham_novel, nmda_novel = regroup(all_novel_arr, et_ls_novel, show=0)"
   ]
  },
  {
   "cell_type": "code",
   "execution_count": null,
   "metadata": {},
   "outputs": [],
   "source": [
    "strain = 'sham' #input('What type of mouse (\"sham\", \"nmda\"): ')\n",
    "situation = input('What reward situation (\"pre\", \"post\", \"novel\"): ')\n",
    "\n",
    "if strain == 'sham':\n",
    "    if situation == 'pre':\n",
    "        working_data = sham_pre\n",
    "        data_id = 'Pre training'\n",
    "    elif situation == 'post':\n",
    "        working_data = sham_post\n",
    "        data_id = 'Post training'\n",
    "    elif situation == 'novel':\n",
    "        working_data = sham_novel\n",
    "        data_id = 'Novel'\n",
    "    else:\n",
    "        raise Exception('Input is not one of the options')\n",
    "if strain == 'nmda':\n",
    "    if situation == 'pre':\n",
    "        working_data = nmda_pre\n",
    "        data_id = 'Pre training'\n",
    "    elif situation == 'post':\n",
    "        working_data = nmda_post\n",
    "        data_id = 'Post training'\n",
    "    elif situation == 'novel':\n",
    "        working_data = nmda_novel\n",
    "        data_id = 'Novel'\n",
    "    else:\n",
    "        raise Exception('Input is not one of the options')"
   ]
  },
  {
   "cell_type": "code",
   "execution_count": null,
   "metadata": {
    "scrolled": true
   },
   "outputs": [],
   "source": [
    "# this is a list of the channel x-position along the probe: ch0 at the tip, ch384 at the base\n",
    "ch_y_pos_ls = [43,11,59,27]\n",
    "ch_y_pos = np.array(ch_y_pos_ls*int(384/4)) #this repeats the above ls 384/4 times\n",
    "\n",
    "all_mice_csd = []\n",
    "for mouse in range(len(working_data)):\n",
    "    \n",
    "    single_mouse_lfp = working_data[mouse]\n",
    "    \n",
    "    col_ls = []\n",
    "    for idx, val in enumerate(ch_y_pos):\n",
    "        if (val == 43) | (val == 59): # all x-values are (43, 11, 59, 27), max and min y-values are (20, 3840)\n",
    "            col_ls.append(single_mouse_lfp[idx])\n",
    "    col_arr = np.array(col_ls)\n",
    "    \n",
    "    f,ax=plt.subplots(1,2,figsize=(15,8), constrained_layout=True)\n",
    "    ch_num = col_arr.shape[0]\n",
    "    csd = mz_LFP.df_CSD_analysis(data=col_arr, axes=ax, Channel_Number=ch_num, up_samp=2, is_plot=0)\n",
    "    plt.show()\n",
    "    \n",
    "    foo_csd = np.array(csd)\n",
    "    all_mice_csd.append(foo_csd)\n",
    "    "
   ]
  },
  {
   "cell_type": "code",
   "execution_count": 46,
   "metadata": {},
   "outputs": [],
   "source": [
    "all_mice_csd = np.array(all_mice_csd)\n",
    "all_mice_mean = np.mean(all_mice_csd, axis=0)\n",
    "\n",
    "up_samp = 2\n",
    "title_str = 'All {0} - '.format(strain) + data_id"
   ]
  },
  {
   "cell_type": "code",
   "execution_count": null,
   "metadata": {},
   "outputs": [],
   "source": [
    "plt.figure(figsize=(6,8))\n",
    "\n",
    "im = plt.imshow(all_mice_mean, origin='lower', \n",
    "                vmin=-5000, vmax=5000,\n",
    "                cmap='jet', interpolation='nearest',aspect='auto')\n",
    "\n",
    "\n",
    "plt.title(title_str)\n",
    "plt.ylabel('Channel #')\n",
    "plt.xlabel('Time (s)')\n",
    "plt.xticks([0, 1*2500, 2*2500], labels=[0,1,2])\n",
    "\n",
    "cb = plt.colorbar(im, aspect=50, shrink=0.8)\n",
    "cb.formatter.set_powerlimits((0, 0))\n",
    "cb.update_ticks()\n",
    "cb.set_label('CSD (%s)' % csd.dimensionality.string)\n",
    "\n",
    "# Change the end of this next line with a new file name!!\n",
    "# plt.savefig(r\"D:\\mz_Data\\DATA_Figs\\HDAC\\LFP\\CSD\\novel_dko_CSD.pdf\", transparent=True)\n",
    "\n",
    "plt.show()"
   ]
  },
  {
   "cell_type": "code",
   "execution_count": null,
   "metadata": {},
   "outputs": [],
   "source": [
    "plt.figure(figsize=(6,4))\n",
    "\n",
    "im = plt.imshow(all_mice_mean, origin='lower', \n",
    "                vmin=-2000, vmax=2000,\n",
    "                cmap='jet', interpolation='nearest',aspect='auto')\n",
    "\n",
    "\n",
    "plt.title(title_str)\n",
    "plt.ylabel('Channel #')\n",
    "plt.xlabel('Time (s)')\n",
    "plt.ylim([0,115])\n",
    "plt.xlim([0, 2.0*2500])\n",
    "plt.xticks([0, 0.5*2500, 1*2500, 1.5*2500, 2.0*2500], labels=[0.0,0.5,1,1.5,2.0])\n",
    "\n",
    "cb = plt.colorbar(im, aspect=20)\n",
    "cb.formatter.set_powerlimits((0, 0))\n",
    "cb.update_ticks()\n",
    "cb.set_label('CSD (%s)' % csd.dimensionality.string)\n",
    "\n",
    "# Change the end of this next line with a new file name!!\n",
    "# plt.savefig(r\"C:\\Users\\AChub_Lab\\Desktop\\tmp_nmda\\csd\\novel_sham_v1.pdf\", transparent=True)\n",
    "\n",
    "plt.show()"
   ]
  },
  {
   "cell_type": "markdown",
   "metadata": {},
   "source": [
    "---"
   ]
  },
  {
   "cell_type": "markdown",
   "metadata": {},
   "source": [
    "---"
   ]
  },
  {
   "cell_type": "markdown",
   "metadata": {},
   "source": [
    "---"
   ]
  },
  {
   "cell_type": "markdown",
   "metadata": {},
   "source": [
    "# Plot the CSD for each mouse to see which are best"
   ]
  },
  {
   "cell_type": "code",
   "execution_count": null,
   "metadata": {},
   "outputs": [],
   "source": [
    "situation = input('What reward situation (\"pre\", \"post\", \"novel\"): ')\n",
    "\n",
    "if situation == 'pre':\n",
    "    working_data = all_pre_arr\n",
    "    et_ls = et_ls_pre\n",
    "    data_id = 'Pre training'\n",
    "elif situation == 'post':\n",
    "    working_data = all_post_arr\n",
    "    et_ls = et_ls_post\n",
    "    data_id = 'Post training'\n",
    "elif situation == 'novel':\n",
    "    working_data = all_novel_arr\n",
    "    et_ls = et_ls_novel\n",
    "    data_id = 'Novel'\n",
    "else:\n",
    "    raise Exception('Input is not one of the options')\n",
    "    \n",
    "print('\\nthis data is {0}'.format(data_id))"
   ]
  },
  {
   "cell_type": "code",
   "execution_count": null,
   "metadata": {
    "scrolled": true
   },
   "outputs": [],
   "source": [
    "for mouse in range(len(working_data)):\n",
    "    single_mouse_lfp = working_data[mouse]\n",
    "    \n",
    "    ch_y_pos_ls = [43,11,59,27]\n",
    "    ch_y_pos = np.array(ch_y_pos_ls*int(384/4)) #this repeats the above ls 384/4 times\n",
    "\n",
    "    col_ls = []\n",
    "    for idx, val in enumerate(ch_y_pos):\n",
    "        if (val == 43) | (val == 59): # all x-values are (43, 11, 59, 27), max and min y-values are (20, 3840)\n",
    "    #     if (val == 43):\n",
    "            col_ls.append(single_mouse_lfp[idx])\n",
    "\n",
    "    col_arr = np.array(col_ls)\n",
    "    \n",
    "    f,ax=plt.subplots(1,2,figsize=(15,8), constrained_layout=True)\n",
    "    plt.suptitle('Mouse #{0}'.format(mouse))\n",
    "\n",
    "    ch_num = col_arr.shape[0]\n",
    "\n",
    "    csd = mz_LFP.df_CSD_analysis(data=col_arr, axes=ax, Channel_Number=ch_num, up_samp=2, is_plot=1)\n",
    "    plt.show()"
   ]
  },
  {
   "cell_type": "markdown",
   "metadata": {},
   "source": [
    "# Select single mouse\n",
    "This requires a _`user input`_ for choosing the scenario to look at!"
   ]
  },
  {
   "cell_type": "code",
   "execution_count": null,
   "metadata": {},
   "outputs": [],
   "source": [
    "mouse_num = int(input('What mouse number (0-{0}): '.format(len(working_data)-1)))\n",
    "\n",
    "single_mouse_lfp = working_data[mouse_num]\n",
    "\n",
    "et = et_ls[mouse_num]\n",
    "print('\\nthis mouse is from {0}'.format(et))\n",
    "\n",
    "nmda_ls = ['et1710', 'et1700', 'et1570', 'et1520', 'et171', 'et170', 'et157', 'et152']\n",
    "if et in nmda_ls:\n",
    "    mouse_group = 'nmda'\n",
    "    print('this mouse is a nmda')\n",
    "else:\n",
    "    print('this mouse is a sham')\n",
    "    mouse_group = 'sham'"
   ]
  },
  {
   "cell_type": "markdown",
   "metadata": {},
   "source": [
    "# Select single column of channels"
   ]
  },
  {
   "cell_type": "code",
   "execution_count": null,
   "metadata": {},
   "outputs": [],
   "source": [
    "# this is a list of the channel x-position along the probe: ch0 at the tip, ch384 at the base\n",
    "ch_y_pos_ls = [43,11,59,27]\n",
    "ch_y_pos = np.array(ch_y_pos_ls*int(384/4)) #this repeats the above ls 384/4 times\n",
    "\n",
    "col_ls = []\n",
    "for idx, val in enumerate(ch_y_pos):\n",
    "    if (val == 43) | (val == 59): # all x-values are (43, 11, 59, 27), max and min y-values are (20, 3840)\n",
    "#     if (val == 43):\n",
    "        col_ls.append(single_mouse_lfp[idx])\n",
    "        \n",
    "col_arr = np.array(col_ls)\n",
    "col_arr.shape #this is ch x samples for one \"column\" of recording sites"
   ]
  },
  {
   "cell_type": "markdown",
   "metadata": {},
   "source": [
    "# CSD Plots of the single mouse\n",
    "The updated CSD function is on my \"mz_LFP_functions.py\" file"
   ]
  },
  {
   "cell_type": "code",
   "execution_count": null,
   "metadata": {},
   "outputs": [],
   "source": [
    "plt_title = str('{0} - {1} ({2})'.format(data_id,et,mouse_group))\n",
    "\n",
    "f,ax=plt.subplots(1,2,figsize=(15,8), constrained_layout=True)\n",
    "plt.suptitle(plt_title)\n",
    "\n",
    "ch_num = col_arr.shape[0]\n",
    "\n",
    "csd = mz_LFP.df_CSD_analysis(data=col_arr, axes=ax, Channel_Number=ch_num, up_samp=2, is_plot=1)\n",
    "\n",
    "# Change the end of this next line with a new file name!!\n",
    "# plt.savefig(r\"C:\\Users\\AChub_Lab\\Desktop\\tmp_nmda\\csd\\novel_dko_1mouse.pdf\", transparent=True)\n",
    "\n",
    "plt.show()"
   ]
  },
  {
   "cell_type": "code",
   "execution_count": null,
   "metadata": {},
   "outputs": [],
   "source": [
    "f,ax=plt.subplots(1,1,figsize=(8,8), constrained_layout=True)\n",
    "\n",
    "im = plt.imshow(csd, origin='lower', \n",
    "                vmin=-5000, vmax=5000, \n",
    "                interpolation='nearest', aspect=20, cmap='jet')\n",
    "cb = plt.colorbar(im, ax=ax, aspect=20, shrink=0.5)\n",
    "cb.formatter.set_powerlimits((0, 0))\n",
    "cb.update_ticks()\n",
    "cb.set_label('CSD (%s)' % csd.dimensionality.string)\n",
    "\n",
    "ax.set_xlim([0.5*2500, 2.0*2500])\n",
    "ax.set_ylim([0, 115])\n",
    "ax.set_yticks([0,50,100])\n",
    "\n",
    "ax.set_xticks([0.5*2500, 1.25*2500, 2.0*2500])\n",
    "ax.set_xticklabels([0.5,1.25,2.0])\n",
    "\n",
    "ax.set_title('V1 channels')\n",
    "ax.set_xlabel('Time (s)')\n",
    "ax.set_ylabel('Channel #')\n",
    "\n",
    "# Change the end of this next line with a new file name!!\n",
    "# plt.savefig(r\"U:\\Data_Analysis\\zimmer94\\01_NMDA_lesions_project\\figures_plots\\csd\\pre_nmda_1mouse_v1.pdf\", transparent=True)\n",
    "\n",
    "plt.show()"
   ]
  },
  {
   "cell_type": "code",
   "execution_count": null,
   "metadata": {},
   "outputs": [],
   "source": []
  },
  {
   "cell_type": "code",
   "execution_count": null,
   "metadata": {},
   "outputs": [],
   "source": []
  },
  {
   "cell_type": "code",
   "execution_count": null,
   "metadata": {},
   "outputs": [],
   "source": []
  },
  {
   "cell_type": "code",
   "execution_count": null,
   "metadata": {},
   "outputs": [],
   "source": []
  },
  {
   "cell_type": "code",
   "execution_count": null,
   "metadata": {},
   "outputs": [],
   "source": []
  },
  {
   "cell_type": "code",
   "execution_count": null,
   "metadata": {},
   "outputs": [],
   "source": []
  }
 ],
 "metadata": {
  "kernelspec": {
   "display_name": "Python 3",
   "language": "python",
   "name": "python3"
  },
  "language_info": {
   "codemirror_mode": {
    "name": "ipython",
    "version": 3
   },
   "file_extension": ".py",
   "mimetype": "text/x-python",
   "name": "python",
   "nbconvert_exporter": "python",
   "pygments_lexer": "ipython3",
   "version": "3.8.10"
  }
 },
 "nbformat": 4,
 "nbformat_minor": 4
}
