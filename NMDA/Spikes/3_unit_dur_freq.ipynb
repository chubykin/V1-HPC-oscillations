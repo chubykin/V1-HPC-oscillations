{
 "cells": [
  {
   "cell_type": "code",
   "execution_count": null,
   "metadata": {},
   "outputs": [],
   "source": [
    "from __future__ import division\n",
    "import pandas as pd\n",
    "import numpy as np\n",
    "import time\n",
    "from datetime import datetime\n",
    "import matplotlib.pyplot as plt\n",
    "import matplotlib as mpl\n",
    "from matplotlib.ticker import MaxNLocator\n",
    "\n",
    "from matplotlib.ticker import FormatStrFormatter\n",
    "\n",
    "from scipy import stats\n",
    "import scipy.stats as sstat\n",
    "import scipy.signal as ssig\n",
    "import h5py\n",
    "from mpl_toolkits.mplot3d import Axes3D\n",
    "import os\n",
    "from sklearn import preprocessing\n",
    "from sklearn.cluster import KMeans\n",
    "from sklearn.decomposition import PCA as sklearnPCA\n",
    "import re\n",
    "\n",
    "# import ephys_unit_analysis as ena\n",
    "import mz_ephys_unit_analysis as mz_ena\n",
    "import mz_unit_dur_freq as mz_udf\n",
    "\n",
    "#import resampy\n",
    "import fnmatch\n",
    "import seaborn as sns\n",
    "%matplotlib inline\n",
    "%load_ext autoreload\n",
    "%autoreload 2\n",
    "mpl.rcParams['pdf.fonttype'] = 42 \n",
    "mpl.rcParams['font.sans-serif']=['Arial', 'Helvetica','Bitstream Vera Sans', 'DejaVu Sans', 'Lucida Grande', \n",
    "                                 'Verdana', 'Geneva', 'Lucid', 'Avant Garde', 'sans-serif']  \n",
    "\n",
    "sns.despine()"
   ]
  },
  {
   "cell_type": "code",
   "execution_count": 2,
   "metadata": {},
   "outputs": [],
   "source": [
    "# for publication quality plots\n",
    "def set_pub_plots(pal=sns.blend_palette([\"gray\",\"crimson\", 'cyan', 'magenta', 'purple'  ],5)):\n",
    "    sns.set_style(\"white\")\n",
    "    sns.set_palette(pal)\n",
    "    sns.set_context(\"poster\", font_scale=1.5, rc={\"lines.linewidth\": 2.5, \"axes.linewidth\":2.5, 'figure.facecolor': 'white'}) \n",
    "    sns.set_style(\"ticks\", {\"xtick.major.size\": 8, \"ytick.major.size\": 8})\n",
    "    plt.rcParams['axes.linewidth'] = 2.5\n",
    "\n",
    "rc_pub={'font.size': 25, 'axes.labelsize': 25, 'legend.fontsize': 25.0, \n",
    "        'axes.titlesize': 25, 'xtick.labelsize': 25, 'ytick.labelsize': 25, \n",
    "        'axes.linewidth':2.5, 'lines.linewidth': 2.5,\n",
    "        'xtick.color': 'black', 'ytick.color': 'black', 'axes.edgecolor': 'black',\n",
    "        'axes.labelcolor':'black','text.color':'black'}\n",
    "# to restore the defaults, call plt.rcdefaults() \n",
    "\n",
    "set_pub_plots()"
   ]
  },
  {
   "cell_type": "code",
   "execution_count": null,
   "metadata": {},
   "outputs": [],
   "source": [
    "pal=sns.blend_palette(['black','royalblue'], 2)\n",
    "sns.palplot(pal)\n",
    "sns.set_palette(pal)"
   ]
  },
  {
   "cell_type": "markdown",
   "metadata": {},
   "source": [
    "---"
   ]
  },
  {
   "cell_type": "markdown",
   "metadata": {},
   "source": [
    "# First, load in the previously saved dataFrame"
   ]
  },
  {
   "cell_type": "code",
   "execution_count": null,
   "metadata": {},
   "outputs": [],
   "source": [
    "final_df = pd.read_pickle(r\"D:\\mz_Data\\saved_dfs\\HPC_nmda\\psth_df.pkl\")\n",
    "\n",
    "print(final_df.et.nunique())\n",
    "print(final_df.group.unique())\n",
    "print(final_df.region.unique())\n",
    "print(final_df.situ.unique())\n",
    "print(final_df.situ.unique())\n",
    "\n",
    "final_df.head()"
   ]
  },
  {
   "cell_type": "markdown",
   "metadata": {},
   "source": [
    "---"
   ]
  },
  {
   "cell_type": "markdown",
   "metadata": {},
   "source": [
    "### Now choose the reward situation you want\n",
    "This requires a __`user input`__ to run"
   ]
  },
  {
   "cell_type": "code",
   "execution_count": null,
   "metadata": {},
   "outputs": [],
   "source": [
    "\n",
    "rew_to_plot = input('What reward training stage (pre, post, novel): ')\n",
    "if rew_to_plot == 'pre':\n",
    "    reward_df = final_df[final_df['situ'] == rew_to_plot]\n",
    "    plt_title = 'Pre training'\n",
    "elif rew_to_plot == 'post':\n",
    "    reward_df = final_df[final_df['situ'] == rew_to_plot]\n",
    "    plt_title = 'Post training'\n",
    "elif rew_to_plot == 'novel':\n",
    "    reward_df = final_df[final_df['situ'] == rew_to_plot]\n",
    "    plt_title = 'Novel'\n",
    "V1_all_groups_df = reward_df[reward_df['region'] == 'v1']\n",
    "V1_A = reward_df[(reward_df['region'] == 'v1') & (reward_df['group'] == 'sham')]\n",
    "V1_B = reward_df[(reward_df['region'] == 'v1') & (reward_df['group'] == 'nmda')]\n"
   ]
  },
  {
   "cell_type": "markdown",
   "metadata": {},
   "source": [
    "---"
   ]
  },
  {
   "cell_type": "markdown",
   "metadata": {},
   "source": [
    "# Selecting only the visually responsive units\n",
    "### Separating by group and moving to arrays"
   ]
  },
  {
   "cell_type": "code",
   "execution_count": 52,
   "metadata": {},
   "outputs": [],
   "source": [
    "def vis_resp_units(final_df, region='v1', time_window=[0.5, 0.9], z_score = 1.0):\n",
    "    \n",
    "    test_df = final_df[final_df['region'] == region]\n",
    "    \n",
    "    vis_resp = test_df[(test_df['times'] >= time_window[0]) \n",
    "                       & (test_df['times'] <= time_window[1]) \n",
    "                       & (test_df['zscore'] > z_score)]\n",
    "    \n",
    "    test2 = test_df[test_df.cuid.isin(vis_resp.cuid.unique())]\n",
    "    \n",
    "    return test2\n",
    "    "
   ]
  },
  {
   "cell_type": "code",
   "execution_count": null,
   "metadata": {},
   "outputs": [],
   "source": [
    "vis_resp_df = vis_resp_units(V1_all_groups_df, region='v1')\n",
    "\n",
    "plot_A = vis_resp_df[vis_resp_df['group'] == 'sham']\n",
    "plot_B = vis_resp_df[vis_resp_df['group'] == 'nmda']\n",
    "\n",
    "A_array = np.array(plot_A.pivot(index='cuid', columns='times', values='zscore'))\n",
    "print(A_array.shape) #this is [units x times] and the values are above\n",
    "\n",
    "B_array = np.array(plot_B.pivot(index='cuid', columns='times', values='zscore'))\n",
    "print(B_array.shape) #this is [units x times] and the values are above"
   ]
  },
  {
   "cell_type": "markdown",
   "metadata": {},
   "source": [
    "---"
   ]
  },
  {
   "cell_type": "markdown",
   "metadata": {},
   "source": [
    "# Quantifying the oscillation duration and frequency"
   ]
  },
  {
   "cell_type": "code",
   "execution_count": 54,
   "metadata": {},
   "outputs": [],
   "source": [
    "durationA = []\n",
    "indA = []\n",
    "for unit in range(A_array.shape[0]):\n",
    "    yy = A_array[unit]\n",
    "    dur, peak_ind = mz_udf._duration_peaks_unit(yy)\n",
    "    durationA.append(dur)\n",
    "    indA.append(peak_ind)\n",
    "\n",
    "durationB = []\n",
    "indB = []\n",
    "for unit in range(B_array.shape[0]):\n",
    "    yy = B_array[unit]\n",
    "    dur, peak_ind = mz_udf._duration_peaks_unit(yy)\n",
    "    durationB.append(dur)\n",
    "    indB.append(peak_ind)"
   ]
  },
  {
   "cell_type": "code",
   "execution_count": 55,
   "metadata": {},
   "outputs": [],
   "source": [
    "indA_array = np.concatenate(indA, axis=0)\n",
    "indB_array = np.concatenate(indB, axis=0)"
   ]
  },
  {
   "cell_type": "code",
   "execution_count": null,
   "metadata": {},
   "outputs": [],
   "source": [
    "fig_size = plt.rcParams[\"figure.figsize\"]\n",
    "fig_size[0] = 12.0 # x dimension\n",
    "fig_size[1] = 5.0 # y dimension\n",
    "\n",
    "sns.histplot(indA_array, bins=140, linewidth=0, stat='density', color='black')\n",
    "sns.histplot(indB_array, bins=140, linewidth=0, stat='density', color='royalblue')\n",
    "# sns.kdeplot(indA_array, bw_method=0.1, color='cyan')\n",
    "# sns.kdeplot(indB_array, bw_method=0.1, color='magenta')\n",
    "\n",
    "plt.title(str('peak times: '+plt_title))\n",
    "plt.xlim([40,150])\n",
    "plt.xticks(ticks=[40,60,80,100,120,140], labels=[0.4,0.6,0.8,1.0,1.2,1.4])\n",
    "plt.yticks(ticks=[0,0.03,0.06,0.09])\n",
    "plt.xlabel('Time (s)')\n",
    "plt.axvspan(50,70, color='grey', alpha=0.2)\n",
    "\n",
    "plt.show()"
   ]
  },
  {
   "cell_type": "code",
   "execution_count": null,
   "metadata": {},
   "outputs": [],
   "source": [
    "sns.kdeplot(indA_array, bw_method=0.1, color='black', fill=True)\n",
    "sns.kdeplot(indB_array, bw_method=0.1, color='royalblue', fill=True)\n",
    "\n",
    "plt.title(str('kde peak times: '+ plt_title))\n",
    "plt.xlim([40,150])\n",
    "plt.xticks(ticks=[40,60,80,100,120,140], labels=[0.4,0.6,0.8,1.0,1.2,1.4])\n",
    "plt.yticks(ticks=[0,0.02,0.04])\n",
    "plt.xlabel('Time (s)')\n",
    "plt.axvspan(50,70, color='grey', alpha=0.2)\n",
    "\n",
    "# Change the end of this next line with a new file name!!\n",
    "# plt.savefig(r\"C:\\Users\\AChub_Lab\\Desktop\\tmp_nmda\\units\\dur_freq\\novel_hist_kde.pdf\", transparent=True)\n",
    "\n",
    "plt.show()"
   ]
  },
  {
   "cell_type": "markdown",
   "metadata": {},
   "source": [
    "---"
   ]
  },
  {
   "cell_type": "markdown",
   "metadata": {},
   "source": [
    "# Oscillation duration"
   ]
  },
  {
   "cell_type": "code",
   "execution_count": null,
   "metadata": {},
   "outputs": [],
   "source": [
    "durA_df = pd.DataFrame(tuple(zip(durationA,(['sham']*len(durationA)))),columns=['dur','group'])\n",
    "durB_df = pd.DataFrame(tuple(zip(durationB,(['nmda']*len(durationB)))),columns=['dur','group'])\n",
    "all_dur_df=pd.concat([durA_df,durB_df])\n",
    "all_dur_df.head()"
   ]
  },
  {
   "cell_type": "code",
   "execution_count": null,
   "metadata": {},
   "outputs": [],
   "source": [
    "#removes the NaN values from the above dataframe\n",
    "all_dur_df=all_dur_df[~all_dur_df.dur.isna()]\n",
    "all_dur_df.shape"
   ]
  },
  {
   "cell_type": "code",
   "execution_count": null,
   "metadata": {},
   "outputs": [],
   "source": [
    "fig_size = plt.rcParams[\"figure.figsize\"]\n",
    "fig_size[0] = 7.0 # x dimension\n",
    "fig_size[1] = 4.0 # y dimension\n",
    "\n",
    "ax1= plt.subplot(111)\n",
    "sns.kdeplot(data=all_dur_df, x=\"dur\", \n",
    "            hue=\"group\",\n",
    "            cumulative=True, \n",
    "            common_norm=False,\n",
    "            common_grid=True,\n",
    "            bw_method=0.5,\n",
    "            legend=False\n",
    "           )\n",
    "\n",
    "plt.title(plt_title)\n",
    "plt.xlabel('Time (s)')\n",
    "plt.xticks([0,0.2,0.4,0.6,0.8,1.0])\n",
    "plt.xlim([-0.1,1.1])\n",
    "plt.yticks([0,0.25,0.5,0.75,1.0])\n",
    "\n",
    "# Change the end of this next line with a new file name!!\n",
    "# plt.savefig(r\"C:\\Users\\AChub_Lab\\Desktop\\tmp_nmda\\units\\dur_freq\\dur_novel_kde.pdf\", transparent=True)\n",
    "\n",
    "plt.show()"
   ]
  },
  {
   "cell_type": "code",
   "execution_count": null,
   "metadata": {},
   "outputs": [],
   "source": [
    "fig_size = plt.rcParams[\"figure.figsize\"]\n",
    "fig_size[0] = 2.0 # x dimension\n",
    "fig_size[1] = 5.0 # y dimension\n",
    "\n",
    "ax1=plt.subplot(111)\n",
    "sns.barplot(data=all_dur_df, x='group', y='dur', order=[\"sham\",\"nmda\"], ci=68)\n",
    "\n",
    "plt.ylabel('Time (s)')\n",
    "plt.xlabel('')\n",
    "plt.yticks(ticks=[0,0.1,0.2,0.3,0.4,0.5])\n",
    "plt.ylim([0,0.55])\n",
    "plt.title(plt_title)\n",
    "\n",
    "# Change the end of this next line with a new file name!!\n",
    "# plt.savefig(r\"C:\\Users\\AChub_Lab\\Desktop\\tmp_nmda\\units\\dur_freq\\dur_novel_bar.pdf\", transparent=True)\n",
    "\n",
    "plt.show()"
   ]
  },
  {
   "cell_type": "markdown",
   "metadata": {},
   "source": [
    "# Run the stats on the oscillation duration"
   ]
  },
  {
   "cell_type": "code",
   "execution_count": null,
   "metadata": {},
   "outputs": [],
   "source": [
    "result = sstat.ks_2samp(all_dur_df[all_dur_df['group']=='sham'].dur, all_dur_df[all_dur_df['group']=='nmda'].dur)\n",
    "print('Oscillation Duration')\n",
    "print(plt_title)\n",
    "print('sham units: {0} --- nmda units: {1}'.format(len(indA),len(indB)))\n",
    "print(result)"
   ]
  },
  {
   "cell_type": "code",
   "execution_count": null,
   "metadata": {},
   "outputs": [],
   "source": [
    "print('Oscillation Duration')\n",
    "print(plt_title)\n",
    "\n",
    "print('Mean of sham: {0}'.format(np.mean(all_dur_df[all_dur_df['group']=='sham'].dur)))\n",
    "print('Mean of nmda: {0}'.format(np.mean(all_dur_df[all_dur_df['group']=='nmda'].dur)))\n",
    "\n",
    "result = sstat.ttest_ind(all_dur_df[all_dur_df['group']=='sham'].dur, all_dur_df[all_dur_df['group']=='nmda'].dur)\n",
    "print(result)"
   ]
  },
  {
   "cell_type": "markdown",
   "metadata": {},
   "source": [
    "---"
   ]
  },
  {
   "cell_type": "markdown",
   "metadata": {},
   "source": [
    "# Quantify the unit oscillation frequency\n",
    "### Looking at the 2nd to 3rd peaks frequency"
   ]
  },
  {
   "cell_type": "code",
   "execution_count": 64,
   "metadata": {},
   "outputs": [],
   "source": [
    "mean_freqA = [1/np.diff(i)*100+1 for i in indA]\n",
    "mean_freqB = [1/np.diff(i)*100+1 for i in indB]"
   ]
  },
  {
   "cell_type": "code",
   "execution_count": null,
   "metadata": {},
   "outputs": [],
   "source": [
    "freqA_df = pd.DataFrame(tuple(zip(mean_freqA,(['sham']*len(mean_freqA)))),columns=['freq','group'])\n",
    "freqB_df = pd.DataFrame(tuple(zip(mean_freqB,(['nmda']*len(mean_freqB)))),columns=['freq','group'])\n",
    "all_freq_df=pd.concat([freqA_df,freqB_df])\n",
    "\n",
    "all_freq_df['up_cyc'] = all_freq_df.freq.str[1] #this is the 2-3 peak cycle\n",
    "# all_freq_df['up_cyc2'] = all_freq_df.freq.str[2] #this is the 3-4 peak cycle\n",
    "\n",
    "all_freq_df.head()"
   ]
  },
  {
   "cell_type": "code",
   "execution_count": null,
   "metadata": {},
   "outputs": [],
   "source": [
    "# removes the NaN values from the above dataframe\n",
    "all_freq_df=all_freq_df[~all_freq_df.up_cyc.isna()]\n",
    "# all_freq_df=all_freq_df[~all_freq_df.up_cyc2.isna()]\n",
    "all_freq_df.shape"
   ]
  },
  {
   "cell_type": "code",
   "execution_count": null,
   "metadata": {},
   "outputs": [],
   "source": [
    "fig_size = plt.rcParams[\"figure.figsize\"]\n",
    "fig_size[0] = 7.0 # x dimension\n",
    "fig_size[1] = 4.0 # y dimension\n",
    "\n",
    "ax1= plt.subplot(111)\n",
    "# sns.histplot(data=all_freq_df, x=\"up_cyc\", hue=\"group\")\n",
    "sns.kdeplot(data=all_freq_df, x=\"up_cyc\", hue=\"group\",\n",
    "            cumulative=False, common_norm=False, bw_method=0.7, fill=True, legend=False)\n",
    "\n",
    "plt.title(plt_title)\n",
    "plt.xlabel('Frequency (Hz)')\n",
    "plt.xticks([0,2,4,6,8,10,12])\n",
    "plt.xlim([-1,13])\n",
    "plt.ylim([0,0.35])\n",
    "plt.yticks([0,0.1,0.2,0.3])\n",
    "\n",
    "# Change the end of this next line with a new file name!!\n",
    "# plt.savefig(r\"C:\\Users\\AChub_Lab\\Desktop\\tmp_nmda\\units\\dur_freq\\freq_novel_kde.pdf\", transparent=True)\n",
    "\n",
    "plt.show()"
   ]
  },
  {
   "cell_type": "code",
   "execution_count": null,
   "metadata": {},
   "outputs": [],
   "source": [
    "fig_size = plt.rcParams[\"figure.figsize\"]\n",
    "fig_size[0] = 7.0 # x dimension\n",
    "fig_size[1] = 4.0 # y dimension\n",
    "\n",
    "ax1= plt.subplot(111)\n",
    "sns.kdeplot(data=all_freq_df, x=\"up_cyc\", hue=\"group\",\n",
    "            cumulative=True, common_norm=False,\n",
    "            bw_method=0.7,legend=False)\n",
    "\n",
    "plt.title(plt_title)\n",
    "plt.xlabel('Frequency (Hz)')\n",
    "plt.xticks([0,2,4,6,8,10,12])\n",
    "plt.xlim([-1,13])\n",
    "\n",
    "# Change the end of this next line with a new file name!!\n",
    "# plt.savefig(r\"C:\\Users\\AChub_Lab\\Desktop\\tmp_nmda\\units\\dur_freq\\freq_novel_cde.pdf\", transparent=True)\n",
    "\n",
    "plt.show()"
   ]
  },
  {
   "cell_type": "code",
   "execution_count": null,
   "metadata": {},
   "outputs": [],
   "source": [
    "fig_size = plt.rcParams[\"figure.figsize\"]\n",
    "fig_size[0] = 2.0 # x dimension\n",
    "fig_size[1] = 5.0 # y dimension\n",
    "\n",
    "ax1=plt.subplot(111)\n",
    "sns.barplot(data=all_freq_df, x='group', y='up_cyc', order=[\"sham\",\"nmda\"], ci=68)\n",
    "\n",
    "plt.ylabel('Frequency (Hz)')\n",
    "plt.xlabel('')\n",
    "ax1.set_xticklabels(['sham','nmda'])\n",
    "plt.yticks(ticks=[0,2,4,6])\n",
    "plt.ylim([0,6.5])\n",
    "plt.title(plt_title)\n",
    "\n",
    "# Change the end of this next line with a new file name!!\n",
    "# plt.savefig(r\"C:\\Users\\AChub_Lab\\Desktop\\tmp_nmda\\units\\dur_freq\\freq_novel_bar.pdf\", transparent=True)\n",
    "\n",
    "plt.show()"
   ]
  },
  {
   "cell_type": "code",
   "execution_count": null,
   "metadata": {},
   "outputs": [],
   "source": [
    "# upper-cycles frequency\n",
    "\n",
    "result = sstat.ks_2samp(all_freq_df[all_freq_df['group']=='sham'].up_cyc, \n",
    "                        all_freq_df[all_freq_df['group']=='nmda'].up_cyc)\n",
    "\n",
    "print('Oscillation Frequency (upper cycles)')\n",
    "print('sham: {0} --- nmda: {1}'.format(all_freq_df[all_freq_df['group']=='sham'].up_cyc.nunique(),\n",
    "                                   all_freq_df[all_freq_df['group']=='nmda'].up_cyc.nunique()))\n",
    "print(plt_title)\n",
    "print(result)"
   ]
  },
  {
   "cell_type": "code",
   "execution_count": null,
   "metadata": {},
   "outputs": [],
   "source": [
    "# upper-cycles frequency\n",
    "\n",
    "print('Oscillation Frequency (upper cycles)')\n",
    "print('Mean of sham: {0}'.format(np.mean(all_freq_df[all_freq_df['group']=='sham'].up_cyc)))\n",
    "print('Mean of nmda: {0}'.format(np.mean(all_freq_df[all_freq_df['group']=='nmda'].up_cyc)))\n",
    "\n",
    "result = sstat.ttest_ind(all_freq_df[all_freq_df['group']=='sham'].up_cyc, \n",
    "                         all_freq_df[all_freq_df['group']=='nmda'].up_cyc)\n",
    "print(plt_title)\n",
    "print(result)"
   ]
  },
  {
   "cell_type": "markdown",
   "metadata": {},
   "source": [
    "---"
   ]
  },
  {
   "cell_type": "markdown",
   "metadata": {},
   "source": [
    "---"
   ]
  },
  {
   "cell_type": "markdown",
   "metadata": {},
   "source": [
    "---"
   ]
  },
  {
   "cell_type": "markdown",
   "metadata": {},
   "source": [
    "---"
   ]
  },
  {
   "cell_type": "markdown",
   "metadata": {},
   "source": [
    "### Looking at the mean oscillation frequency - original analysis method"
   ]
  },
  {
   "cell_type": "code",
   "execution_count": null,
   "metadata": {},
   "outputs": [],
   "source": [
    "mean_freqA = [np.mean(1/np.diff(i)*100)+1 for i in indA]\n",
    "mean_freqB = [np.mean(1/np.diff(i)*100)+1 for i in indB]\n",
    "\n",
    "# old, would stack all of the freq, not the mean freq per unit\n",
    "# freqA=np.hstack([1/np.diff(i)*100 for i in indA])\n",
    "# freqB=np.hstack([1/np.diff(i)*100 for i in indB])"
   ]
  },
  {
   "cell_type": "code",
   "execution_count": null,
   "metadata": {},
   "outputs": [],
   "source": [
    "freqA_df = pd.DataFrame(tuple(zip(mean_freqA,(['WT']*len(mean_freqA)))),columns=['freq','group'])\n",
    "freqB_df = pd.DataFrame(tuple(zip(mean_freqB,(['DKO']*len(mean_freqB)))),columns=['freq','group'])\n",
    "all_freq_df=pd.concat([freqA_df,freqB_df])\n",
    "all_freq_df.head()"
   ]
  },
  {
   "cell_type": "code",
   "execution_count": null,
   "metadata": {},
   "outputs": [],
   "source": [
    "#removes the NaN values from the above dataframe\n",
    "all_freq_df=all_freq_df[~all_freq_df.freq.isna()]\n",
    "all_freq_df.shape"
   ]
  },
  {
   "cell_type": "code",
   "execution_count": null,
   "metadata": {},
   "outputs": [],
   "source": [
    "fig_size = plt.rcParams[\"figure.figsize\"]\n",
    "fig_size[0] = 7.0 # x dimension\n",
    "fig_size[1] = 4.0 # y dimension\n",
    "\n",
    "ax1= plt.subplot(111)\n",
    "# sns.histplot(data=all_freq_df, x=\"freq\", hue=\"group\")\n",
    "sns.kdeplot(data=all_freq_df, x=\"freq\", hue=\"group\",\n",
    "            cumulative=False, common_norm=False, bw_method=1, fill=True, legend=False)\n",
    "\n",
    "plt.title(plt_title)\n",
    "plt.xlabel('Frequency (Hz)')\n",
    "plt.xticks([0,2,4,6,8,10,12])\n",
    "plt.xlim([-1,13])\n",
    "plt.ylim([0,0.25])\n",
    "\n",
    "# Change the end of this next line with a new file name!!\n",
    "# plt.savefig(r\"D:\\mz_Data\\DATA_Figs\\HDAC\\units\\dur_freq\\frequency\\novel_hist_kde.pdf\", transparent=True)\n",
    "\n",
    "plt.show()"
   ]
  },
  {
   "cell_type": "code",
   "execution_count": null,
   "metadata": {},
   "outputs": [],
   "source": [
    "fig_size = plt.rcParams[\"figure.figsize\"]\n",
    "fig_size[0] = 7.0 # x dimension\n",
    "fig_size[1] = 4.0 # y dimension\n",
    "\n",
    "ax1= plt.subplot(111)\n",
    "sns.kdeplot(data=all_freq_df, x=\"freq\", hue=\"group\",\n",
    "            cumulative=True, common_norm=False,\n",
    "            bw_method=0.7,legend=False)\n",
    "\n",
    "plt.title(plt_title)\n",
    "plt.xlabel('Frequency (Hz)')\n",
    "plt.xticks([0,2,4,6,8,10,12])\n",
    "plt.xlim([-1,13])\n",
    "\n",
    "# Change the end of this next line with a new file name!!\n",
    "# plt.savefig(r\"D:\\mz_Data\\DATA_Figs\\HDAC\\units\\dur_freq\\frequency\\novel_kde.pdf\", transparent=True)\n",
    "\n",
    "plt.show()"
   ]
  },
  {
   "cell_type": "code",
   "execution_count": null,
   "metadata": {},
   "outputs": [],
   "source": [
    "fig_size = plt.rcParams[\"figure.figsize\"]\n",
    "fig_size[0] = 2.0 # x dimension\n",
    "fig_size[1] = 5.0 # y dimension\n",
    "\n",
    "ax1=plt.subplot(111)\n",
    "sns.barplot(data=all_freq_df, \n",
    "            x='group',\n",
    "            y='freq',\n",
    "            order=[\"WT\",\"DKO\"],\n",
    "            ci=68,\n",
    "           )\n",
    "plt.ylabel('Frequency (Hz)')\n",
    "plt.xlabel('')\n",
    "ax1.set_xticklabels(['WT','DKO'])\n",
    "plt.yticks(ticks=[0,2,4,6])\n",
    "plt.ylim([0,6.5])\n",
    "plt.title(plt_title)\n",
    "\n",
    "# Change the end of this next line with a new file name!!\n",
    "# plt.savefig(r\"D:\\mz_Data\\DATA_Figs\\HDAC\\units\\dur_freq\\frequency\\novel_bar.pdf\", transparent=True)\n",
    "\n",
    "plt.show()"
   ]
  },
  {
   "cell_type": "markdown",
   "metadata": {},
   "source": [
    "---"
   ]
  },
  {
   "cell_type": "markdown",
   "metadata": {},
   "source": [
    "# Run the stats on the oscillation frequency"
   ]
  },
  {
   "cell_type": "markdown",
   "metadata": {},
   "source": [
    "### 2-sample KS test for the cumulative distribution line\n"
   ]
  },
  {
   "cell_type": "code",
   "execution_count": null,
   "metadata": {},
   "outputs": [],
   "source": [
    "# mean of all cycles frequency\n",
    "\n",
    "result = sstat.ks_2samp(all_freq_df[all_freq_df['group']=='WT'].freq, \n",
    "                        all_freq_df[all_freq_df['group']=='DKO'].freq)\n",
    "\n",
    "print('Oscillation Frequency (mean)')\n",
    "print('WT: {0} --- DKO: {1}'.format(all_freq_df[all_freq_df['group']=='WT'].freq.nunique(),\n",
    "                                   all_freq_df[all_freq_df['group']=='DKO'].freq.nunique()))\n",
    "print(plt_title)\n",
    "print(result)"
   ]
  },
  {
   "cell_type": "markdown",
   "metadata": {},
   "source": [
    "### Welch's t-test on the mean"
   ]
  },
  {
   "cell_type": "code",
   "execution_count": null,
   "metadata": {},
   "outputs": [],
   "source": [
    "# mean of all cycles frequency\n",
    "\n",
    "\n",
    "print('Oscillation Frequency (mean)')\n",
    "print('Mean of WT: {0}'.format(np.mean(all_freq_df[all_freq_df['group']=='WT'].freq)))\n",
    "print('Mean of DKO: {0}'.format(np.mean(all_freq_df[all_freq_df['group']=='DKO'].freq)))\n",
    "\n",
    "result = sstat.ttest_ind(all_freq_df[all_freq_df['group']=='WT'].freq, \n",
    "                         all_freq_df[all_freq_df['group']=='DKO'].freq)\n",
    "print(plt_title)\n",
    "print(result)"
   ]
  }
 ],
 "metadata": {
  "kernelspec": {
   "display_name": "Python 3",
   "language": "python",
   "name": "python3"
  },
  "language_info": {
   "codemirror_mode": {
    "name": "ipython",
    "version": 3
   },
   "file_extension": ".py",
   "mimetype": "text/x-python",
   "name": "python",
   "nbconvert_exporter": "python",
   "pygments_lexer": "ipython3",
   "version": "3.8.10"
  }
 },
 "nbformat": 4,
 "nbformat_minor": 4
}
