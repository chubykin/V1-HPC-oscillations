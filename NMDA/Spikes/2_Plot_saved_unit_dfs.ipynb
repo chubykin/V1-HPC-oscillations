{
 "cells": [
  {
   "cell_type": "code",
   "execution_count": null,
   "metadata": {},
   "outputs": [],
   "source": [
    "from __future__ import division\n",
    "import pandas as pd\n",
    "import numpy as np\n",
    "import time\n",
    "from datetime import datetime\n",
    "import matplotlib.pyplot as plt\n",
    "import matplotlib as mpl\n",
    "from matplotlib.ticker import MaxNLocator\n",
    "\n",
    "from matplotlib.ticker import FormatStrFormatter\n",
    "\n",
    "import scipy.stats as sstat\n",
    "import scipy.signal as ssig\n",
    "import h5py\n",
    "from mpl_toolkits.mplot3d import Axes3D\n",
    "import os\n",
    "from sklearn import preprocessing\n",
    "from sklearn.cluster import KMeans\n",
    "from sklearn.decomposition import PCA as sklearnPCA\n",
    "import re\n",
    "\n",
    "# import ephys_unit_analysis as ena\n",
    "import mz_ephys_unit_analysis as mz_ena\n",
    "\n",
    "#import resampy\n",
    "import fnmatch\n",
    "import seaborn as sns\n",
    "%matplotlib inline\n",
    "%load_ext autoreload\n",
    "%autoreload 2\n",
    "mpl.rcParams['pdf.fonttype'] = 42 \n",
    "mpl.rcParams['font.sans-serif']=['Arial', 'Helvetica','Bitstream Vera Sans', 'DejaVu Sans', 'Lucida Grande', \n",
    "                                 'Verdana', 'Geneva', 'Lucid', 'Avant Garde', 'sans-serif']  \n",
    "\n",
    "sns.despine()"
   ]
  },
  {
   "cell_type": "code",
   "execution_count": 2,
   "metadata": {},
   "outputs": [],
   "source": [
    "# for publication quality plots\n",
    "def set_pub_plots(pal=sns.blend_palette([\"gray\",\"crimson\", 'cyan', 'magenta', 'purple'  ],5)):\n",
    "    sns.set_style(\"white\")\n",
    "    sns.set_palette(pal)\n",
    "    sns.set_context(\"poster\", font_scale=1.5, rc={\"lines.linewidth\": 2.5, \"axes.linewidth\":2.5, 'figure.facecolor': 'white'}) \n",
    "    sns.set_style(\"ticks\", {\"xtick.major.size\": 8, \"ytick.major.size\": 8})\n",
    "    plt.rcParams['axes.linewidth'] = 2.5\n",
    "\n",
    "rc_pub={'font.size': 25, 'axes.labelsize': 25, 'legend.fontsize': 25.0, \n",
    "        'axes.titlesize': 25, 'xtick.labelsize': 25, 'ytick.labelsize': 25, \n",
    "        'axes.linewidth':2.5, 'lines.linewidth': 2.5,\n",
    "        'xtick.color': 'black', 'ytick.color': 'black', 'axes.edgecolor': 'black',\n",
    "        'axes.labelcolor':'black','text.color':'black'}\n",
    "# to restore the defaults, call plt.rcdefaults() \n",
    "\n",
    "set_pub_plots()"
   ]
  },
  {
   "cell_type": "code",
   "execution_count": null,
   "metadata": {},
   "outputs": [],
   "source": [
    "pal=sns.blend_palette(['black','royalblue'], 2)\n",
    "sns.palplot(pal)\n",
    "sns.set_palette(pal)"
   ]
  },
  {
   "cell_type": "markdown",
   "metadata": {},
   "source": [
    "---"
   ]
  },
  {
   "cell_type": "markdown",
   "metadata": {},
   "source": [
    "# First, load in the previously saved dataFrame"
   ]
  },
  {
   "cell_type": "code",
   "execution_count": null,
   "metadata": {},
   "outputs": [],
   "source": [
    "final_df = pd.read_pickle(r\"D:\\mz_Data\\saved_dfs\\HPC_nmda\\psth_df.pkl\")\n",
    "\n",
    "print(final_df.et.nunique())\n",
    "print(final_df.group.unique())\n",
    "print(final_df.region.unique())\n",
    "print(final_df.situ.unique())\n",
    "print(final_df.situ.unique())\n",
    "\n",
    "final_df.head()"
   ]
  },
  {
   "cell_type": "markdown",
   "metadata": {},
   "source": [
    "---"
   ]
  },
  {
   "cell_type": "markdown",
   "metadata": {},
   "source": [
    "# Subplot unit heatmaps\n",
    "Requires a __`user input`__ to choose the stimulus situation"
   ]
  },
  {
   "cell_type": "code",
   "execution_count": null,
   "metadata": {},
   "outputs": [],
   "source": [
    "brain_region = 'v1'\n",
    "stim_cond = input('pre - post - novel: ')   #(pre, post, novel)\n",
    "is_sorted = 'yes'    #(yes, no)"
   ]
  },
  {
   "cell_type": "code",
   "execution_count": 38,
   "metadata": {},
   "outputs": [],
   "source": [
    "V1_all_groups_df = final_df[final_df['region'] == brain_region]\n",
    "V1_all_groups_situ = V1_all_groups_df[V1_all_groups_df['situ'] == stim_cond]\n",
    "\n",
    "V1_A = V1_all_groups_situ[V1_all_groups_situ['group'] == 'sham']\n",
    "V1_B = V1_all_groups_situ[V1_all_groups_situ['group'] == 'nmda']"
   ]
  },
  {
   "cell_type": "code",
   "execution_count": 39,
   "metadata": {},
   "outputs": [],
   "source": [
    "A_hm1 = V1_A.pivot('cuid', 'times', 'zscore')\n",
    "B_hm1 = V1_B.pivot('cuid', 'times', 'zscore')\n",
    "\n",
    "if is_sorted == 'yes':\n",
    "    A_hm1_np = A_hm1.values[ np.argsort(np.mean(A_hm1.values[:,50:70], axis = 1) )] #if I want sorted activity\n",
    "    B_hm1_np = B_hm1.values[ np.argsort(np.mean(B_hm1.values[:,50:70], axis = 1) )] #if I want sorted activity\n",
    "elif is_sorted == 'no':\n",
    "    A_hm1_np = A_hm1.values\n",
    "    B_hm1_np = B_hm1.values"
   ]
  },
  {
   "cell_type": "markdown",
   "metadata": {},
   "source": [
    "# Finally, plot it"
   ]
  },
  {
   "cell_type": "code",
   "execution_count": 40,
   "metadata": {},
   "outputs": [],
   "source": [
    "sp_dims = (15, 5) #(width, height)\n",
    "v_max = 4\n",
    "v_min = -1\n",
    "xvalues = np.arange(start=0, stop=3, step=0.5)\n",
    "y_min = -2\n",
    "y_max = 6"
   ]
  },
  {
   "cell_type": "code",
   "execution_count": null,
   "metadata": {},
   "outputs": [],
   "source": [
    "f, (ax1, ax2) = plt.subplots(1,2, sharex='col', figsize=sp_dims)\n",
    "f.tight_layout()\n",
    "plt.suptitle(stim_cond)\n",
    "\n",
    "# Heatmap for A\n",
    "sns.heatmap(A_hm1_np, \n",
    "            cmap = 'afmhot', xticklabels=50, yticklabels=False, \n",
    "            vmax=v_max, center = 2, vmin = v_min, robust = True, ax=ax1)\n",
    "ax1.set_xlabel('Time (s)')\n",
    "ax1.set_ylabel(str(len(V1_A.cuid.unique())))\n",
    "ax1.set_xticklabels(xvalues, rotation=0)\n",
    "ax1.set_xlim(0,2.9*100)\n",
    "ax1.set_title('sham')\n",
    "cbar = ax1.collections[0].colorbar\n",
    "cbar.remove()\n",
    "\n",
    "#Heatmap for B\n",
    "sns.heatmap(B_hm1_np, \n",
    "            cmap = 'afmhot', xticklabels=50, yticklabels=False, \n",
    "            vmax=v_max, center = 2, vmin = v_min, robust = True, ax=ax2)\n",
    "ax2.set_xlabel('Time (s)')\n",
    "ax2.set_ylabel(str(len(V1_B.cuid.unique())))\n",
    "ax2.set_xticklabels(xvalues, rotation=0)\n",
    "ax2.set_xlim(0,2.9*100)\n",
    "ax2.set_title('nmda')\n",
    "cbar = ax2.collections[0].colorbar\n",
    "cbar.ax.tick_params(labelsize=25)\n",
    "cbar.set_label('Z-score')\n",
    "\n",
    "# Change the end of this next line with a new file name!!\n",
    "# plt.savefig(r\"C:\\Users\\AChub_Lab\\Desktop\\tmp_nmda\\units\\all_novel_heat.pdf\", transparent=True)\n",
    "\n",
    "plt.show()"
   ]
  },
  {
   "cell_type": "code",
   "execution_count": null,
   "metadata": {},
   "outputs": [],
   "source": [
    "#Combo lineplot\n",
    "g = sns.relplot(x = 'times', y = 'zscore', \n",
    "             estimator = 'mean', \n",
    "             data = V1_all_groups_df, \n",
    "             hue = 'group',\n",
    "             col='situ',\n",
    "             kind='line',\n",
    "             hue_order = ['sham','nmda'],\n",
    "             legend=False,\n",
    "             ci=None) #ci is the error\n",
    "\n",
    "(g.map(plt.axhline, y=0, color=\".7\", dashes=(2, 1), zorder=0)\n",
    "  .map(plt.axvspan, xmin=0.5,xmax=0.7, color='Gray', alpha=0.25)\n",
    "  .set_axis_labels(\"Time (s)\", \"Z-score\")\n",
    "  .set_titles(\"{col_name}\")\n",
    "  .set(ylim=(-1.5, 2.5), yticks=([-1,0,1,2]), xlim=(0.0,2.9), xticks=([0,0.5,1,1.5,2,2.5]))\n",
    "  .tight_layout(w_pad=0)\n",
    ")\n",
    "\n",
    "# plt.legend(['sham','nmda'], loc=\"upper right\")\n",
    "\n",
    "# Change the end of this next line with a new file name!!\n",
    "# plt.savefig(r\"C:\\Users\\AChub_Lab\\Desktop\\tmp_nmda\\units\\all_line.pdf\", transparent=True)\n",
    "\n",
    "plt.show()"
   ]
  },
  {
   "cell_type": "markdown",
   "metadata": {},
   "source": [
    "---"
   ]
  },
  {
   "cell_type": "markdown",
   "metadata": {},
   "source": [
    "# Plotting only the visually responsive units"
   ]
  },
  {
   "cell_type": "code",
   "execution_count": 42,
   "metadata": {},
   "outputs": [],
   "source": [
    "def vis_resp_units(final_df, region='v1', time_window=[0.5, 0.9], z_score = 1.0):\n",
    "    \n",
    "    test_df = final_df[final_df['region'] == region]\n",
    "    \n",
    "    vis_resp = test_df[(test_df['times'] >= time_window[0]) \n",
    "                       & (test_df['times'] <= time_window[1]) \n",
    "                       & (test_df['zscore'] > z_score)]\n",
    "    \n",
    "    test2 = test_df[test_df.cuid.isin(vis_resp.cuid.unique())]\n",
    "    \n",
    "    return test2\n",
    "    "
   ]
  },
  {
   "cell_type": "code",
   "execution_count": null,
   "metadata": {},
   "outputs": [],
   "source": [
    "brain_region = 'v1'\n",
    "stim_cond = input('pre - post - novel: ')   #(pre, post, novel)\n",
    "is_sorted = 'yes'    #(yes, no)\n",
    "\n",
    "V1_all_groups_df = final_df[final_df['region'] == brain_region]\n",
    "V1_all_groups_situ = V1_all_groups_df[V1_all_groups_df['situ'] == stim_cond]\n",
    "V1_A = V1_all_groups_situ[V1_all_groups_situ['group'] == 'sham']\n",
    "V1_B = V1_all_groups_situ[V1_all_groups_situ['group'] == 'nmda']\n",
    "\n",
    "A_hm1 = V1_A.pivot('cuid', 'times', 'zscore')\n",
    "B_hm1 = V1_B.pivot('cuid', 'times', 'zscore')\n",
    "\n",
    "if is_sorted == 'yes':\n",
    "    A_hm1_np = A_hm1.values[ np.argsort(np.mean(A_hm1.values[:,50:70], axis = 1) )] #if I want sorted activity\n",
    "    B_hm1_np = B_hm1.values[ np.argsort(np.mean(B_hm1.values[:,50:70], axis = 1) )] #if I want sorted activity\n",
    "elif is_sorted == 'no':\n",
    "    A_hm1_np = A_hm1.values\n",
    "    B_hm1_np = B_hm1.values"
   ]
  },
  {
   "cell_type": "code",
   "execution_count": 56,
   "metadata": {},
   "outputs": [],
   "source": [
    "vis_resp_df = vis_resp_units(V1_all_groups_situ, region=brain_region)\n",
    "\n",
    "plot_A = vis_resp_df[vis_resp_df['group'] == 'sham']\n",
    "plot_B = vis_resp_df[vis_resp_df['group'] == 'nmda']\n",
    "\n",
    "test_A = plot_A.pivot('cuid', 'times', 'zscore')\n",
    "test_A_sort = test_A.values[ np.argsort(np.mean(test_A.values[:,50:70], axis = 1) )] #if I want sorted activity\n",
    "\n",
    "test_B = plot_B.pivot('cuid', 'times', 'zscore')\n",
    "test_B_sort = test_B.values[ np.argsort(np.mean(test_B.values[:,50:70], axis = 1) )] #if I want sorted activity"
   ]
  },
  {
   "cell_type": "code",
   "execution_count": 57,
   "metadata": {},
   "outputs": [],
   "source": [
    "sp_dims = (15, 6) #(width, height)\n",
    "v_max = 4\n",
    "v_min = -1\n",
    "xvalues = np.arange(start=0, stop=3, step=0.5)\n",
    "y_min = -2\n",
    "y_max = 6\n",
    "\n",
    "plt_title = str(stim_cond)"
   ]
  },
  {
   "cell_type": "code",
   "execution_count": null,
   "metadata": {},
   "outputs": [],
   "source": [
    "f, (ax1, ax2) = plt.subplots(1,2, sharex='col', figsize=sp_dims)\n",
    "f.tight_layout()\n",
    "plt.suptitle(plt_title)\n",
    "\n",
    "# Heatmap for A\n",
    "sns.heatmap(test_A_sort, cmap = 'afmhot', xticklabels=50, yticklabels=False, \n",
    "                 vmax=v_max, center = 2, vmin = v_min, robust = True, ax=ax1)\n",
    "ax1.set_xlabel('Time (s)')\n",
    "ax1.set_ylabel(str(len(plot_A.cuid.unique())))\n",
    "ax1.set_xticklabels(xvalues, rotation=0)\n",
    "ax1.set_xlim(0,2.9*100)\n",
    "ax1.set_title('sham')\n",
    "cbar = ax1.collections[0].colorbar\n",
    "cbar.remove()\n",
    "\n",
    "#Heatmap for B\n",
    "sns.heatmap(test_B_sort, cmap = 'afmhot', xticklabels=50, yticklabels=False, \n",
    "                 vmax=v_max, center = 2, vmin = v_min, robust = True, ax=ax2)\n",
    "ax2.set_xlabel('Time (s)')\n",
    "ax2.set_ylabel(str(len(plot_B.cuid.unique())))\n",
    "ax2.set_xticklabels(xvalues, rotation=0)\n",
    "ax2.set_xlim(0,2.9*100)\n",
    "ax2.set_title('nmda')\n",
    "cbar = ax2.collections[0].colorbar\n",
    "cbar.ax.tick_params(labelsize=25)\n",
    "cbar.set_label('Z-score')\n",
    "\n",
    "# Change the end of this next line with a new file name!!\n",
    "# plt.savefig(r\"C:\\Users\\AChub_Lab\\Desktop\\tmp_nmda\\units\\vr_novel_heat.pdf\", transparent=True)\n",
    "\n",
    "plt.show()"
   ]
  },
  {
   "cell_type": "code",
   "execution_count": null,
   "metadata": {},
   "outputs": [],
   "source": [
    "# Lineplot\n",
    "sns.lineplot(x = 'times', y = 'zscore', \n",
    "             estimator = 'mean', \n",
    "             data = vis_resp_df, \n",
    "             hue = 'group',\n",
    "             hue_order = ['sham', 'nmda'],\n",
    "             legend=False,\n",
    "             ci=None) #ci is the error\n",
    "\n",
    "plt.legend(['sham','nmda'], loc=\"upper right\")\n",
    "\n",
    "plt.axhline(y=0, xmin=0, xmax=3, c='black', linewidth=0.5, zorder=0)\n",
    "plt.axvspan(0.5,0.7, color='Gray', alpha=0.25)\n",
    "plt.tick_params(axis='x', rotation=0)\n",
    "plt.xlim(0,2.9)\n",
    "plt.xticks([0,0.5,1,1.5,2,2.5])\n",
    "plt.ylim(-1,3)\n",
    "plt.yticks([-1,0,1,2,3])\n",
    "\n",
    "plt.title(plt_title)\n",
    "plt.xlabel('Time(s)')\n",
    "plt.ylabel('Z-score')\n",
    "\n",
    "# Change the end of this next line with a new file name!!\n",
    "# plt.savefig(r\"C:\\Users\\AChub_Lab\\Desktop\\tmp_nmda\\units\\vr_novel_line.pdf\", transparent=True)\n",
    "\n",
    "plt.show()"
   ]
  },
  {
   "cell_type": "markdown",
   "metadata": {},
   "source": [
    "---"
   ]
  },
  {
   "cell_type": "markdown",
   "metadata": {},
   "source": [
    "---"
   ]
  }
 ],
 "metadata": {
  "kernelspec": {
   "display_name": "Python 3",
   "language": "python",
   "name": "python3"
  },
  "language_info": {
   "codemirror_mode": {
    "name": "ipython",
    "version": 3
   },
   "file_extension": ".py",
   "mimetype": "text/x-python",
   "name": "python",
   "nbconvert_exporter": "python",
   "pygments_lexer": "ipython3",
   "version": "3.8.10"
  }
 },
 "nbformat": 4,
 "nbformat_minor": 4
}
